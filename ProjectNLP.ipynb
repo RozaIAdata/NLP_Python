{
  "nbformat": 4,
  "nbformat_minor": 0,
  "metadata": {
    "colab": {
      "name": "ProjectNLP.ipynb",
      "provenance": [],
      "collapsed_sections": []
    },
    "kernelspec": {
      "name": "python3",
      "display_name": "Python 3"
    },
    "language_info": {
      "name": "python"
    }
  },
  "cells": [
    {
      "cell_type": "markdown",
      "metadata": {
        "id": "xN1Q0eZrups3"
      },
      "source": [
        "# Projet NLP"
      ]
    },
    {
      "cell_type": "code",
      "metadata": {
        "colab": {
          "base_uri": "https://localhost:8080/"
        },
        "id": "yQlbOvJ38T1U",
        "outputId": "5cada247-b030-4fea-aada-4c529d148549"
      },
      "source": [
        "pip install unidecode"
      ],
      "execution_count": null,
      "outputs": [
        {
          "output_type": "stream",
          "text": [
            "Collecting unidecode\n",
            "\u001b[?25l  Downloading https://files.pythonhosted.org/packages/9e/25/723487ca2a52ebcee88a34d7d1f5a4b80b793f179ee0f62d5371938dfa01/Unidecode-1.2.0-py2.py3-none-any.whl (241kB)\n",
            "\r\u001b[K     |█▍                              | 10kB 14.6MB/s eta 0:00:01\r\u001b[K     |██▊                             | 20kB 9.6MB/s eta 0:00:01\r\u001b[K     |████                            | 30kB 7.9MB/s eta 0:00:01\r\u001b[K     |█████▍                          | 40kB 7.4MB/s eta 0:00:01\r\u001b[K     |██████▉                         | 51kB 4.0MB/s eta 0:00:01\r\u001b[K     |████████▏                       | 61kB 4.3MB/s eta 0:00:01\r\u001b[K     |█████████▌                      | 71kB 4.7MB/s eta 0:00:01\r\u001b[K     |██████████▉                     | 81kB 5.2MB/s eta 0:00:01\r\u001b[K     |████████████▏                   | 92kB 5.4MB/s eta 0:00:01\r\u001b[K     |█████████████▋                  | 102kB 4.2MB/s eta 0:00:01\r\u001b[K     |███████████████                 | 112kB 4.2MB/s eta 0:00:01\r\u001b[K     |████████████████▎               | 122kB 4.2MB/s eta 0:00:01\r\u001b[K     |█████████████████▋              | 133kB 4.2MB/s eta 0:00:01\r\u001b[K     |███████████████████             | 143kB 4.2MB/s eta 0:00:01\r\u001b[K     |████████████████████▍           | 153kB 4.2MB/s eta 0:00:01\r\u001b[K     |█████████████████████▊          | 163kB 4.2MB/s eta 0:00:01\r\u001b[K     |███████████████████████         | 174kB 4.2MB/s eta 0:00:01\r\u001b[K     |████████████████████████▍       | 184kB 4.2MB/s eta 0:00:01\r\u001b[K     |█████████████████████████▊      | 194kB 4.2MB/s eta 0:00:01\r\u001b[K     |███████████████████████████▏    | 204kB 4.2MB/s eta 0:00:01\r\u001b[K     |████████████████████████████▌   | 215kB 4.2MB/s eta 0:00:01\r\u001b[K     |█████████████████████████████▉  | 225kB 4.2MB/s eta 0:00:01\r\u001b[K     |███████████████████████████████▏| 235kB 4.2MB/s eta 0:00:01\r\u001b[K     |████████████████████████████████| 245kB 4.2MB/s \n",
            "\u001b[?25hInstalling collected packages: unidecode\n",
            "Successfully installed unidecode-1.2.0\n"
          ],
          "name": "stdout"
        }
      ]
    },
    {
      "cell_type": "code",
      "metadata": {
        "id": "jFO8BaQGS_28"
      },
      "source": [
        "# Import packages\n",
        "import requests\n",
        "from bs4 import BeautifulSoup\n",
        "import time\n",
        "import random\n",
        "import pandas as pd\n",
        "import re\n",
        "import pickle\n",
        "import nltk\n",
        "from nltk.corpus import stopwords\n",
        "from unidecode import unidecode"
      ],
      "execution_count": null,
      "outputs": []
    },
    {
      "cell_type": "markdown",
      "metadata": {
        "id": "89FIczPRejU3"
      },
      "source": [
        "## Scrapping Part\n",
        "Ici on scrappe les commentaires sur ***Apple iPhone X 64Go Gris Sidéral (Reconditionné)*** disponible [Ici](https://www.amazon.fr/Apple-iPhone-Sid%C3%A9ral-Reconditionn%C3%A9-Certifi%C3%A9/dp/B07985C44N/ref=cm_cr_arp_d_product_top?ie=UTF8). Pour récuperer les commentaires, j'ai utilisé ceux avec 5 étoiles pour les positifs et 1 étoile pour les négatifs.\n"
      ]
    },
    {
      "cell_type": "code",
      "metadata": {
        "id": "DI2c9MkhecFZ"
      },
      "source": [
        "# Constants\n",
        "BASE_URL_ONE_STAR='https://www.amazon.fr/product-reviews/B07985C44N/ref=cm_cr_arp_d_paging_btm_next_2?ie=UTF8&filterByStar=one_star&reviewerType=all_reviews&pageNumber={}' \n",
        "BASE_URL_FIVE_STARS='https://www.amazon.fr/product-reviews/B07985C44N/ref=cm_cr_arp_d_paging_btm_next_2?ie=UTF8&filterByStar=five_star&reviewerType=all_reviews&pageNumber={}' \n",
        "HEAD={\n",
        "\"Accept\":\"text/html,application/xhtml+xml,application/xml;q=0.9,image/webp,*/*;q=0.8\",\n",
        "\"User-Agent\":\"Mozilla/5.0 (X11; Ubuntu; Linux x86_64; rv:88.0) Gecko/20100101 Firefox/88.0\"} "
      ],
      "execution_count": null,
      "outputs": []
    },
    {
      "cell_type": "code",
      "metadata": {
        "id": "bhCR3r83qBRs"
      },
      "source": [
        "def get_comments(base_url, selector):\n",
        "  \"\"\"\n",
        "  Get the comments for the given base url and the class selector\n",
        "  \"\"\"\n",
        "  comments=[]\n",
        "  for page in range(0, 25):\n",
        "    # Pause entre 0.5 et 1.5 s\n",
        "    time.sleep(random.uniform(0.5,1.5))\n",
        "    url = base_url.format(page)\n",
        "    r=requests.get(url,headers=head)\n",
        "    #print(url, r.status_code)\n",
        "    soup=BeautifulSoup(r.content)\n",
        "\n",
        "    for elem in soup.findAll('i',attrs={\"class\":selector}):\n",
        "      comment = elem.find_next('div').find_next('div').text\n",
        "      comment = comment.replace('\\n\\n  ', '').replace('\\n\\n', '')\n",
        "      comments.append(comment)\n",
        "  return comments"
      ],
      "execution_count": null,
      "outputs": []
    },
    {
      "cell_type": "markdown",
      "metadata": {
        "id": "PRkdTOoDvetc"
      },
      "source": [
        "#### Commentaires Négatifs"
      ]
    },
    {
      "cell_type": "code",
      "metadata": {
        "id": "TPm5gqdsrUHI"
      },
      "source": [
        "negative_comments = get_comments(BASE_URL_ONE_STAR, 'a-icon a-icon-star a-star-1 review-rating')"
      ],
      "execution_count": null,
      "outputs": []
    },
    {
      "cell_type": "code",
      "metadata": {
        "colab": {
          "base_uri": "https://localhost:8080/"
        },
        "id": "lpkiACWPsA_g",
        "outputId": "6db5b72f-1375-462e-f78f-eee73058256f"
      },
      "source": [
        "negative_comments[0:101]"
      ],
      "execution_count": null,
      "outputs": [
        {
          "output_type": "execute_result",
          "data": {
            "text/plain": [
              "['Le téléphone est bloqué iTunes',\n",
              " 'Le téléphone est bloqué iTunes',\n",
              " \"L'écran affichant des lignes blanches et noires, je l'ai emmené à l'apple store ou ils ont diagnostiqué qu'il ne s'agissait pas d'un IPhone reconditionné mais d'une contrefaçon, la réparation étant donc impossible :l’écran n’était pas d’origine, il est contrefait.Écran lcd et non pas oled avec des puces équivalentes, et des filtres Face ID collés.Le boîtier n’est également pas apple, les finitions sont bonnes mais le boîtier est bien contrefait.Et une étiquette chinoise collé sur la camera en interne.\",\n",
              " 'Globallement satisfaisant mais reconnaissance faciale ne fonctionne pas',\n",
              " 'Téléphone reçu en superbe état sauf que je suis aller chez Apple store et il mon dit que mon écran d’iPhone n’était pas un écran oled mais bien un lcd de plus la face arrière de l’iPhone n’est pas non plus celle d’origine c’est une contrefaçon  je suis vraiment consterner par cela étant donner le prixJe ne suis pas du tout satisfait de mon achatJe souhaite être remboursée ou bien avoir un échange bien sûr avec un de vrai pièce Apple',\n",
              " \"Jai  changé  de chargeur  mais ne s'allume toujours pas\",\n",
              " 'Zéro pointé j’ai payé cette iPhone sois disant remis à neufL’arc qui fait le tour du téléphone est rayéEt accessoirement mon téléphone est bloqué et inutilisable 👏👏👏👏👏',\n",
              " 'À FUIR !!!!!!Vendeur de téléphone reconditionner incompétent, téléphone très beau, mais impossible de téléphoner ou de recevoir des appels. Scandaleux on fait croire au acheteur que les téléphone sont vérifier mais ça fonction principale ne marche pas . Je trouve même scandaleux que ce vendeur puisse vendre sur la plateforme d amazon.  J espère que celui si ne pourras plus vendre ses téléphone . Très déçu et pour les futurs acheteurs tracer votre chemin et allez voir ailleurs.',\n",
              " '\\nYour browser does not support HTML5 video.\\n\\xa0Bonjour à tous je ne recommande pas se produit,franchement je suis très déçu mon téléphone ne fait que de beuguer tout le temps sans le touché il se met sur le plein de page .si vous voyez j’ai mis une vidéo de se qu’il fait .',\n",
              " 'Sur le vendeur  pas de commentaire particulier. En revanche c’est iPhone X : gros pb de surchauffe, en dépit des réglages trouvés sur le Web.Il plante donc régulièrement. Et il est impossible de le relancer tant que la batterie n’est pas déchargée.  La dernière version iOS semble en être la raison.A ce jour il est quasi inutilisable. 700€ a la poubelle',\n",
              " 'Certes c\\'est un iPhoneX reconditionné avec une batterie de mises à jour à faire mais sans son chargeur d\\'origine (remplacé par un chargeur \"made in china\") et son cable en plastique, une vitre de protection posée de travers, le tout emballé dans une boite cartonné qui fait grise mine! Bref, le produit est bien le bon (encore heureux mais tout le reste laisse à désirer!',\n",
              " 'Le téléphone est bloqué iTunes',\n",
              " 'Le téléphone est bloqué iTunes',\n",
              " \"L'écran affichant des lignes blanches et noires, je l'ai emmené à l'apple store ou ils ont diagnostiqué qu'il ne s'agissait pas d'un IPhone reconditionné mais d'une contrefaçon, la réparation étant donc impossible :l’écran n’était pas d’origine, il est contrefait.Écran lcd et non pas oled avec des puces équivalentes, et des filtres Face ID collés.Le boîtier n’est également pas apple, les finitions sont bonnes mais le boîtier est bien contrefait.Et une étiquette chinoise collé sur la camera en interne.\",\n",
              " 'Globallement satisfaisant mais reconnaissance faciale ne fonctionne pas',\n",
              " 'Téléphone reçu en superbe état sauf que je suis aller chez Apple store et il mon dit que mon écran d’iPhone n’était pas un écran oled mais bien un lcd de plus la face arrière de l’iPhone n’est pas non plus celle d’origine c’est une contrefaçon  je suis vraiment consterner par cela étant donner le prixJe ne suis pas du tout satisfait de mon achatJe souhaite être remboursée ou bien avoir un échange bien sûr avec un de vrai pièce Apple',\n",
              " \"Jai  changé  de chargeur  mais ne s'allume toujours pas\",\n",
              " 'Zéro pointé j’ai payé cette iPhone sois disant remis à neufL’arc qui fait le tour du téléphone est rayéEt accessoirement mon téléphone est bloqué et inutilisable 👏👏👏👏👏',\n",
              " 'À FUIR !!!!!!Vendeur de téléphone reconditionner incompétent, téléphone très beau, mais impossible de téléphoner ou de recevoir des appels. Scandaleux on fait croire au acheteur que les téléphone sont vérifier mais ça fonction principale ne marche pas . Je trouve même scandaleux que ce vendeur puisse vendre sur la plateforme d amazon.  J espère que celui si ne pourras plus vendre ses téléphone . Très déçu et pour les futurs acheteurs tracer votre chemin et allez voir ailleurs.',\n",
              " '\\nYour browser does not support HTML5 video.\\n\\xa0Bonjour à tous je ne recommande pas se produit,franchement je suis très déçu mon téléphone ne fait que de beuguer tout le temps sans le touché il se met sur le plein de page .si vous voyez j’ai mis une vidéo de se qu’il fait .',\n",
              " 'Sur le vendeur  pas de commentaire particulier. En revanche c’est iPhone X : gros pb de surchauffe, en dépit des réglages trouvés sur le Web.Il plante donc régulièrement. Et il est impossible de le relancer tant que la batterie n’est pas déchargée.  La dernière version iOS semble en être la raison.A ce jour il est quasi inutilisable. 700€ a la poubelle',\n",
              " 'Certes c\\'est un iPhoneX reconditionné avec une batterie de mises à jour à faire mais sans son chargeur d\\'origine (remplacé par un chargeur \"made in china\") et son cable en plastique, une vitre de protection posée de travers, le tout emballé dans une boite cartonné qui fait grise mine! Bref, le produit est bien le bon (encore heureux mais tout le reste laisse à désirer!',\n",
              " 'Le téléphone est bloqué iTunes',\n",
              " \"Si je me tromp sur le  Vendeur  c'est ( RIGENERATI SRL ) je vous le déconseille leurs produits n'es ni sertifier ni origine appel, leurs écran s'éteint au bout d'une semaine ou deux et quand on réclame un changement ou remboursement ils refuse ou te demande de payer. Alors je vous déconseille d'acheter leurs produits.\",\n",
              " \"Problèmes de livraison et téléphone qui ne fait que s'éteindre, sûrement un problème avec la batterie...\",\n",
              " \"Je ne critiquerais pas le produit en lui-même qui est très bien et correspond à mes attentes mais je critiquerais la livraison et le délais!! Au début la livraison était prévu sous 4-5 jours (ce qui est tout à fait raisonnable), mais me prévenir que mon colis arriverait dans les 24/48h et ce pendant 15 jours est un peu agaçant et quand au bout des ces 15 jours, le service client me dit que de toute façon mon colis est finalement perdu dans un entrepôt et que le transporteur n'est pas le même que celui prévu, je dois finalement attendre 24h pour demander un remboursement mais miracle sans me prévenir mon colis est livré le jour où le remboursement doit s'effectuer et qui est plus est par le livreur initialement prévu...\",\n",
              " \"iPhone reçu dans les temps, mais déçu que à ce prix les téléphone ne sois pas bien vérifié, c'est bien jolie de mettre des verres tremper mais beaucoup moins de voir que des qui n'en pression au milieux de l écran et trop forte le téléphone s éteint et le seul moyen de le rallumer c'est de le brancher, dommage\",\n",
              " 'Le produit est arrivé vite . Il n’était pas dans sa boîte d’origine . Pas d’écouteur et l’iPhone n’avait pas son chargeur d’origine.Après il est reconditionné donc il ne faut pas s’attendre à avoir comme neuf mais la BATTERIE on en parle ...Acheter un iPhone et constater que la batterie se décharge très très rapidement au bout d’une journée ce n’est pas la peine .. Je ne vous recommande pas .',\n",
              " \"\\nYour browser does not support HTML5 video.\\n\\xa0BonjourJ’ai acheté i phone x récondinné..le article c’est pas bien..l'affichage(display mauvais)la haut à gauche a rayé comme line..c’est pas bien display.. dans la l'affichage il y a des damege petite line..vous pouvez verifier avec mon videos..vraiment c’est pas bien article..je peux pas utiliser cette article..vraiment j’ai besoin remboursment..\",\n",
              " 'Produit défectueux, Marche pendant quelques jours et après plus de son, plus de Siri, plus dictaphone, plus d’appels, faut à chaque fois faire une réinitialisation avec iTunes, et le problème revient après quelques jours. Le vendeur cherche à gagner du temps en me disant faudrait essayer réinitialiser Mettre à jour faire si faire ça. J’ai renvoyé le téléphone, le vendeur me propose la réparation, Il n’a pas compris que je veux pas un téléphone avec des problèmes qu’il faut réparer j’ai payé le téléphone qui soi-disant en très bon état. je veux le remboursement intégral de la somme que j’ai payé merci',\n",
              " 'Pitoyable serviceTél reçu dans les tempsMais dès le premier jour le tel a un bugLe son se remet de manière aléatoire à fondImpossible d’écouter de la musique , ça passe son maximum, pareil lors d’un appel en haut parleurService client ; renvoyez nous le tel vous serez remboursé dans 5 à 7 joursEt je fais quoi moi dans téléphone 5 a 7 jours...?J’en rachète j’en, ça fait juste 2x548 € dehorsC’est mon premier essai f’Amazon reniewedJe suis vert!!!!!',\n",
              " \"Très déçue. Écran bloqué dès le début et je m'aperçois que c'est un problème récurrent de la dalle, sur ce modèle en me renseignant. Apple me dit qu'ils prennent en charge la réparation uniquement si toutes les pièces sont d'origine... Alors comme j'ai pris un reconditionné, ben je l'ai ré-expédié évidemment. Ça m'a refroidi des reconditionnés, c'était la première fois que je testais.\",\n",
              " 'Reçu le téléphone après 1 semaine d’utilisation le téléphone c’est mis à Peter les plomb il ouvrait les application il ce mettait à appeler tout seul le reconditionnement fini',\n",
              " 'Le téléphone est bloqué iTunes',\n",
              " 'Mon fils me dit que ce n est pas un vrai et en plus son portable est tombé dans l herbe la vitre arrière cassé et devant maintenant les cristaux liquides sont abîmé et il ne s allume plus',\n",
              " 'Les écouteurs livrés avec l’appareil ne fonctionnent pas,et par ailleurs la fiche en bas du téléphone présente défaillance :Elle ne fonctionne pas correctement avec tous les chargeurs et ne permet pas l’utilisation d’écouteurs  (de marque Apple)Que me conseillez-vous de faire ?',\n",
              " 'Une entreprise qui doit vous vendre un téléphone réparer que du mensonge j’ai reçu le telephone la caméra principale comme vous voyez dans la photo prend des photo en rouge et quand j’ai envoyé le telephone pour le remboursement ils l’ont recu le 15 juillet mais j’attends toujours mon remboursement à éviter !!!',\n",
              " 'J’ai reçu le téléphone sois disant reconditionner a neuf et au bout de quelque jour le téléphone se décharge super vite, et des moment quand je suis à moins de 20% ils s’éteint tout seul et se rallume plus quand je le branche il se rallume avec 30% de batterie et quand je vais dans les réglages surprises état de la batterie «\\xa0réparation\\xa0» donc batterie HS super pour un téléphone sois disant neuf.',\n",
              " \"Batterie défectueuse si la batterie ne tient pas la charge on a pas de téléphone soit disant reconditioné c'est la première des choses changer la batterie très insatisfaite\",\n",
              " 'Déçu... IPhone arrive deposé dans une bête boîte même pas protégé, il a donc beaucoup bougé durant le transport. La caméra frontale de l’iPhone est remplie de poussière, le 3D Touch ne fonctionne pas. Le vendeur ne veut pas renvoyer l’article ni le rembourser... Passez votre chemin. Autant mettre un peu plus de sous et être certain d’avoir un produit en meilleur état que le mien.',\n",
              " 'La batterie n\\'a pas été reconditionnée. Le staut est en \"à réaprer\" dans les paramètres. Ce n\\'est pas du reconditionnement sérieux => retour a l envoyeue',\n",
              " 'Très mauvais reconditionnement . il a a peine 6 mois et il y a déjà des problèmes avec........En attente de remplacement ou de remboursement.je ne conseil pas cette entreprise à part si il rembourse ou si il échange.la ca serais le minimum pour un iPhone de 6 mois et se serais professionnel',\n",
              " 'Article défectueux à l’utilisation, emporté chez Apple. Et surprise téléphone sûrement volé et remis sur le marché avec des pièces  non Apple.',\n",
              " 'J’ai commandé cet iPhone il y environ un an malheureusement au bout de quelques mois de suspects «\\xa0barres\\xa0» ont fait leurs apparitions sans qu’il n’ait chuté ni pris de coups, toujours protégés d’une coque et d’un écran de protection. Je ne recommande pas du tout cette article je suis très dessus !!!',\n",
              " 'Le téléphone est bloqué iTunes',\n",
              " 'Le produit est arrivé sale il ont même pas pris la peine de le nettoyer, la batterie est à 80% ce qui pour un iPhone n’est pas top les écouteurs et chargeur c’est clairement des faux mauvaise qualitéEt la cerise sur le gâteux un des mirco du bas du téléphone ne fonctionne pas.Alors oui éviter si possible grosse arnaque vous pense payer moins chère mais en fin de compte ça vous revient plus chère encore.',\n",
              " 'N’achetez surtout pas l’iPhone s’éteint tout le temps tout seul, il peut rester pendant des heures à redémarrer tout le temps donc impossible de l’utiliser. Je les ai contactés et ils m’ont donné une solution qui ne fonctionne pas. Je suis étudiante j’ai travaillé des heures et des heures pour me payer ce téléphone et au final je suis contrainte à encore en acheter un . J’ai donc mis 660€ à la poubelle. Ne vous faites pas avoir',\n",
              " 'En parfait éta malheureusement en panne en 3 jours après la réception toujours pas de remboursement ce n’est pas honnête heureusement l’équipe Amazon se charge de mon  dossier',\n",
              " \"Attention ne pas acheter d'IPHONE ici deuis Amzone, j'ai reçu un téléphone HS je l'ai retourné et Amazone refuse de me rembourserARNAQUE\",\n",
              " '1. Téléphone defectueux, ne recoit pas le réseau téléphonique!2. Et concernant le service client Amazon: telephone renvoyé il y a maintenant 2 mois et aucun remboursement! le service client ne semble pas très affecté par cet incofort, nous obligeant à les rappeler régulièrement et ne tenant pas leur promesse de nous recontacter sous 72h comme ils aiment le dire à chaque fois... Déçu!',\n",
              " '\\nYour browser does not support HTML5 video.\\n\\xa0Je souhaite échanger mon produit que j’ai acheté suite à son défaut de Face ID Car il fonctionne pas si c’est  possible de rajouter de ma part la différence et avoir un autre modèle pour iPhone XMax.J’ai tous effacer je les remis  à zéro et j’ai enlevé la localisation et je les remis en en mode usine.Cordialement',\n",
              " '\\nYour browser does not support HTML5 video.\\n\\xa0Très déçu c’est vraiment inadmissible pour le prix que j’ai payer je suis vraiment triste en deux mois d’utilisation le téléphone c’est éteint sans raison et écrans noirs. J’ai envoyer un message  au fournisseur je vais renvoyer le téléphone j’espère au moins me faire rembourser ou qu’il me renvoie un nôtre téléphone 😔',\n",
              " 'La qualité de ce téléphone est décevante on m’a fait cadeau de ce téléphone pour mon anniversaire il y a moins d’un an Et je suis contraint de devoir utiliser ce téléphone dans de mauvaise condition car la batterie ne tient pas et je suis obligé de charger pluuuusieuuurs fois par jour mon téléphone.RAJOUTEZ DE L’ARGENT ET PRENEZ EN UN NEUF OU D’OCCASION !',\n",
              " 'J’ai acheter ce téléphone reconditionner et 2 semaine après il marcher déjà plus..',\n",
              " 'Le téléphone chauffe horriblement et n’est pas étanche, la poussière s’est infiltrée dans la caméra...  le vendeur refuse le retour et le remboursement',\n",
              " 'Le téléphone est bloqué iTunes',\n",
              " 'Recu un iphone, écran mal colé, face arriere de mauvaise qualité. pas de prise avec le cable.renvoyé. géniale.',\n",
              " \"Le téléphone a l'air impeccable, mais il ne se charge qu'avec un chargeur sans fil, il chauffe très rapidement et très rapidement après 20 minutes de fonctionnement ... Je ne le recommande pas, je l'ai retourné, je n'ai pas besoin d'un téléphone cassé.\",\n",
              " \"L'appareil est arrivé en très mauvais état écran et dos rayé contour abîmé!Je comprend le principe du reconditionné mais ya des limites surtout que rien n'ai indiqué sur l'annonce..Très déçu j'ai perdu du temps et de l'argent !\",\n",
              " 'A fuir , envoyé a réparé au bout de quelques jours car impossible de me connecter à mon compte Apple, une fois le nouveau reçu la batterie a chuté de 10% en même pas 1 mois ensuite impossible de prendre une photo correct car la vision est flou ! Déçu vu le prix de l’appareil !!!',\n",
              " 'Tres bon Smartphones  livrer en parfait  état  avec deux protections  en verre une a l avant et l autre pour l arrière',\n",
              " 'Très déçue par mon achat, le téléphone étant noté comme en très bon état A tout critère  mais  il ne tient pas la charge. A ce prix là c’est inadmissible',\n",
              " 'Viens de repartir au bout de 15 jours .',\n",
              " 'Produit défectueux à la réception n’a toujours répondus à mon e-mail pour pouvoir retournée la produit',\n",
              " 'L’article bug deja au bout de 4 mois d’achat, la vitre c’est déjà casser également alors qu’elle avez une protection !',\n",
              " \"aspect exterieur parfait,mais on nous entend pas quand on appel et ni quand on film.Inutilisable donc ,car le principe d'un téléphone c'est pour appelé.sa fait 17 jours que j'ai retourner le téléphone et toujours pas de remboursement du vendeur.a eviter\",\n",
              " 'Le téléphone est bloqué iTunes',\n",
              " \"J'ai commander le 21/04/2021 et le 28/04 /2021 Ils mon dit qui était perdu et ils  vent me rembourser dans 7ou 8 joursJ'ai regretté pour cette commandeIls mon pris mon argent pour rien\",\n",
              " 'Acheté en juillet 2019 , il est déjà défectueux.Le Face ID ne fonctionne plus et l iPhone s éteint sans arrêt et s allume quand il a envie .Extrêmement déçu .',\n",
              " 'le prix est beaucoup trop élevé pour un téléphone avec de faux écouteurs, un faux chargeur et un verre trempé qui ne va même  pas jusqu’au bout de l’écran. En plus de ça le téléphone est beaucoup trop lent comparé aux iphone X d’origine.',\n",
              " 'Produit retourné le micro n’est fonctionnait pas',\n",
              " 'Le iPhone a un problème de tacle quand j’écris il ne fonctionne pas correctement j’ai demander un échange ou remboursement il me demande de le renvoyer mes il faut que je paye pour l’envoyer se que je trouve pas normal comment faire pour réclamer se ci ?',\n",
              " 'n téléphone vendu comme remise à neuf complètement mensonger écran et coque  rayé, la reconnaissance facial ne fonctionne pas ....vendeur antipathique qui ne reconnaît pas ces erreurs méfiez vous de ce vendeurs arnaque assurée',\n",
              " 'Surtout ne pas acheter les téléphone sur se site car mon dernier achat est pas conforme à la description en se qui concerne la livraison le colis a bien été ouvert pas de films sur le téléphone bref faut vraiment éviter si vous pouvez',\n",
              " 'Pour un achat à ce prix là je m’attendais à avoir un chargeur original ou encore les écouteurs . Je ne m’amuserai plus à acheter pour un tel montant sur Amazon si c’est pour avoir  la moitié de mon colis qui n’est pas original',\n",
              " 'Réception téléphone caméra photo flou qui marche une fois sur 10 ils vendent des téléphone sans les contrôler avant quel honte.',\n",
              " 'Je suis vraiment déçu !J’ai reçu le téléphone il y a environ 15 jours l’état de la batterie est déjà en réparation !Sachant que le téléphone je le charge uniquement 1 fois par jour.Très décevant !',\n",
              " 'Le téléphone est bloqué iTunes',\n",
              " \"je ne recommande pas ce portable je l'ai reçu en bonne état serte mais j'ai des beug exemple des application se lance toute seul tout qui beug n'acheter pas ce portable demande de remboursement immédiate très deçu\",\n",
              " 'produit recu qui ne fonctionne pas, jai demander un remboursement et un retour il y a environ 15jours, et aucune nouvelles. De plus impossible de joindre le vendeur. si vous voulez perdre 540eurs allez y foncer !',\n",
              " 'Pas comptant du tout au bout de trois jours l’écran délire et reste appuyé peut plus rien faire juste merci pour le retour gratuit et le remboursement',\n",
              " \"Gros Problème avec cette Iphone X. Il envoie tout seul des photos, ce décharge vite et quand on est sur un réseau sociaux il plante, écran Noir et impossible de l'éteindre :/. Tres très déçu de l'iphone .\",\n",
              " 'une vrai misere le telephonne ne foctionne pas ecran fige restauration itunes faites toujours rien un vrai fouttage de guele du vendeur qui met des plombs a repondre  je deconseille vraimment cette achat',\n",
              " 'Quelle déception pour le prix. Pas de chargeur, pas d ecouteurs, écran de pauvre qualité, une belle arnaque !Meme pas de facture pour se retourner, un vrai scandal... dommage de voir Amazon s associé avec ce genre de fournisseur',\n",
              " \"iPhone arrivé défectueux je suis très déçu je l'ai donc renvoyé j'attend mon remboursement depuis plus d'une semaines ce qui est beaucoup trop long car j'aimerais pouvoir m'en commander un autre avant les fête.\",\n",
              " 'Il bug sa fait un jour que je l’utIlise',\n",
              " \"L'phone presentait bien mais en grattant un peut plus loin , je me suis aperçut que le micro ne marchais pas , donc très déçut ce qui as valu un retour et un remboursement.\",\n",
              " 'Très déçu du produit acheté le 9 octobre déjà en panne et aucune réponse du vendeur et Amazon pareil en attente du remboursement qui arrive pas cadeau à mon fils qui fait la tête je dit pas merci très en colère',\n",
              " 'Le téléphone est bloqué iTunes',\n",
              " \"On pensait que c'était parfait. sauf que les micros ne marchent pas. Lorsqu'on appelle ou on enregistre un son, ou a un fort grésillement toutes les 4 secondes. On va donc le rendre.\",\n",
              " \"Après un premier téléphone défectueux commandé chez ce partenaire d'Amazon, ce deuxième téléphone est tout rayé sur le côté. C'est décevant je ne commanderai plus chez ce partenaire.\",\n",
              " \"Cet iphone n'est pas un modèle européen.C'est indiqué nulle part.c'est un modèle A1865 livré pour USA (Sprint Wireless, Verizon), Hong Kong, Australia, New Zealand, China\",\n",
              " 'pas conforme',\n",
              " \"Rayures visibleBatterie se décharge rapidementTrès déçuJe l'ai offert en cadeau j'ai honteJe regrette l'achat\",\n",
              " 'La batterie diminue hyper vite l’état de la batterie était à 87%',\n",
              " 'Micro qui ne fonctionne pas . Comment peut-on vendre des article reconditionner sans les tester avant de les mettre en ventes.',\n",
              " 'Téléphone reçu sans problème mais problèmes , bug en tout genre , impossible parfois de raccrocher etc ... même une occasion aurait mieux marché ...',\n",
              " 'Le táctil de l’Écran ne fonctionne pas',\n",
              " 'Bonjour je suis pas satisfait de mon achatL’iPhone X de 256 go a un problème d’activationMerci de faire le nécessaire',\n",
              " 'Le téléphone est bloqué iTunes',\n",
              " 'Tout le tour du téléphone en argent est rayé pffff dégoûter acheter pas chez lui 380e pour ça cela ne vaut vraiment pas la peine']"
            ]
          },
          "metadata": {
            "tags": []
          },
          "execution_count": 112
        }
      ]
    },
    {
      "cell_type": "markdown",
      "metadata": {
        "id": "10mylJnpvtdA"
      },
      "source": [
        "#### Commentaires Positifs"
      ]
    },
    {
      "cell_type": "code",
      "metadata": {
        "id": "WYqGUvCwrjEL"
      },
      "source": [
        "positive_comments = get_comments(BASE_URL_FIVE_STARS, 'a-icon a-icon-star a-star-5 review-rating')"
      ],
      "execution_count": null,
      "outputs": []
    },
    {
      "cell_type": "code",
      "metadata": {
        "colab": {
          "base_uri": "https://localhost:8080/"
        },
        "id": "ZVD_5KQetDwQ",
        "outputId": "ef52a517-8e44-43e6-ecc7-3f2cb53b5dd2"
      },
      "source": [
        "positive_comments[0:101]"
      ],
      "execution_count": null,
      "outputs": [
        {
          "output_type": "execute_result",
          "data": {
            "text/plain": [
              "['Produit reconditionné MAIS vendu comme tel.Aucunes rayures extérieures, fonctionne parfaitement et le tout garantie Apple CARE pendant 10mois. Seul bémol pas de kit piéton et chargeur non OEM. Mais à ce prix (750e le 256gb) on va pas se plaindre',\n",
              " 'Vraiment très satisfaite de cet iPhone reconditionnéReçu bien emballé avec un verre trempé !Il y a aucunes rayures, il est comme neufJe recommande !',\n",
              " 'Vendeur proactif, livraison très rapide, produit conforme à la description. Une vraie bonne affaire à saisir. Je recommande !',\n",
              " 'Cela fais maintenant plusieurs jours que je teste le produit et je suis très satisfaite. J’avais un peu d’appréhension vu la plupart des commentaires mais le téléphone est nickel , esthétiquement et intérieurement.La batterie tient très bien, le téléphone reçu comme neuf , tout marche merveilleusement bien. Le téléphone à été reçu dans les temps avec chargeur uniquement. C’est le seul petit problème que j’ai trouver, ce serait bien de livrer des écouteurs avec.',\n",
              " 'Quelques rayures visibles quand on regarde de près, batterie a 98% de son autonomie, un chargeur de 1m.Pas d’écouteurs ou d’adaptateur, pas de boite d’origine.Propre, fonctionnel, envoi rapide, soigné, je recommande ce produit et le vendeur',\n",
              " 'Super ! Vendeur suprême mobile FR est super .iPhone quasi neuf avec une micro rayure sur l’écran, le câble bonne qualité de marque sharkk mais le chargeur bof',\n",
              " 'Au vu des commentaires j’ai eu très peur ! J’ai lu les avis après avoir commandé !Finalement téléphone en parfait état ! AUCUNE rayure, état de la batterie : 92% chargeur nickel ! Petit bémol : écouteur ne fonctionne pas mais honnêtement au vu de ce que j’ai lu c’est qu’un détail!J’ai vérifié chaque détail et tout est parfait... je m’en suis servi de 12h à 19h non stop pour remettre mes informations à l’intérieur et j’ai toujours de la batterie !Pas déçu maintenant a voir sur la durée',\n",
              " 'iPhone X 256 Go reconditionee oui c’est vrai , mais il es comme NEUF aucun pb ni defaut franchement c’est top , le prix d’un occasion pour un produit ( kazi ) NEUFA ne pas hesiter une seule seconde',\n",
              " 'Amazon m’avait donné mardi 14 comme date de livraison, finalement je l’ai reçu le samedi d’avant ! Bien protégé dans un carton Amazon + une boîte bien fermée où on trouve un chargeur (non apple) et le téléphone emballé dans deux sachets transparents bien calé !Le téléphone n’a aucune rayure, il est parfait ! Il possède une autonomie de batterie de 86% ce qui est déjà très bien !De plus il est envoyé avec déjà un écran de verre posé dessus et un peu de batterie ce qui permet de l’allumer tranquillement !Travail très professionnel je recommande vivement ! Le téléphone n’a aucun bug, il est comme neuf !MERCI !',\n",
              " 'Je ne regrette absolument pas cet achat ! Le téléphone est comme neuf. C’est la première fois que j’achète d’occasion et il n’y a aucune rayure. La seule chose qui montre que le téléphone n est pas neuf est l’état de la batterie qui est à 84%. Je suis vraiment contente. De plus, le téléphone était très bien emballé, disposé dans sa boîte et j ai reçu également une coque, une vitre de protection, un chargeur et des écouteurs ! J’ai été aussi livrée un jour en avance. Merci beaucoup !',\n",
              " 'Produit reconditionné MAIS vendu comme tel.Aucunes rayures extérieures, fonctionne parfaitement et le tout garantie Apple CARE pendant 10mois. Seul bémol pas de kit piéton et chargeur non OEM. Mais à ce prix (750e le 256gb) on va pas se plaindre',\n",
              " 'Vraiment très satisfaite de cet iPhone reconditionnéReçu bien emballé avec un verre trempé !Il y a aucunes rayures, il est comme neufJe recommande !',\n",
              " 'Vendeur proactif, livraison très rapide, produit conforme à la description. Une vraie bonne affaire à saisir. Je recommande !',\n",
              " 'Cela fais maintenant plusieurs jours que je teste le produit et je suis très satisfaite. J’avais un peu d’appréhension vu la plupart des commentaires mais le téléphone est nickel , esthétiquement et intérieurement.La batterie tient très bien, le téléphone reçu comme neuf , tout marche merveilleusement bien. Le téléphone à été reçu dans les temps avec chargeur uniquement. C’est le seul petit problème que j’ai trouver, ce serait bien de livrer des écouteurs avec.',\n",
              " 'Quelques rayures visibles quand on regarde de près, batterie a 98% de son autonomie, un chargeur de 1m.Pas d’écouteurs ou d’adaptateur, pas de boite d’origine.Propre, fonctionnel, envoi rapide, soigné, je recommande ce produit et le vendeur',\n",
              " 'Super ! Vendeur suprême mobile FR est super .iPhone quasi neuf avec une micro rayure sur l’écran, le câble bonne qualité de marque sharkk mais le chargeur bof',\n",
              " 'Au vu des commentaires j’ai eu très peur ! J’ai lu les avis après avoir commandé !Finalement téléphone en parfait état ! AUCUNE rayure, état de la batterie : 92% chargeur nickel ! Petit bémol : écouteur ne fonctionne pas mais honnêtement au vu de ce que j’ai lu c’est qu’un détail!J’ai vérifié chaque détail et tout est parfait... je m’en suis servi de 12h à 19h non stop pour remettre mes informations à l’intérieur et j’ai toujours de la batterie !Pas déçu maintenant a voir sur la durée',\n",
              " 'iPhone X 256 Go reconditionee oui c’est vrai , mais il es comme NEUF aucun pb ni defaut franchement c’est top , le prix d’un occasion pour un produit ( kazi ) NEUFA ne pas hesiter une seule seconde',\n",
              " 'Amazon m’avait donné mardi 14 comme date de livraison, finalement je l’ai reçu le samedi d’avant ! Bien protégé dans un carton Amazon + une boîte bien fermée où on trouve un chargeur (non apple) et le téléphone emballé dans deux sachets transparents bien calé !Le téléphone n’a aucune rayure, il est parfait ! Il possède une autonomie de batterie de 86% ce qui est déjà très bien !De plus il est envoyé avec déjà un écran de verre posé dessus et un peu de batterie ce qui permet de l’allumer tranquillement !Travail très professionnel je recommande vivement ! Le téléphone n’a aucun bug, il est comme neuf !MERCI !',\n",
              " 'Je ne regrette absolument pas cet achat ! Le téléphone est comme neuf. C’est la première fois que j’achète d’occasion et il n’y a aucune rayure. La seule chose qui montre que le téléphone n est pas neuf est l’état de la batterie qui est à 84%. Je suis vraiment contente. De plus, le téléphone était très bien emballé, disposé dans sa boîte et j ai reçu également une coque, une vitre de protection, un chargeur et des écouteurs ! J’ai été aussi livrée un jour en avance. Merci beaucoup !',\n",
              " 'Franchement d’après tout les commentaires j’ai hésitez ..Et au final super pas de coup j’ai juste une griffe sur l’écran .Manque juste écouteurs ou même le câble pour le câble auxiliaireNiveau batteur 93% a voir dans le temps mais je recommande',\n",
              " 'Super produit conforme à la description. Livré dans les temps avec un verre trempé à lavant et à l’arrière. A noter que le téléphone peut avoir quelques rayures sur les côtés UNIQUEMENT. Livré avec un chargeur officiel «\\xa0Apple\\xa0». Seul détail qui me chiffonne, le packaging... vraiment léger : pas très bien protégé !',\n",
              " \"Reçu rapidement dans un emballage soigné avec le cable, le chargeur et le casque audio spécial Iphone (fiche non jack). Il était en plus pourvu d'un coque silicone et d'une protection vitrée.A ce jour, le transfert des données de mon ancien Iphone est terminé. J'y ai installé mon compte. J'ai connecté mes appareils Apple ou pas sans problème. La charge me semble correcte.Reste à voir dans la durée.\",\n",
              " \"Au vue des commentaires postés pour ce vendeur... J'ai eu des gros doutes, et ne m'attendais pas a avoir un produit de cette qualité dans les mains ! L'iphone est AUTHENTIQUE, il suffit d'une vérification sur le site d'Apple, le numéro de série du téléphone et le tour est joué.La batterie est totalement neuve ! 100% de capacité !Aucune rayure, fissure ou autre, le téléphone est vraiment comme neuf ! Et a un prix très honnête !De plus, un protège écran est installé, ce qui n'était pas prévu (d'après les avis existants encore une fois.)N'écoutez pas les avis ! Vous pouvez y aller les yeux fermés.Ah j'oubliais ! Le téléphone est garanti un an par le vendeur !\",\n",
              " \"Manque juste l'écouteur...\",\n",
              " 'Je suis trop contente de cet iPhone. La boîte était abîmée mais franchement on s’en fiche! A l’intérieur j’avais le tél bien sûr avec écouteurs, chargeur, une coque transparente et même un verre de protection 👍🏻😃 le tél est impeccable, 2 micro rayures sur le verre mais elles ne se voient même plus avec le verre par dessus. Tout le monde m’a dit que j’avais fait une bonne affaire ! C’est mon premier iPhone et c’est génial. Merci au vendeur, il est professionnel et ça devient rare!👏🏻',\n",
              " 'téléphone comme neuf parfait batterie à 99% d’autonomie aucunes rayures aucuns problèmes de beug livraison rapide ,je l’avais commandé le jeudi reçu le mercredi suivant,RAS pour le moment seul soucis les écouteurs mais j’ai des écouteurs donc cela ne m’a pas déranger ,adaptateur et chargeur niquel et vraiment pas chère au top merci amazon comme d’habitude.',\n",
              " 'J’ai reçu mon iPhone après 2 jours... c’était impressionnante de voir le presentation de ma commande! Le téléphone était dans une boîte avec corde et écouters plus garantie! J’avais l’impression que c’était toute neuf! Je peux vraiment conseiller ce vendeur pour qualité de produits plus ce bon prix! Bravo et merci... je suis ravi!',\n",
              " 'C’est bien l’article annoncé c’est à dire l’iphone avec un blister, le câble Lightning, son chargeur classique et sa pine sim dans un sachet c’est tout.Batterie chargée à 50% et durée de vie à 90%',\n",
              " 'Excellent étatAbsolument comme neufBatterie excellentePas d’écouteurs dommage mais rien a redire sur l’iPhone je recommande vivement ce vendeur et son professionnalismeReçu 3 jours après !',\n",
              " 'Bonjour après vérification sur l’état du téléphone niveau extérieur il est parfait maintenant au niveau intérieur c’est-à-dire la batterie en allant voir sa capacité de recharge maximale elle est à  84 % Je trouve dommage de payer un téléphone aussi cher pour ne pas avoir une qualité de battery À 95%En plus en achetant un iPhone même reconditionné j’aurais dû au moins avoir un casque audio pour aller avec la boîte où étaient stockés et ranger le téléphone quand je l’ai reçu n’est pas une boîte Apple c’est bizarre',\n",
              " \"Téléphone comme neuf qui fonctionne parfaitement.Vient avec un an de garantie (qui avait fonctionné pour un autre tél. acheté chez le même vendeur, pour une réparation auprès d'Apple).Pas de boîte d'origine ni de câble d'origine, mais vu le prix, cela ne m'a pas dérangé\",\n",
              " 'Appareil en excellent état et fonctionnant très bien: conversations téléphoniques, téléchargements. Fonctionnement des applis, appareil photo/caméra.Merci beaucoup, vendeur à conseiller (je n’ai pas testé l’étanchéité!!!)CordialementAlain Comte',\n",
              " \"IPhone recondition net en très bonne état fonctionne très bien avec verre trempé installé chargeur et écouteurs bs de gamme mais bon cela reste de l'occasion\",\n",
              " 'J’ai acheté ce téléphone pour la fête des mères . Très bel appareil en très bon état . Je ne regrette pas mon achat . J’en suis vraiment très content',\n",
              " 'Reçu rapidement et avec remise en main propre.Très bon état et aucun problème depuis l’achat. Bon rapport qualité prix.Je recommande !',\n",
              " 'Excellent achat, portable neuf, très haute qualité, à en oublier qu il s agit d un reconditionne, vendeur ultra professionnel, à recommander sans hésitation',\n",
              " 'Produit reçu rapidement et conforme à la description du vendeur, tout fonctionne parfaitement, pas de rayures ou de chocs présent sur ce dernier, débloqué tout opérateur et vitre en verre trempé posé sur l’écran.Reste à savoir si le téléphone va dans la durer dans le temps.Seul bémol ce dernier est seulement livré dans un simple carton, le câble ainsi que le chargeur (Apple) se baladaient dans le colis sans aucune protection...',\n",
              " \"Livraison FEDEX avec suivi reçu en 48h d'italie , etat de la batterie a 100pour100 iphone trés beau meme en 2021avoir avec le temps maintenant\",\n",
              " 'Téléphone arrivé avec la camera arrière de cassée, 4 mois après le téléphone beug, obliger d’éteindre mon téléphone à chaque fois que je veux passer en 4g à la wifi et vice versa, problèmes avec les appels, de plus je n’ai pas reçu de boîte d’écouteur ainsi qu’un chargeur ! J’ai déjà commander plusieurs téléphone reconditionné et je n’ai jamais eu de soucis.',\n",
              " \"Bonjour je suis très content de mon achat iphone x neuf vraiment rien à dire reçu aujourd'hui sachant que je l'ai commandé la veille l'iphone est fluide beau batterie top franchement une très bonne affaire bonne journée\",\n",
              " 'iPhone X 64Go noir commander le 10 mai arriver le 14 mai ! Très bonne état pas une seule rayure, 91% de batterie (au niveau de la capacité), vendu avec les écouteurs et l’adaptateur Jack alors que dans la description il n’y était pas censé avoir. Je recommande le revendeur !',\n",
              " \"Le portable et pour mon fils. Juste il ma fait comprendre que la batterie charger bien jusqu'à 90 mais au-delà il charger beaucoup moins vite après il a peur qu'on soit obligé de changer la batterie bientôt j'espère que non .et l'embout du chargeur chauffé alors on a changé avec un autre qu'on avait maintenant il ne chauffe plus. A par sa super.\",\n",
              " 'Après 10 jours d’utilisation le téléphone est impeccableL’écouteur par contre non fonctionnelle mais le prix du téléphone justifie cela (écouteur non original)Bref je suis totalement satisfaite',\n",
              " 'Superbe téléphone , envoie soigner , RAS sur le produit même reconditionné , gros plus pour l’ajout du verre trempé à l’achat j’en ai même était surpris ! Je recommande 100%',\n",
              " 'Très beau produitComme neufLivraison soigné',\n",
              " \"Bonjourle produit était livré vite ( le jour après la commande) ça va faire une semaine que je l'utilise, et je suis très satisfait. Il était comme neuf. Dans la boite la bonne paire des écouteur ( pas apple mais la musique résonne bien) et un chargeur ( par cotre l'adaptateur se réchauffe vite) sinon tout fonction bien.\",\n",
              " 'Au topCommande livre rapidementAvec coque et verre trempéJe l’ai depuis début mars 2021 il fonctionne correctement tiens correctement la batterie',\n",
              " 'commandé chez  hexamobile, iphone parfait comme neuf ,',\n",
              " \"Très content de ce téléphone.  La durée de vie de la batterie est excellente même lorsqu'elle est utilisée pour des jeux, etc. Est venu emballé comme si je l'avais acheté neuf, y compris un étui et des protecteurs d'écran.\",\n",
              " \"Je l'est pris pour l'offrir à ma mère, il est arriver en une journée, ma mère et ravie, pas une rayure ou un défaut, produit verte reconditionne mais on dirait clairement du neuf, oui accessoire pas certifier Apple mais deux chargeur !\",\n",
              " 'iPhone dans un parfait état, aucune rayure, comme neuf. Seul bémol : la batterie était complètement hs, j’ai donc envisagé de la faire changer, mais je me suis rendu compte que le problème venait du chargeur fournit qui faisait buger le téléphone. J’en ai donc acheter un nouveau certifié Apple',\n",
              " 'iPhone X très solide et à fait le bonheur de celui qui l’a reçu',\n",
              " 'Juste parfait ! Comme neuf à moitié prix super !',\n",
              " 'BATTERIE QUI CHAUFFE PRIX ELEVE',\n",
              " 'Il est plus grand que mon ancien iPhone je valide',\n",
              " \"\\nYour browser does not support HTML5 video.\\n\\xa0Très satisfaite, livrée à l'avance fonctionne parfaitement reçu avec coque, verre trempé, chargeur et écouteurs.\",\n",
              " 'Quel que coud vraiment lège fonctionne très bien cela fait maintenant 7 mois que je l’es jamais eux de beug tout marche parfaitement très bien protéger reçu avec écran protection avant est arrière super très contente pour le prix et reçu assez rapidement 1 semaine',\n",
              " 'j’ai contacté le vendeur (phone recycle solution - reconditionneur français) pour confirmer le grade du téléphone. réponse dans la journée, ils m’ont confirmé un grade A+.téléphone livré avec un jour d’avance.le téléphone est impeccable. aucune rayure, batterie à 100%.tres satisfait',\n",
              " 'Livraison rapide , produit en excellent état sans rayures, tout fonctionne parfaitement bien , à voir à long terme.Dommage que ça n’a pas été livré dans son emballage d’origine ,mais produit reconditionné donc ça peut se comprendre, mais tous les accessoires étaient présents.',\n",
              " 'Super téléphone commeNeuf livraison très rapide',\n",
              " 'Similaire à tous les i phones',\n",
              " 'Ma fille en ai super contente !',\n",
              " 'ras',\n",
              " 'Contente de la commande de mon téléphone. Par contre j’avais commandée une coque et un verre trempé je ne les aient jamais reçu.Ça commence à faire beaucoup. Car ma seconde commande. Idem',\n",
              " 'Comme neuf.',\n",
              " \"L'iPhone est arrivé à l'heure et est parfaitement fonctionnel. L'emballage est vraiment plaisant, on n'a pas l'impression d'avoir un téléphone d'occasion.\",\n",
              " 'Bonjour j’ai acheté un iPhone X chez Amazone j’en suis très content c’est quand même un bon produits du matériel qui est quand même assez robuste Je ne suis pas déçu',\n",
              " '👍',\n",
              " 'Le rapport qualité prix est excellent! Le portable est comme neuf et il est livré avec écouteurs et le chargeur. La commande est arriver avec une jolie surprise puisque j’ai également reçu une coque et une vitre de verre trempé!! Je suis très satisfaite de ma commande! 😁',\n",
              " \"Merci j'ai bien ruçe mon telefon🥰🥰🥰👍👍👍👍👍👍👍\",\n",
              " 'Correspond a la \"promesse\" ... Parfait état, pas de rayures, ni sur l\\'écran ni sur l\\'arriere.',\n",
              " 'Super téléphone portable Rien a regretter',\n",
              " 'Franchement je suis trop contente de mon achat, c’est super !! Tout fonctionne parfaitement merci',\n",
              " 'Jolie mes le tactil ce blok',\n",
              " \"Très bien reçu rapidement rien a signaler pour l'instant\",\n",
              " 'Produits commandés hier arrivés ce matin en commandes express. Colis emballé de manière impeccable, pour ma part le téléphone est arrivé en état presque neuf. Tout fonctionne parfaitement et des écouteurs et un chargeur à été fourni.',\n",
              " 'Les écouteurs auraient été un plus',\n",
              " 'Très bien et très complet je suis très satisfait',\n",
              " 'En utilisant longtemps sur une application il chauffe surtout le bouton éteint/allume.',\n",
              " 'Pour un produit recommandé c’est très propre, comme neuf d’esthétique, la batterie à 88% c’est bien, un peu de saleté dans le haut parleur frontal mais mis à part, aucune difficulté de connexion ou autre, pour ce prix je recommande',\n",
              " \"Dommage qu'il n'y a pas avec des écouteurs iPhone. Si non tout parfait.Cordialement\",\n",
              " 'Le téléphone correspond à mes attentes il est comme neuf aucune rayure avec chargeur et écouteurs compris dedans la batterie est à plus de 80% il est au dessus de mes attente livraison très rapide en même pas deux jours je recommande fortement',\n",
              " 'Téléphone pas fiable, qui s’est éteint sans raison, retour chez le vendeur, celui ci n’a fait que l’ouvrir, mal remontéJe ne recommande pas ce vendeur',\n",
              " 'Reçu rapidement. On a l’impression qu’il était neuf. Batterie  à 100%',\n",
              " \"Téléphone reçu très bien emballé.  Le téléphone tout neuf aucune rayure génial pour un reconditionné et fonctionne très bien, je suis  très contente chargeur neuf pas d'oreillettes\",\n",
              " 'Le produit était très bien emballé . Je souligne la rapidité d’expédition et l’iPhone reconditionné est d’excellente qualité . Je vous remercie pour la coque et le film de protection offert avec ma commande',\n",
              " 'Apres quelques soucis concernant l’importation de la sauvegarde et la restauration du telephone celui-ci fonctionne parfaitement!Pas une seule trace d’usures ou rayures!',\n",
              " 'Produit de belle qualité avec une batterie à 100/100',\n",
              " 'Pour un téléphone re-conditionné, il est très fonctionnel et à aucun problème. Pas neuf évidement mais très utilisable et très heureuse d’avoir tenté le coup.',\n",
              " 'Mon conjoint l’a acheté et il marche super bien. La batterie fonctionne très bien et il n’y a aucun soucis !',\n",
              " \"Bonjour,j'ai commandé cet article afin de l'offrir pour Noël.Produit et vendeur au top qui a gentiment procédé à un petit geste commercial pour retard de colis.Vous pouvez lui faire confiance,vendeur très sérieux!\",\n",
              " 'Téléphone reconditionnne qui correspond parfaitement à la description et livre avant la date prévu rien à redire merci à ce marchand pour son sérieux!!!',\n",
              " 'Très bon produit',\n",
              " 'Conforme à la description, reçu dans les délais, avec tous les accessoires y compris une coque et un film de protection pour l’écran. Très satisfaite',\n",
              " 'Rien à dire, il est parfait',\n",
              " 'bonne qualité  étape neuf pour le prix',\n",
              " 'Produit en très bon état, rapport qualité prix très satisfaisant. Des accessoires ajoutés auxquels on ne s’attendait pas (ear pods)',\n",
              " 'aucun soucis depuis que je lai reçu',\n",
              " \"Très bon état, marche bien. Batterie à 85% de capacité, ce qui est normal, vu qu'il s'agit d'un téléphone d'occasion\",\n",
              " 'Reçu en 2 jours, état impeccable comme neuf et fonctionne très bien.Etat de la batterie 91%. packaging très bon, écouteurs et chargeur adaptables fournis comme expliqué  dans l annonce, rien à redire.excellent']"
            ]
          },
          "metadata": {
            "tags": []
          },
          "execution_count": 114
        }
      ]
    },
    {
      "cell_type": "markdown",
      "metadata": {
        "id": "R3XO6pRhwGY5"
      },
      "source": [
        "## Création d'un Data Frame"
      ]
    },
    {
      "cell_type": "code",
      "metadata": {
        "id": "GPlC1v-KuV5z"
      },
      "source": [
        "values=[]\n",
        "values.extend([1]*100)\n",
        "values.extend([0]*100)\n",
        "\n",
        "comments = []\n",
        "comments.extend(positive_comments[0:100])\n",
        "comments.extend(negative_comments[0:100])"
      ],
      "execution_count": null,
      "outputs": []
    },
    {
      "cell_type": "code",
      "metadata": {
        "id": "XKz-MwaFuV9W"
      },
      "source": [
        "df = pd.DataFrame({'commentaire': comments, 'label': values})"
      ],
      "execution_count": null,
      "outputs": []
    },
    {
      "cell_type": "code",
      "metadata": {
        "colab": {
          "base_uri": "https://localhost:8080/",
          "height": 357
        },
        "id": "tdpst_xNxNAc",
        "outputId": "1070f6f7-57a1-4310-c827-5006b24f8066"
      },
      "source": [
        "df.head(10)"
      ],
      "execution_count": null,
      "outputs": [
        {
          "output_type": "execute_result",
          "data": {
            "text/html": [
              "<div>\n",
              "<style scoped>\n",
              "    .dataframe tbody tr th:only-of-type {\n",
              "        vertical-align: middle;\n",
              "    }\n",
              "\n",
              "    .dataframe tbody tr th {\n",
              "        vertical-align: top;\n",
              "    }\n",
              "\n",
              "    .dataframe thead th {\n",
              "        text-align: right;\n",
              "    }\n",
              "</style>\n",
              "<table border=\"1\" class=\"dataframe\">\n",
              "  <thead>\n",
              "    <tr style=\"text-align: right;\">\n",
              "      <th></th>\n",
              "      <th>commentaire</th>\n",
              "      <th>label</th>\n",
              "    </tr>\n",
              "  </thead>\n",
              "  <tbody>\n",
              "    <tr>\n",
              "      <th>0</th>\n",
              "      <td>Produit reconditionné MAIS vendu comme tel.Auc...</td>\n",
              "      <td>1</td>\n",
              "    </tr>\n",
              "    <tr>\n",
              "      <th>1</th>\n",
              "      <td>Vraiment très satisfaite de cet iPhone recondi...</td>\n",
              "      <td>1</td>\n",
              "    </tr>\n",
              "    <tr>\n",
              "      <th>2</th>\n",
              "      <td>Vendeur proactif, livraison très rapide, produ...</td>\n",
              "      <td>1</td>\n",
              "    </tr>\n",
              "    <tr>\n",
              "      <th>3</th>\n",
              "      <td>Cela fais maintenant plusieurs jours que je te...</td>\n",
              "      <td>1</td>\n",
              "    </tr>\n",
              "    <tr>\n",
              "      <th>4</th>\n",
              "      <td>Quelques rayures visibles quand on regarde de ...</td>\n",
              "      <td>1</td>\n",
              "    </tr>\n",
              "    <tr>\n",
              "      <th>5</th>\n",
              "      <td>Super ! Vendeur suprême mobile FR est super .i...</td>\n",
              "      <td>1</td>\n",
              "    </tr>\n",
              "    <tr>\n",
              "      <th>6</th>\n",
              "      <td>Au vu des commentaires j’ai eu très peur ! J’a...</td>\n",
              "      <td>1</td>\n",
              "    </tr>\n",
              "    <tr>\n",
              "      <th>7</th>\n",
              "      <td>iPhone X 256 Go reconditionee oui c’est vrai ,...</td>\n",
              "      <td>1</td>\n",
              "    </tr>\n",
              "    <tr>\n",
              "      <th>8</th>\n",
              "      <td>Amazon m’avait donné mardi 14 comme date de li...</td>\n",
              "      <td>1</td>\n",
              "    </tr>\n",
              "    <tr>\n",
              "      <th>9</th>\n",
              "      <td>Je ne regrette absolument pas cet achat ! Le t...</td>\n",
              "      <td>1</td>\n",
              "    </tr>\n",
              "  </tbody>\n",
              "</table>\n",
              "</div>"
            ],
            "text/plain": [
              "                                         commentaire  label\n",
              "0  Produit reconditionné MAIS vendu comme tel.Auc...      1\n",
              "1  Vraiment très satisfaite de cet iPhone recondi...      1\n",
              "2  Vendeur proactif, livraison très rapide, produ...      1\n",
              "3  Cela fais maintenant plusieurs jours que je te...      1\n",
              "4  Quelques rayures visibles quand on regarde de ...      1\n",
              "5  Super ! Vendeur suprême mobile FR est super .i...      1\n",
              "6  Au vu des commentaires j’ai eu très peur ! J’a...      1\n",
              "7  iPhone X 256 Go reconditionee oui c’est vrai ,...      1\n",
              "8  Amazon m’avait donné mardi 14 comme date de li...      1\n",
              "9  Je ne regrette absolument pas cet achat ! Le t...      1"
            ]
          },
          "metadata": {
            "tags": []
          },
          "execution_count": 117
        }
      ]
    },
    {
      "cell_type": "code",
      "metadata": {
        "colab": {
          "base_uri": "https://localhost:8080/",
          "height": 357
        },
        "id": "u9LSKNseuV_-",
        "outputId": "d9c61c7b-2982-4d95-8806-d40a4b84498a"
      },
      "source": [
        "df.tail(10)"
      ],
      "execution_count": null,
      "outputs": [
        {
          "output_type": "execute_result",
          "data": {
            "text/html": [
              "<div>\n",
              "<style scoped>\n",
              "    .dataframe tbody tr th:only-of-type {\n",
              "        vertical-align: middle;\n",
              "    }\n",
              "\n",
              "    .dataframe tbody tr th {\n",
              "        vertical-align: top;\n",
              "    }\n",
              "\n",
              "    .dataframe thead th {\n",
              "        text-align: right;\n",
              "    }\n",
              "</style>\n",
              "<table border=\"1\" class=\"dataframe\">\n",
              "  <thead>\n",
              "    <tr style=\"text-align: right;\">\n",
              "      <th></th>\n",
              "      <th>commentaire</th>\n",
              "      <th>label</th>\n",
              "    </tr>\n",
              "  </thead>\n",
              "  <tbody>\n",
              "    <tr>\n",
              "      <th>190</th>\n",
              "      <td>Après un premier téléphone défectueux commandé...</td>\n",
              "      <td>0</td>\n",
              "    </tr>\n",
              "    <tr>\n",
              "      <th>191</th>\n",
              "      <td>Cet iphone n'est pas un modèle européen.C'est ...</td>\n",
              "      <td>0</td>\n",
              "    </tr>\n",
              "    <tr>\n",
              "      <th>192</th>\n",
              "      <td>pas conforme</td>\n",
              "      <td>0</td>\n",
              "    </tr>\n",
              "    <tr>\n",
              "      <th>193</th>\n",
              "      <td>Rayures visibleBatterie se décharge rapidement...</td>\n",
              "      <td>0</td>\n",
              "    </tr>\n",
              "    <tr>\n",
              "      <th>194</th>\n",
              "      <td>La batterie diminue hyper vite l’état de la ba...</td>\n",
              "      <td>0</td>\n",
              "    </tr>\n",
              "    <tr>\n",
              "      <th>195</th>\n",
              "      <td>Micro qui ne fonctionne pas . Comment peut-on ...</td>\n",
              "      <td>0</td>\n",
              "    </tr>\n",
              "    <tr>\n",
              "      <th>196</th>\n",
              "      <td>Téléphone reçu sans problème mais problèmes , ...</td>\n",
              "      <td>0</td>\n",
              "    </tr>\n",
              "    <tr>\n",
              "      <th>197</th>\n",
              "      <td>Le táctil de l’Écran ne fonctionne pas</td>\n",
              "      <td>0</td>\n",
              "    </tr>\n",
              "    <tr>\n",
              "      <th>198</th>\n",
              "      <td>Bonjour je suis pas satisfait de mon achatL’iP...</td>\n",
              "      <td>0</td>\n",
              "    </tr>\n",
              "    <tr>\n",
              "      <th>199</th>\n",
              "      <td>Le téléphone est bloqué iTunes</td>\n",
              "      <td>0</td>\n",
              "    </tr>\n",
              "  </tbody>\n",
              "</table>\n",
              "</div>"
            ],
            "text/plain": [
              "                                           commentaire  label\n",
              "190  Après un premier téléphone défectueux commandé...      0\n",
              "191  Cet iphone n'est pas un modèle européen.C'est ...      0\n",
              "192                                       pas conforme      0\n",
              "193  Rayures visibleBatterie se décharge rapidement...      0\n",
              "194  La batterie diminue hyper vite l’état de la ba...      0\n",
              "195  Micro qui ne fonctionne pas . Comment peut-on ...      0\n",
              "196  Téléphone reçu sans problème mais problèmes , ...      0\n",
              "197             Le táctil de l’Écran ne fonctionne pas      0\n",
              "198  Bonjour je suis pas satisfait de mon achatL’iP...      0\n",
              "199                     Le téléphone est bloqué iTunes      0"
            ]
          },
          "metadata": {
            "tags": []
          },
          "execution_count": 118
        }
      ]
    },
    {
      "cell_type": "markdown",
      "metadata": {
        "id": "n5NH8-M5yldh"
      },
      "source": [
        "## Export to CSV"
      ]
    },
    {
      "cell_type": "code",
      "metadata": {
        "id": "9lTKxRY8yh94"
      },
      "source": [
        "df.to_csv('Amazon_Comments.csv', index=False)"
      ],
      "execution_count": null,
      "outputs": []
    },
    {
      "cell_type": "markdown",
      "metadata": {
        "id": "QB27jOoW39y8"
      },
      "source": [
        "### Pré-processing"
      ]
    },
    {
      "cell_type": "code",
      "metadata": {
        "colab": {
          "base_uri": "https://localhost:8080/"
        },
        "id": "3LqRIozR3787",
        "outputId": "17f1e9a6-f864-46cf-b7d2-212b708be347"
      },
      "source": [
        "nltk.download('stopwords')\n",
        "stop_words = set(stopwords.words('french'))\n",
        "stop_words.remove('pas')\n",
        "stop_words.remove('ne')\n",
        "def nettoyage(texte):\n",
        "    tmp=[]\n",
        "    # Normalisation : accents et minuscule\n",
        "    texte=unidecode(texte.lower())\n",
        "    p='[a-z]{2,}'\n",
        "    for mot in re.findall(p,texte):\n",
        "        if mot in stop_words:\n",
        "            continue\n",
        "        else:\n",
        "            tmp.append(mot)\n",
        "    return ' '.join(tmp)"
      ],
      "execution_count": null,
      "outputs": [
        {
          "output_type": "stream",
          "text": [
            "[nltk_data] Downloading package stopwords to /root/nltk_data...\n",
            "[nltk_data]   Package stopwords is already up-to-date!\n"
          ],
          "name": "stdout"
        }
      ]
    },
    {
      "cell_type": "code",
      "metadata": {
        "id": "HaeV0f4338FL"
      },
      "source": [
        "df_clean = df\n",
        "df_clean['commentaire'] = df_clean['commentaire'].apply(nettoyage)"
      ],
      "execution_count": null,
      "outputs": []
    },
    {
      "cell_type": "code",
      "metadata": {
        "colab": {
          "base_uri": "https://localhost:8080/",
          "height": 203
        },
        "id": "ITbIErLw38G-",
        "outputId": "141e759a-e098-43c4-96ee-9eec526e7875"
      },
      "source": [
        "df_clean.head(5)"
      ],
      "execution_count": null,
      "outputs": [
        {
          "output_type": "execute_result",
          "data": {
            "text/html": [
              "<div>\n",
              "<style scoped>\n",
              "    .dataframe tbody tr th:only-of-type {\n",
              "        vertical-align: middle;\n",
              "    }\n",
              "\n",
              "    .dataframe tbody tr th {\n",
              "        vertical-align: top;\n",
              "    }\n",
              "\n",
              "    .dataframe thead th {\n",
              "        text-align: right;\n",
              "    }\n",
              "</style>\n",
              "<table border=\"1\" class=\"dataframe\">\n",
              "  <thead>\n",
              "    <tr style=\"text-align: right;\">\n",
              "      <th></th>\n",
              "      <th>commentaire</th>\n",
              "      <th>label</th>\n",
              "    </tr>\n",
              "  </thead>\n",
              "  <tbody>\n",
              "    <tr>\n",
              "      <th>0</th>\n",
              "      <td>produit reconditionne vendu comme tel aucunes ...</td>\n",
              "      <td>1</td>\n",
              "    </tr>\n",
              "    <tr>\n",
              "      <th>1</th>\n",
              "      <td>vraiment tres satisfaite cet iphone reconditio...</td>\n",
              "      <td>1</td>\n",
              "    </tr>\n",
              "    <tr>\n",
              "      <th>2</th>\n",
              "      <td>vendeur proactif livraison tres rapide produit...</td>\n",
              "      <td>1</td>\n",
              "    </tr>\n",
              "    <tr>\n",
              "      <th>3</th>\n",
              "      <td>cela fais maintenant plusieurs jours teste pro...</td>\n",
              "      <td>1</td>\n",
              "    </tr>\n",
              "    <tr>\n",
              "      <th>4</th>\n",
              "      <td>quelques rayures visibles quand regarde pres b...</td>\n",
              "      <td>1</td>\n",
              "    </tr>\n",
              "  </tbody>\n",
              "</table>\n",
              "</div>"
            ],
            "text/plain": [
              "                                         commentaire  label\n",
              "0  produit reconditionne vendu comme tel aucunes ...      1\n",
              "1  vraiment tres satisfaite cet iphone reconditio...      1\n",
              "2  vendeur proactif livraison tres rapide produit...      1\n",
              "3  cela fais maintenant plusieurs jours teste pro...      1\n",
              "4  quelques rayures visibles quand regarde pres b...      1"
            ]
          },
          "metadata": {
            "tags": []
          },
          "execution_count": 152
        }
      ]
    },
    {
      "cell_type": "code",
      "metadata": {
        "colab": {
          "base_uri": "https://localhost:8080/",
          "height": 203
        },
        "id": "YzKFiyE638JJ",
        "outputId": "2753449d-cd48-4212-962c-d6088c471af2"
      },
      "source": [
        "df.tail(5)"
      ],
      "execution_count": null,
      "outputs": [
        {
          "output_type": "execute_result",
          "data": {
            "text/html": [
              "<div>\n",
              "<style scoped>\n",
              "    .dataframe tbody tr th:only-of-type {\n",
              "        vertical-align: middle;\n",
              "    }\n",
              "\n",
              "    .dataframe tbody tr th {\n",
              "        vertical-align: top;\n",
              "    }\n",
              "\n",
              "    .dataframe thead th {\n",
              "        text-align: right;\n",
              "    }\n",
              "</style>\n",
              "<table border=\"1\" class=\"dataframe\">\n",
              "  <thead>\n",
              "    <tr style=\"text-align: right;\">\n",
              "      <th></th>\n",
              "      <th>commentaire</th>\n",
              "      <th>label</th>\n",
              "    </tr>\n",
              "  </thead>\n",
              "  <tbody>\n",
              "    <tr>\n",
              "      <th>195</th>\n",
              "      <td>micro ne fonctionne pas comment peut vendre ar...</td>\n",
              "      <td>0</td>\n",
              "    </tr>\n",
              "    <tr>\n",
              "      <th>196</th>\n",
              "      <td>telephone recu sans probleme problemes bug tou...</td>\n",
              "      <td>0</td>\n",
              "    </tr>\n",
              "    <tr>\n",
              "      <th>197</th>\n",
              "      <td>tactil ecran ne fonctionne pas</td>\n",
              "      <td>0</td>\n",
              "    </tr>\n",
              "    <tr>\n",
              "      <th>198</th>\n",
              "      <td>bonjour pas satisfait achatl iphone go problem...</td>\n",
              "      <td>0</td>\n",
              "    </tr>\n",
              "    <tr>\n",
              "      <th>199</th>\n",
              "      <td>telephone bloque itunes</td>\n",
              "      <td>0</td>\n",
              "    </tr>\n",
              "  </tbody>\n",
              "</table>\n",
              "</div>"
            ],
            "text/plain": [
              "                                           commentaire  label\n",
              "195  micro ne fonctionne pas comment peut vendre ar...      0\n",
              "196  telephone recu sans probleme problemes bug tou...      0\n",
              "197                     tactil ecran ne fonctionne pas      0\n",
              "198  bonjour pas satisfait achatl iphone go problem...      0\n",
              "199                            telephone bloque itunes      0"
            ]
          },
          "metadata": {
            "tags": []
          },
          "execution_count": 153
        }
      ]
    },
    {
      "cell_type": "code",
      "metadata": {
        "id": "I07xhoDE38MD"
      },
      "source": [
        "positif=df_clean[df_clean['label'] == 1]['commentaire']\n",
        "negatif=df_clean[df_clean['label'] == 0]['commentaire']"
      ],
      "execution_count": null,
      "outputs": []
    },
    {
      "cell_type": "markdown",
      "metadata": {
        "id": "Ted91qIG95Ui"
      },
      "source": [
        "## Featurisation"
      ]
    },
    {
      "cell_type": "markdown",
      "metadata": {
        "id": "MBpvBXwA-F1m"
      },
      "source": [
        "#### TFIDF\n",
        "\n",
        "\n",
        "- On applique l'analyse TFIDF pour la numérisation. `ngram_range` J'ai choisi la valueur (1, 2) car lors de l'analyse des commentaires, j'ai observé que l'avis peut se résumer en un seul mot par exemple **Abimé** mais dans certais cas on ajoute des adverbes comme **horriblement abimé**. "
      ]
    },
    {
      "cell_type": "code",
      "metadata": {
        "colab": {
          "base_uri": "https://localhost:8080/",
          "height": 302
        },
        "id": "jt2xHMYZ-mEf",
        "outputId": "0f8aa76e-5737-4b47-fd55-1f4e1c5de6d8"
      },
      "source": [
        "from sklearn.feature_extraction.text import TfidfVectorizer\n",
        "\n",
        "vectorizer = TfidfVectorizer(ngram_range=(1, 2))\n",
        "X = vectorizer.fit_transform(df_clean['commentaire'])\n",
        "print(vectorizer.get_feature_names())\n",
        "print(X.shape)\n",
        "df_tfidf=pd.DataFrame(X.toarray(),columns=vectorizer.get_feature_names())\n",
        "df_tfidf.head()"
      ],
      "execution_count": null,
      "outputs": [
        {
          "output_type": "stream",
          "text": [
            "['abime', 'abime comprend', 'abime ne', 'abimee', 'abimee franchement', 'absolument', 'absolument pas', 'accessoire', 'accessoire pas', 'accessoirement', 'accessoirement telephone', 'accessoires', 'accessoires ajoutes', 'accessoires compris', 'accessoires etaient', 'achat', 'achat bon', 'achat iphone', 'achat meme', 'achat pas', 'achat portable', 'achat prix', 'achat super', 'achat telephone', 'achat vitre', 'achat vraiment', 'achatje', 'achatje souhaite', 'achatl', 'achatl iphone', 'achetant', 'achetant iphone', 'achete', 'achete chez', 'achete iphone', 'achete juillet', 'achete marche', 'achete neuf', 'achete occasion', 'achete octobre', 'achete phone', 'achete suite', 'achete telephone', 'acheter', 'acheter donc', 'acheter iphone', 'acheter leurs', 'acheter nouveau', 'acheter pas', 'acheter tel', 'acheter telephone', 'acheteur', 'acheteur telephone', 'acheteurs', 'acheteurs tracer', 'achetez', 'achetez surtout', 'activationmerci', 'activationmerci faire', 'adaptateur', 'adaptateur chargeur', 'adaptateur jack', 'adaptateur pas', 'adaptateur rechauffe', 'affaire', 'affaire bonne', 'affaire premier', 'affaire saisir', 'affecte', 'affecte cet', 'affichage', 'affichage damege', 'affichage display', 'affichant', 'affichant lignes', 'afin', 'afin offrir', 'agacant', 'agacant quand', 'agissait', 'agissait pas', 'agit', 'agit reconditionne', 'agit telephone', 'ah', 'ah oubliais', 'ailleurs', 'ailleurs fiche', 'aiment', 'aiment dire', 'aimerais', 'aimerais pouvoir', 'ainsi', 'ainsi chargeur', 'air', 'air impeccable', 'ajout', 'ajout verre', 'ajoutes', 'ajoutes auxquels', 'aleatoire', 'aleatoire fondimpossible', 'allant', 'allant voir', 'aller', 'aller boite', 'aller chez', 'aller yeux', 'allez', 'allez foncer', 'allez voir', 'allume', 'allume plus', 'allume quand', 'allume toujours', 'allumer', 'allumer tranquillement', 'alors', 'alors change', 'alors comme', 'alors deconseille', 'alors description', 'alors oui', 'alors protection', 'amazon', 'amazon associe', 'amazon boite', 'amazon charge', 'amazon comme', 'amazon deuxieme', 'amazon donne', 'amazon espere', 'amazon pareil', 'amazon reniewedje', 'amazon si', 'amazon telephone', 'amazone', 'amazone refuse', 'amazone tres', 'amuserai', 'amuserai plus', 'amzone', 'amzone recu', 'an', 'an contraint', 'an garantie', 'an malheureusement', 'an vendeur', 'ancien', 'ancien iphone', 'anniversaire', 'anniversaire moins', 'annonce', 'annonce dire', 'annonce tres', 'antipathique', 'antipathique ne', 'apercois', 'apercois probleme', 'apercut', 'apercut micro', 'appareil', 'appareil arrive', 'appareil excellent', 'appareil ne', 'appareil photo', 'appareil tres', 'appareils', 'appareils apple', 'apparitions', 'apparitions sans', 'appel', 'appel haut', 'appel leurs', 'appel ni', 'appele', 'appele fait', 'appeler', 'appeler tout', 'appelle', 'appelle enregistre', 'appels', 'appels faut', 'appels plus', 'appels scandaleux', 'apple', 'apple baladaient', 'apple bizarre', 'apple care', 'apple conseillez', 'apple deux', 'apple dit', 'apple finitions', 'apple fois', 'apple musique', 'apple numero', 'apple pas', 'apple seul', 'apple store', 'apple surprise', 'apple telephone', 'application', 'application chauffe', 'application lance', 'application mettait', 'applis', 'applis appareil', 'apprehension', 'apprehension vu', 'appuye', 'appuye peut', 'apres', 'apres avis', 'apres avoir', 'apres commande', 'apres jours', 'apres marcher', 'apres minutes', 'apres peur', 'apres plus', 'apres premier', 'apres quelques', 'apres reception', 'apres reconditionne', 'apres semaine', 'apres telephone', 'apres tout', 'apres verification', 'arc', 'arc fait', 'argent', 'argent prenez', 'argent rien', 'arnaque', 'arnaque assuree', 'arnaque meme', 'arnaque pense', 'arret', 'arret allume', 'arriere', 'arriere casse', 'arriere cassee', 'arriere iphone', 'arriere mauvaise', 'arriere noter', 'arriere super', 'arrive', 'arrive camera', 'arrive defectueux', 'arrive depose', 'arrive etat', 'arrive heure', 'arrive pas', 'arrive sale', 'arrive tres', 'arrive vite', 'arriver', 'arriver jolie', 'arriver journee', 'arriver mai', 'arriverait', 'arriverait pendant', 'arrives', 'arrives matin', 'article', 'article afin', 'article annonce', 'article bug', 'article defectueux', 'article ni', 'article pas', 'article peux', 'article reconditionner', 'article tres', 'article vraiment', 'aspect', 'aspect exterieur', 'assez', 'assez rapidement', 'assez robuste', 'associe', 'associe genre', 'assuree', 'attend', 'attend remboursement', 'attendais', 'attendais avoir', 'attendais pas', 'attendait', 'attendait pas', 'attendre', 'attendre avoir', 'attendre demander', 'attends', 'attends toujours', 'attente', 'attente livraison', 'attente remboursement', 'attente remplacement', 'attentes', 'attentes comme', 'attentes critiquerais', 'attention', 'attention ne', 'aucun', 'aucun bug', 'aucun pb', 'aucun probleme', 'aucun remboursement', 'aucun soucis', 'aucune', 'aucune difficulte', 'aucune nouvelles', 'aucune protection', 'aucune rayure', 'aucune reponse', 'aucunes', 'aucunes rayures', 'aucuns', 'aucuns problemes', 'audio', 'audio aller', 'audio special', 'aujourd', 'aujourd hui', 'aupres', 'aupres apple', 'aussi', 'aussi cher', 'aussi livree', 'australia', 'australia new', 'autant', 'autant mettre', 'authentique', 'authentique suffit', 'autonomie', 'autonomie aucunes', 'autonomie batterie', 'autonomie chargeur', 'autre', 'autre arriere', 'autre avant', 'autre maintenant', 'autre modele', 'autre prix', 'autre tel', 'autre telephone', 'auxiliaireniveau', 'auxiliaireniveau batteur', 'auxquels', 'auxquels ne', 'avance', 'avance fonctionne', 'avance merci', 'avance telephone', 'avant', 'avant arriere', 'avant autre', 'avant bien', 'avant date', 'avant fete', 'avant mettre', 'avant quel', 'avis', 'avis apres', 'avis existants', 'avis pouvez', 'avoir', 'avoir autre', 'avoir casque', 'avoir chargeur', 'avoir commande', 'avoir comme', 'avoir echange', 'avoir moitie', 'avoir produit', 'avoir qualite', 'avoir quelques', 'avoir recommande', 'avoir telephone', 'avoir temps', 'avoir tente', 'baladaient', 'baladaient colis', 'barres', 'barres fait', 'bas', 'bas telephone', 'batterie', 'batterie allant', 'batterie autonomie', 'batterie bien', 'batterie bientot', 'batterie capacite', 'batterie chargee', 'batterie charger', 'batterie chargeur', 'batterie chauffe', 'batterie chute', 'batterie decharge', 'batterie defectueuse', 'batterie deja', 'batterie diminue', 'batterie etait', 'batterie excellente', 'batterie fonctionne', 'batterie hs', 'batterie iphone', 'batterie mises', 'batterie ne', 'batterie niveau', 'batterie parle', 'batterie pas', 'batterie permet', 'batterie plus', 'batterie quand', 'batterie reparation', 'batterie tient', 'batterie top', 'batterie totalement', 'batterie tres', 'batterie vraiment', 'battery', 'battery plus', 'batteur', 'batteur voir', 'beau', 'beau batterie', 'beau impossible', 'beau meme', 'beau produitcomme', 'beaucoup', 'beaucoup bouge', 'beaucoup car', 'beaucoup moins', 'beaucoup trop', 'beaucoup vendeur', 'bel', 'bel appareil', 'belle', 'belle arnaque', 'belle qualite', 'bemol', 'bemol batterie', 'bemol dernier', 'bemol ecouteur', 'bemol pas', 'ben', 'ben re', 'besoin', 'besoin remboursment', 'besoin telephone', 'bete', 'bete boite', 'beug', 'beug acheter', 'beug exemple', 'beug livraison', 'beug obliger', 'beug tout', 'beuguer', 'beuguer tout', 'bien', 'bien affichage', 'bien article', 'bien aucun', 'bien avoir', 'bien batterie', 'bien bon', 'bien cale', 'bien cela', 'bien chargeur', 'bien contrefait', 'bien conversations', 'bien correspond', 'bien display', 'bien ecouteurs', 'bien emballe', 'bien ete', 'bien fermee', 'bien grattant', 'bien jolie', 'bien jusqu', 'bien lcd', 'bien livrer', 'bien peu', 'bien plus', 'bien protege', 'bien proteger', 'bien recu', 'bien ruce', 'bien telephone', 'bien tres', 'bien verifie', 'bien verre', 'bien voir', 'bien vrai', 'bientot', 'bientot espere', 'bizarre', 'blanches', 'blanches noires', 'blister', 'blister cable', 'blok', 'bloque', 'bloque debut', 'bloque inutilisable', 'bloque itunes', 'bof', 'boite', 'boite apple', 'boite bien', 'boite bonne', 'boite cartonne', 'boite corde', 'boite ecouteur', 'boite etaient', 'boite etait', 'boite meme', 'boite origine', 'boite recu', 'boitier', 'boitier bien', 'boitier egalement', 'bon', 'bon cela', 'bon encore', 'bon etat', 'bon prix', 'bon produit', 'bon produits', 'bon rapport', 'bon smartphones', 'bonheur', 'bonheur celui', 'bonjour', 'bonjour achete', 'bonjour apres', 'bonjour commande', 'bonjour pas', 'bonjour tous', 'bonjour tres', 'bonjourj', 'bonjourj achete', 'bonjourle', 'bonjourle produit', 'bonne', 'bonne affaire', 'bonne etat', 'bonne journee', 'bonne paire', 'bonne qualite', 'bonnes', 'bonnes boitier', 'bouge', 'bouge durant', 'bout', 'bout ecran', 'bout journee', 'bout jours', 'bout mois', 'bout quelque', 'bout quelques', 'bout semaine', 'bout trois', 'bouton', 'bouton eteint', 'branche', 'branche rallume', 'brancher', 'brancher dommage', 'bravo', 'bravo merci', 'bref', 'bref faut', 'bref produit', 'bref totalement', 'browser', 'browser does', 'bs', 'bs gamme', 'bug', 'bug comme', 'bug deja', 'bug fait', 'bug tout', 'buger', 'buger telephone', 'bugle', 'bugle remet', 'ca', 'ca commence', 'ca devient', 'ca fait', 'ca fonction', 'ca minimum', 'ca pas', 'ca passe', 'ca peut', 'ca refroidi', 'ca renvoye', 'ca revient', 'ca telephone', 'ca va', 'cable', 'cable ainsi', 'cable auxiliaireniveau', 'cable bonne', 'cable cable', 'cable chargeur', 'cable lightning', 'cable origine', 'cable plastique', 'cable renvoye', 'cadeau', 'cadeau fils', 'cadeau honteje', 'cadeau telephone', 'cale', 'cale telephone', 'camera', 'camera arriere', 'camera frontale', 'camera interne', 'camera merci', 'camera photo', 'camera principale', 'camera vendeur', 'capacite', 'capacite aucune', 'capacite normal', 'capacite recharge', 'capacite vendu', 'car', 'car aimerais', 'car batterie', 'car dernier', 'car fonctionne', 'car impossible', 'car principe', 'car seconde', 'car vision', 'care', 'care pendant', 'carton', 'carton amazon', 'carton cable', 'cartonne', 'cartonne fait', 'casque', 'casque audio', 'casse', 'casse devant', 'cassee', 'cassee mois', 'casser', 'casser egalement', 'cela', 'cela ecouteur', 'cela etant', 'cela fais', 'cela fait', 'cela ne', 'cela reste', 'celle', 'celle origine', 'celui', 'celui ci', 'celui prevu', 'celui recu', 'celui si', 'cense', 'cense avoir', 'cerise', 'cerise gateux', 'certain', 'certain avoir', 'certes', 'certes iphonex', 'certifie', 'certifie apple', 'certifier', 'certifier apple', 'cet', 'cet achat', 'cet article', 'cet incofort', 'cet iphone', 'cette', 'cette achat', 'cette article', 'cette commandeils', 'cette entreprise', 'cette iphone', 'cette qualite', 'change', 'change autre', 'change chargeur', 'changement', 'changement remboursement', 'changer', 'changer batterie', 'changer rendu', 'chaque', 'chaque detail', 'chaque fois', 'charge', 'charge chargeur', 'charge dossier', 'charge pas', 'charge prix', 'charge reparation', 'charge semble', 'charge uniquement', 'chargee', 'chargee duree', 'charger', 'charger beaucoup', 'charger bien', 'charger pluuuusieuuurs', 'chargeur', 'chargeur apple', 'chargeur bof', 'chargeur casque', 'chargeur chauffe', 'chargeur clairement', 'chargeur classique', 'chargeur commande', 'chargeur coque', 'chargeur cotre', 'chargeur deja', 'chargeur ecouteurs', 'chargeur ete', 'chargeur fournit', 'chargeur made', 'chargeur ne', 'chargeur neuf', 'chargeur nickel', 'chargeur niquel', 'chargeur non', 'chargeur officiel', 'chargeur original', 'chargeur origine', 'chargeur pas', 'chargeur sans', 'chargeur uniquement', 'chargeur verre', 'chargeurs', 'chargeurs ne', 'chauffe', 'chauffe alors', 'chauffe horriblement', 'chauffe plus', 'chauffe prix', 'chauffe surtout', 'chauffe tres', 'chemin', 'chemin allez', 'chemin autant', 'cher', 'cher ne', 'cherche', 'cherche gagner', 'chere', 'chere encore', 'chere fin', 'chere top', 'chez', 'chez amazone', 'chez apple', 'chez hexamobile', 'chez meme', 'chez partenaire', 'chez vendeur', 'chiffonne', 'chiffonne packaging', 'china', 'china cable', 'chinoise', 'chinoise colle', 'chocs', 'chocs present', 'chose', 'chose montre', 'choses', 'choses changer', 'chute', 'chute meme', 'chute ni', 'ci', 'ci fait', 'ci fonctionne', 'clairement', 'clairement faux', 'clairement neuf', 'classique', 'classique pine', 'client', 'client amazon', 'client dit', 'client ne', 'client renvoyez', 'cole', 'cole face', 'colere', 'colis', 'colis arriverait', 'colis bien', 'colis emballe', 'colis finalement', 'colis livre', 'colis pas', 'colis pouvez', 'colis sans', 'colle', 'colle camera', 'colles', 'colles boitier', 'commande', 'commande arriver', 'commande ca', 'commande cet', 'commande chez', 'commande finalement', 'commande idem', 'commande jeudi', 'commande telephone', 'commande veille', 'commandee', 'commandee coque', 'commandeils', 'commandeils pris', 'commander', 'commander autre', 'commander dit', 'commander mai', 'commander plusieurs', 'commanderai', 'commanderai plus', 'commandes', 'commandes express', 'commandes hier', 'comme', 'comme aiment', 'comme date', 'comme habitude', 'comme line', 'comme neuf', 'comme neufbatterie', 'comme neufje', 'comme pris', 'comme remise', 'comme si', 'comme tel', 'comme tres', 'comme voyez', 'commence', 'commence faire', 'commeneuf', 'commeneuf livraison', 'comment', 'comment faire', 'comment peut', 'commentaire', 'commentaire particulier', 'commentaires', 'commentaires hesitez', 'commentaires postes', 'commentaires telephone', 'commentaires tres', 'commercial', 'commercial retard', 'compare', 'compare iphone', 'complet', 'complet tres', 'completement', 'completement hs', 'completement mensonger', 'comprend', 'comprend principe', 'comprendre', 'comprendre batterie', 'comprendre tous', 'compris', 'compris coque', 'compris dedans', 'compris etui', 'compris veux', 'comptant', 'comptant tout', 'compte', 'compte apple', 'compte ca', 'compte connecte', 'compte probleme', 'comte', 'concernant', 'concernant importation', 'concernant service', 'concerne', 'concerne livraison', 'condition', 'condition car', 'conditionne', 'conditionne tres', 'confiance', 'confiance vendeur', 'confirme', 'confirme grade', 'confirmer', 'confirmer grade', 'conforme', 'conforme description', 'conjoint', 'conjoint achete', 'connecte', 'connecte appareils', 'connecter', 'connecter compte', 'connexion', 'connexion autre', 'conseil', 'conseil pas', 'conseiller', 'conseiller pas', 'conseiller vendeur', 'conseillez', 'conseillez faire', 'constater', 'constater batterie', 'consterner', 'consterner cela', 'contacte', 'contacte vendeur', 'contactes', 'contactes donne', 'content', 'content achat', 'content quand', 'content telephone', 'contente', 'contente achat', 'contente cet', 'contente chargeur', 'contente commande', 'contente plus', 'contente prix', 'contour', 'contour abime', 'contraint', 'contraint devoir', 'contrainte', 'contrainte encore', 'contre', 'contre commandee', 'contre non', 'contrefacon', 'contrefacon reparation', 'contrefacon vraiment', 'contrefait', 'contrefait ecran', 'contrefait etiquette', 'controler', 'controler avant', 'conversations', 'conversations telephoniques', 'coque', 'coque ecran', 'coque film', 'coque raye', 'coque silicone', 'coque transparente', 'coque verre', 'coque vitre', 'corde', 'corde ecouters', 'cordialement', 'cordialementalain', 'cordialementalain comte', 'correct', 'correct car', 'correcte', 'correcte reste', 'correctement', 'correctement batterie', 'correctement demander', 'correctement tiens', 'correctement tous', 'correspond', 'correspond attentes', 'correspond parfaitement', 'correspond promesse', 'cote', 'cote decevant', 'cotes', 'cotes uniquement', 'cotre', 'cotre adaptateur', 'coud', 'coud vraiment', 'coup', 'coup juste', 'coups', 'coups toujours', 'cristaux', 'cristaux liquides', 'critere', 'critere ne', 'critiquerais', 'critiquerais livraison', 'critiquerais pas', 'croire', 'croire acheteur', 'dalle', 'dalle modele', 'damege', 'damege petite', 'date', 'date livraison', 'date prevu', 'debloque', 'debloque tout', 'debut', 'debut apercois', 'debut livraison', 'debut mars', 'deception', 'deception prix', 'decevant', 'decevant ne', 'decevante', 'decevante fait', 'decharge', 'decharge rapidementtres', 'decharge super', 'decharge tres', 'decharge vite', 'dechargee', 'dechargee derniere', 'deconseille', 'deconseille acheter', 'deconseille leurs', 'deconseille vraimment', 'decu', 'decu donc', 'decu futurs', 'decu iphone', 'decu maintenant', 'decu perdu', 'decu prix', 'decu produit', 'decu recu', 'decu telephone', 'decu vraiment', 'decu vu', 'decue', 'decue achat', 'decue ecran', 'decuje', 'decuje offert', 'decut', 'decut valu', 'dedans', 'dedans batterie', 'defaillance', 'defaillance ne', 'defaut', 'defaut face', 'defaut franchement', 'defaut produit', 'defectueuse', 'defectueuse si', 'defectueux', 'defectueux commande', 'defectueux face', 'defectueux marche', 'defectueux ne', 'defectueux reception', 'defectueux tres', 'defectueux utilisation', 'dehorsc', 'dehorsc premier', 'deja', 'deja bout', 'deja casser', 'deja commander', 'deja defectueux', 'deja ecran', 'deja panne', 'deja plus', 'deja problemes', 'deja reparation', 'deja tres', 'dela', 'dela charger', 'delais', 'delais debut', 'delais tous', 'delire', 'delire reste', 'demande', 'demande payer', 'demande remboursement', 'demande renvoyer', 'demander', 'demander echange', 'demander remboursement', 'depit', 'depit reglages', 'depose', 'depose bete', 'depuis', 'depuis achat', 'depuis debut', 'depuis lai', 'depuis plus', 'derange', 'deranger', 'deranger adaptateur', 'dernier', 'dernier achat', 'dernier debloque', 'dernier seulement', 'derniere', 'derniere version', 'description', 'description concerne', 'description etait', 'description livre', 'description recu', 'description vendeur', 'description vraie', 'desirer', 'dessus', 'dessus attente', 'dessus peu', 'dessus tout', 'detail', 'detail chiffonne', 'detail tout', 'detail verifie', 'deuis', 'deuis amzone', 'deux', 'deux chargeur', 'deux jours', 'deux mois', 'deux protections', 'deux quand', 'deux sachets', 'deuxieme', 'deuxieme telephone', 'devant', 'devant maintenant', 'devient', 'devient rare', 'devoir', 'devoir utiliser', 'diagnostique', 'diagnostique ne', 'dictaphone', 'dictaphone plus', 'difference', 'difference avoir', 'difficulte', 'difficulte connexion', 'diminue', 'diminue hyper', 'dirait', 'dirait clairement', 'dire', 'dire batterie', 'dire chaque', 'dire iphone', 'dire parfait', 'dire recu', 'disant', 'disant faudrait', 'disant neuf', 'disant reconditione', 'disant reconditionner', 'disant remis', 'disant tres', 'display', 'display affichage', 'display mauvais', 'dispose', 'dispose boite', 'dit', 'dit ecran', 'dit etait', 'dit fait', 'dit pas', 'dit prennent', 'dit toute', 'does', 'does not', 'dois', 'dois finalement', 'doit', 'doit effectuer', 'doit vendre', 'dommage', 'dommage ca', 'dommage pas', 'dommage payer', 'dommage rien', 'dommage voir', 'donc', 'donc acheter', 'donc batterie', 'donc beaucoup', 'donc ca', 'donc car', 'donc cela', 'donc envisage', 'donc impossible', 'donc mis', 'donc ne', 'donc regulierement', 'donc rendre', 'donc renvoye', 'donc tres', 'donne', 'donne mardi', 'donne solution', 'donnees', 'donnees ancien', 'donner', 'donner prixje', 'dos', 'dos raye', 'dossier', 'doutes', 'doutes ne', 'durant', 'durant transport', 'duree', 'duree vie', 'durer', 'durer temps', 'ear', 'ear pods', 'echange', 'echange bien', 'echange ca', 'echange remboursement', 'echanger', 'echanger produit', 'ecouter', 'ecouter musique', 'ecouters', 'ecouters plus', 'ecouteur', 'ecouteur ainsi', 'ecouteur contre', 'ecouteur iphone', 'ecouteur ne', 'ecouteur non', 'ecouteur pas', 'ecouteurs', 'ecouteurs adaptateur', 'ecouteurs bs', 'ecouteurs chargeur', 'ecouteurs compris', 'ecouteurs dommage', 'ecouteurs donc', 'ecouteurs ecouteurs', 'ecouteurs ecran', 'ecouteurs ete', 'ecouteurs faux', 'ecouteurs iphone', 'ecouteurs livres', 'ecouteurs marque', 'ecouteurs meme', 'ecouteurs ne', 'ecoutez', 'ecoutez pas', 'ecran', 'ecran affichant', 'ecran bloque', 'ecran cable', 'ecran coque', 'ecran delire', 'ecran dos', 'ecran etait', 'ecran eteint', 'ecran fige', 'ecran installe', 'ecran iphone', 'ecran lcd', 'ecran mal', 'ecran manque', 'ecran ne', 'ecran ni', 'ecran noir', 'ecran oled', 'ecran pauvre', 'ecran plus', 'ecran protection', 'ecran reste', 'ecran tres', 'ecran trop', 'ecran verre', 'ecrans', 'ecrans noirs', 'ecris', 'ecris ne', 'effacer', 'effacer remis', 'effectuer', 'effectuer plus', 'egalement', 'egalement alors', 'egalement coque', 'egalement pas', 'egalement recu', 'eleve', 'eleve telephone', 'elles', 'elles ne', 'emballage', 'emballage origine', 'emballage soigne', 'emballage vraiment', 'emballe', 'emballe boite', 'emballe comme', 'emballe deux', 'emballe dispose', 'emballe maniere', 'emballe souligne', 'emballe telephone', 'emballe verre', 'embout', 'embout chargeur', 'emmene', 'emmene apple', 'emporte', 'emporte chez', 'encore', 'encore acheter', 'encore ecouteurs', 'encore fois', 'encore heureux', 'enleve', 'enleve localisation', 'enregistre', 'enregistre fort', 'ensuite', 'ensuite impossible', 'entend', 'entend pas', 'entrepot', 'entrepot transporteur', 'entreprise', 'entreprise doit', 'entreprise part', 'envie', 'envie extremement', 'environ', 'environ an', 'environ jours', 'envisage', 'envisage faire', 'envoi', 'envoi rapide', 'envoie', 'envoie soigner', 'envoie tout', 'envoye', 'envoye deja', 'envoye repare', 'envoye telephone', 'envoyer', 'envoyer message', 'envoyer trouve', 'envoyeue', 'equipe', 'equipe amazon', 'equivalentes', 'equivalentes filtres', 'erreurs', 'erreurs mefiez', 'espere', 'espere celui', 'espere moins', 'espere non', 'essai', 'essai amazon', 'essayer', 'essayer reinitialiser', 'esthetique', 'esthetique batterie', 'esthetiquement', 'esthetiquement interieurement', 'eta', 'eta malheureusement', 'etaient', 'etaient presents', 'etaient stockes', 'etait', 'etait abimee', 'etait boite', 'etait comme', 'etait completement', 'etait impressionnante', 'etait livre', 'etait neuf', 'etait parfait', 'etait pas', 'etait perdu', 'etait plus', 'etait premiere', 'etait prevu', 'etait surpris', 'etait toute', 'etait tres', 'etanche', 'etanche poussiere', 'etancheite', 'etancheite cordialementalain', 'etant', 'etant donc', 'etant donner', 'etant note', 'etape', 'etape neuf', 'etat', 'etat aucun', 'etat aucune', 'etat batterie', 'etat deux', 'etat ecran', 'etat fonctionnant', 'etat fonctionne', 'etat marche', 'etat mien', 'etat ne', 'etat pas', 'etat presque', 'etat rapport', 'etat sans', 'etat sauf', 'etat serte', 'etat telephone', 'etat tout', 'etat veux', 'etatabsolument', 'etatabsolument comme', 'etc', 'etc meme', 'etc venu', 'ete', 'ete aussi', 'ete fourni', 'ete livre', 'ete ouvert', 'ete plus', 'ete reconditionnee', 'ete recu', 'eteindre', 'eteindre surement', 'eteindre telephone', 'eteindre tres', 'eteint', 'eteint allume', 'eteint bout', 'eteint sans', 'eteint seul', 'eteint tout', 'etiquette', 'etiquette chinoise', 'etre', 'etre certain', 'etre raison', 'etre remboursee', 'etudiante', 'etudiante travaille', 'etui', 'etui protecteurs', 'europeen', 'europeen indique', 'eurs', 'eurs allez', 'evidement', 'evidement tres', 'evidemment', 'evidemment ca', 'eviter', 'eviter si', 'excellent', 'excellent achat', 'excellent etat', 'excellent etatabsolument', 'excellent portable', 'excellente', 'excellente meme', 'excellente qualite', 'excellentepas', 'excellentepas ecouteurs', 'exemple', 'exemple application', 'existants', 'existants encore', 'expedie', 'expedie evidemment', 'expedition', 'expedition iphone', 'express', 'express colis', 'exterieur', 'exterieur parfait', 'exterieures', 'exterieures fonctionne', 'extremement', 'extremement decu', 'face', 'face arriere', 'face id', 'facial', 'facial ne', 'faciale', 'faciale ne', 'facon', 'facon colis', 'facture', 'facture retourner', 'faire', 'faire beaucoup', 'faire ca', 'faire changer', 'faire confiance', 'faire juste', 'faire necessaire', 'faire reclamer', 'faire reinitialisation', 'faire rembourser', 'faire sans', 'faire semaine', 'faire si', 'fais', 'fais maintenant', 'fais quoi', 'faisait', 'faisait buger', 'fait', 'fait beuguer', 'fait bonheur', 'fait bonne', 'fait cadeau', 'fait comprendre', 'fait croire', 'fait eteindre', 'fait grise', 'fait jour', 'fait jours', 'fait juste', 'fait leurs', 'fait maintenant', 'fait ouvrir', 'fait raisonnable', 'fait tete', 'fait tour', 'faites', 'faites pas', 'faites toujours', 'faudrait', 'faudrait essayer', 'faut', 'faut chaque', 'faut pas', 'faut paye', 'faut reparer', 'faut vraiment', 'faux', 'faux chargeur', 'faux ecouteurs', 'faux mauvaise', 'fedex', 'fedex suivi', 'fermee', 'fermee trouve', 'fermes', 'fermes ah', 'fete', 'fete meres', 'fiable', 'fiable eteint', 'fiche', 'fiche bas', 'fiche interieur', 'fiche non', 'fige', 'fige restauration', 'fil', 'fil chauffe', 'fille', 'fille super', 'film', 'film inutilisable', 'film protection', 'films', 'films telephone', 'fils', 'fils dit', 'fils fait', 'fils juste', 'filtres', 'filtres face', 'fin', 'fin compte', 'final', 'final contrainte', 'final super', 'finalement', 'finalement attendre', 'finalement perdu', 'finalement recu', 'finalement telephone', 'fini', 'finitions', 'finitions bonnes', 'fissure', 'fissure autre', 'flou', 'flou decu', 'flou marche', 'fluide', 'fluide beau', 'foctionne', 'foctionne pas', 'fois', 'fois achete', 'fois decu', 'fois ecoutez', 'fois faire', 'fois jour', 'fois nouveau', 'fois testais', 'fois vendent', 'fois veux', 'foncer', 'fonction', 'fonction bien', 'fonction principale', 'fonctionnait', 'fonctionnait pas', 'fonctionnant', 'fonctionnant tres', 'fonctionne', 'fonctionne autre', 'fonctionne correctement', 'fonctionne parfaitement', 'fonctionne pas', 'fonctionne plus', 'fonctionne tres', 'fonctionnel', 'fonctionnel aucun', 'fonctionnel emballage', 'fonctionnel envoi', 'fonctionnelle', 'fonctionnelle prix', 'fonctionnement', 'fonctionnement applis', 'fonctionnement ne', 'fonctionnent', 'fonctionnent pas', 'fondimpossible', 'fondimpossible ecouter', 'fort', 'fort gresillement', 'forte', 'forte telephone', 'fortement', 'fourni', 'fournisseur', 'fournisseur vais', 'fournit', 'fournit faisait', 'fouttage', 'fouttage guele', 'fr', 'fr super', 'francais', 'francais confirmer', 'franchement', 'franchement apres', 'franchement fiche', 'franchement top', 'franchement tres', 'franchement trop', 'frontal', 'frontal mis', 'frontale', 'frontale iphone', 'fuir', 'fuir envoye', 'fuir vendeur', 'futurs', 'futurs acheteurs', 'gagner', 'gagner temps', 'gamme', 'gamme bon', 'garanti', 'garanti an', 'garantie', 'garantie apple', 'garantie fonctionne', 'garantie impression', 'gateux', 'gateux mirco', 'gauche', 'gauche raye', 'gb', 'gb va', 'genial', 'genial merci', 'genial reconditionne', 'geniale', 'genre', 'genre fournisseur', 'genre impossible', 'gentiment', 'gentiment procede', 'geste', 'geste commercial', 'globallement', 'globallement satisfaisant', 'go', 'go noir', 'go probleme', 'go reconditionee', 'grade', 'grade telephone', 'grand', 'grand ancien', 'grattant', 'grattant peut', 'gratuit', 'gratuit remboursement', 'gresillement', 'gresillement toutes', 'griffe', 'griffe ecran', 'grise', 'grise mine', 'gros', 'gros doutes', 'gros pb', 'gros plus', 'gros probleme', 'grosse', 'grosse arnaque', 'guele', 'guele vendeur', 'habitude', 'haut', 'haut gauche', 'haut parleur', 'haut parleurservice', 'haute', 'haute qualite', 'herbe', 'herbe vitre', 'hesitation', 'hesiter', 'hesiter seule', 'hesitez', 'hesitez final', 'heure', 'heure parfaitement', 'heures', 'heures heures', 'heures payer', 'heures redemarrer', 'heureuse', 'heureuse avoir', 'heureusement', 'heureusement equipe', 'heureux', 'heureux tout', 'hexamobile', 'hexamobile iphone', 'hier', 'hier arrives', 'hong', 'hong kong', 'honnete', 'honnete heureusement', 'honnete plus', 'honnetement', 'honnetement vu', 'honte', 'honteje', 'honteje regrette', 'horriblement', 'horriblement pas', 'hs', 'hs donc', 'hs retourne', 'hs super', 'html', 'html video', 'hui', 'hui sachant', 'hyper', 'hyper vite', 'ici', 'ici deuis', 'id', 'id car', 'id colles', 'id ne', 'idem', 'immediate', 'immediate tres', 'impeccable', 'impeccable aucune', 'impeccable micro', 'impeccable ne', 'impeccable part', 'impeccablel', 'impeccablel ecouteur', 'importation', 'importation sauvegarde', 'impossible', 'impossible connecter', 'impossible ecran', 'impossible eteindre', 'impossible joindre', 'impossible parfois', 'impossible prendre', 'impossible relancer', 'impossible telephoner', 'impossible utiliser', 'impression', 'impression avoir', 'impression etait', 'impressionnante', 'impressionnante voir', 'in', 'in china', 'inadmissible', 'inadmissible prix', 'incofort', 'incofort obligeant', 'incompetent', 'incompetent telephone', 'indique', 'indique annonce', 'indique nulle', 'infiltree', 'infiltree camera', 'informations', 'informations interieur', 'initialement', 'initialement prevu', 'insatisfaite', 'installe', 'installe chargeur', 'installe compte', 'installe etait', 'instant', 'integral', 'integral somme', 'interieur', 'interieur dire', 'interieur tel', 'interieur toujours', 'interieurement', 'interieurement batterie', 'interne', 'inutilisable', 'inutilisable donc', 'inutilisable poubelle', 'ios', 'ios semble', 'iphone', 'iphone apres', 'iphone arrive', 'iphone authentique', 'iphone blister', 'iphone boite', 'iphone chez', 'iphone constater', 'iphone disant', 'iphone ecran', 'iphone environ', 'iphone envoie', 'iphone etait', 'iphone eteint', 'iphone fiche', 'iphone fluide', 'iphone genial', 'iphone go', 'iphone gros', 'iphone ici', 'iphone meme', 'iphone mois', 'iphone neuf', 'iphone origine', 'iphone parfait', 'iphone pas', 'iphone probleme', 'iphone quasi', 'iphone recommande', 'iphone recondition', 'iphone reconditionne', 'iphone reconditionnerecu', 'iphone recu', 'iphone remplie', 'iphone si', 'iphone termine', 'iphone tres', 'iphone valide', 'iphone xmax', 'iphonex', 'iphonex reconditionne', 'italie', 'italie etat', 'itunes', 'itunes faites', 'itunes probleme', 'jack', 'jack alors', 'jack etait', 'jai', 'jai change', 'jai demander', 'jamais', 'jamais beug', 'jamais recu', 'jamais soucis', 'jeudi', 'jeudi recu', 'jeux', 'jeux etc', 'joindre', 'joindre vendeur', 'jolie', 'jolie mettre', 'jolie surprise', 'jolie tactil', 'joue', 'joue batterie', 'jour', 'jour apres', 'jour avance', 'jour faire', 'jour quasi', 'jour remboursement', 'jour tel', 'jour telephone', 'jour transfert', 'jour tres', 'jour utilise', 'journee', 'journee confirme', 'journee mere', 'journee pas', 'jours', 'jours apres', 'jours aucune', 'jours car', 'jours ecran', 'jours etait', 'jours etat', 'jours peu', 'jours rachete', 'jours recommande', 'jours retourner', 'jours service', 'jours teste', 'jours tout', 'jours utilisation', 'jours vendeur', 'jourset', 'jourset fais', 'joursj', 'joursj regrette', 'juillet', 'juillet attends', 'juillet deja', 'jusqu', 'jusqu bout', 'jusqu dela', 'juste', 'juste dehorsc', 'juste ecouteur', 'juste ecouteurs', 'juste fait', 'juste griffe', 'juste merci', 'juste parfait', 'justifie', 'justifie cela', 'kazi', 'kazi neufa', 'kit', 'kit pieton', 'kong', 'kong australia', 'lai', 'lai recu', 'laisse', 'laisse desirer', 'lance', 'lance toute', 'lavant', 'lavant arriere', 'lcd', 'lcd non', 'lcd plus', 'lege', 'lege fonctionne', 'leger', 'leger pas', 'lent', 'lent compare', 'leurs', 'leurs apparitions', 'leurs ecran', 'leurs produits', 'lightning', 'lightning chargeur', 'lignes', 'lignes blanches', 'limites', 'limites surtout', 'line', 'line pas', 'line pouvez', 'liquides', 'liquides abime', 'livraison', 'livraison colis', 'livraison delais', 'livraison etait', 'livraison fedex', 'livraison finalement', 'livraison rapide', 'livraison telephone', 'livraison tres', 'livre', 'livre avant', 'livre chargeur', 'livre ecouteurs', 'livre emballage', 'livre jour', 'livre rapidementavec', 'livre simple', 'livre temps', 'livre usa', 'livre vite', 'livree', 'livree avance', 'livree jour', 'livrer', 'livrer ecouteurs', 'livrer parfait', 'livres', 'livres appareil', 'livreur', 'livreur initialement', 'localisation', 'localisation remis', 'loin', 'loin apercut', 'long', 'long car', 'long terme', 'longtemps', 'longtemps application', 'lors', 'lors appel', 'lorsqu', 'lorsqu appelle', 'lorsqu utilisee', 'lu', 'lu avis', 'lu detail', 'made', 'made in', 'mai', 'mai arriver', 'mai tres', 'mail', 'mail pouvoir', 'main', 'main propre', 'mains', 'mains iphone', 'maintenant', 'maintenant cristaux', 'maintenant mois', 'maintenant ne', 'maintenant niveau', 'maintenant plusieurs', 'maintenant voir', 'mal', 'mal cole', 'mal remonteje', 'malheureusement', 'malheureusement bout', 'malheureusement panne', 'maniere', 'maniere aleatoire', 'maniere impeccable', 'manque', 'manque juste', 'marchais', 'marchais pas', 'marchand', 'marchand serieux', 'marche', 'marche bien', 'marche fois', 'marche merveilleusement', 'marche parfaitement', 'marche pas', 'marche pendant', 'marche pieces', 'marche super', 'marchent', 'marchent pas', 'marcher', 'marcher deja', 'mardi', 'mardi comme', 'marque', 'marque apple', 'marque sharkk', 'mars', 'mars fonctionne', 'materiel', 'materiel quand', 'matin', 'matin commandes', 'mauvais', 'mauvais etat', 'mauvais haut', 'mauvais reconditionnement', 'mauvaise', 'mauvaise condition', 'mauvaise qualite', 'mauvaise qualiteet', 'maximale', 'maximale trouve', 'maximum', 'maximum pareil', 'mefiez', 'mefiez vendeurs', 'meilleur', 'meilleur etat', 'meme', 'meme assez', 'meme avoir', 'meme bon', 'meme cable', 'meme celui', 'meme etait', 'meme lorsqu', 'meme occasion', 'meme pas', 'meme plus', 'meme reconditionne', 'meme scandaleux', 'meme tres', 'meme vendeur', 'meme verre', 'mensonge', 'mensonge recu', 'mensonger', 'mensonger ecran', 'merci', 'merci amazon', 'merci beaucoup', 'merci bien', 'merci marchand', 'merci ravi', 'merci retour', 'merci tres', 'merci vendeur', 'mercredi', 'mercredi suivant', 'mere', 'mere arriver', 'mere ravie', 'meres', 'meres tres', 'merveilleusement', 'merveilleusement bien', 'message', 'message fournisseur', 'met', 'met plein', 'met plombs', 'mettait', 'mettait appeler', 'mettre', 'mettre jour', 'mettre peu', 'mettre ventes', 'mettre verres', 'micro', 'micro fonctionnait', 'micro ne', 'micro rayure', 'micro rayures', 'micros', 'micros ne', 'mien', 'mieux', 'mieux marche', 'milieux', 'milieux ecran', 'mine', 'mine bref', 'minimum', 'minimum iphone', 'minutes', 'minutes fonctionnement', 'miracle', 'miracle sans', 'mirco', 'mirco bas', 'mis', 'mis part', 'mis peter', 'mis poubelle', 'mis video', 'misere', 'misere telephonne', 'mises', 'mises jour', 'mobile', 'mobile fr', 'mode', 'mode usine', 'modele', 'modele europeen', 'modele iphone', 'modele livre', 'modele renseignant', 'moins', 'moins an', 'moins avoir', 'moins chere', 'moins eteint', 'moins faire', 'moins vite', 'moins voir', 'mois', 'mois achat', 'mois apres', 'mois aucun', 'mois deja', 'mois ensuite', 'mois jamais', 'mois professionnel', 'mois seul', 'mois suspects', 'mois utilisation', 'moitie', 'moitie colis', 'moitie prix', 'moment', 'moment quand', 'moment seul', 'monde', 'monde dit', 'montant', 'montant amazon', 'montre', 'montre telephone', 'moyen', 'moyen rallumer', 'musique', 'musique ca', 'musique resonne', 'ne', 'ne agissait', 'ne allume', 'ne amuserai', 'ne attendais', 'ne attendait', 'ne charge', 'ne chauffe', 'ne commanderai', 'ne conseil', 'ne critiquerais', 'ne fait', 'ne faites', 'ne faut', 'ne foctionne', 'ne fonctionne', 'ne fonctionnent', 'ne jamais', 'ne marchais', 'ne marche', 'ne marchent', 'ne pas', 'ne permet', 'ne pourras', 'ne recoit', 'ne recommande', 'ne reconnait', 'ne regrette', 'ne semble', 'ne tenant', 'ne tient', 'ne va', 'ne veut', 'ne voient', 'necessaire', 'net', 'net tres', 'nettoyer', 'nettoyer batterie', 'neuf', 'neuf aucun', 'neuf aucune', 'neuf batterie', 'neuf boite', 'neuf bout', 'neuf completement', 'neuf compris', 'neuf esthetique', 'neuf etat', 'neuf evidement', 'neuf fonctionne', 'neuf livre', 'neuf merci', 'neuf micro', 'neuf moitie', 'neuf occasion', 'neuf oui', 'neuf parfait', 'neuf pas', 'neuf peux', 'neuf premiere', 'neuf prix', 'neuf seul', 'neuf tout', 'neuf tres', 'neuf vraiment', 'neufa', 'neufa ne', 'neufbatterie', 'neufbatterie excellentepas', 'neufje', 'neufje recommande', 'neufl', 'neufl arc', 'neuflivraison', 'neuflivraison soigne', 'neuve', 'neuve capacite', 'new', 'new zealand', 'ni', 'ni arriere', 'ni cable', 'ni defaut', 'ni ecran', 'ni origine', 'ni pris', 'ni quand', 'ni rembourser', 'ni sertifier', 'nickel', 'nickel esthetiquement', 'nickel petit', 'niquel', 'niquel vraiment', 'niveau', 'niveau capacite', 'niveau exterieur', 'niveau interieur', 'noel', 'noel produit', 'noir', 'noir commander', 'noir impossible', 'noires', 'noires emmene', 'noirs', 'noirs envoyer', 'non', 'non apple', 'non embout', 'non fonctionnelle', 'non jack', 'non oem', 'non original', 'non pas', 'non plus', 'non stop', 'non tout', 'normal', 'normal comment', 'normal vu', 'not', 'not support', 'note', 'note comme', 'noter', 'noter telephone', 'nouveau', 'nouveau certifie', 'nouveau recu', 'nouvelles', 'nouvelles plus', 'nulle', 'nulle part', 'numero', 'numero serie', 'oblige', 'oblige changer', 'oblige charger', 'obligeant', 'obligeant rappeler', 'obliger', 'obliger eteindre', 'occasion', 'occasion aucune', 'occasion mieux', 'occasion produit', 'octobre', 'octobre deja', 'oem', 'oem prix', 'offert', 'offert cadeau', 'offert commande', 'officiel', 'officiel apple', 'offrir', 'offrir mere', 'offrir noel', 'oled', 'oled bien', 'oled puces', 'operateur', 'operateur vitre', 'oreillettes', 'original', 'original bref', 'original encore', 'origine', 'origine alors', 'origine appel', 'origine apres', 'origine contrefacon', 'origine contrefait', 'origine ni', 'origine pas', 'origine produit', 'origine propre', 'origine remplace', 'origine vu', 'oubliais', 'oubliais telephone', 'oublier', 'oublier agit', 'oui', 'oui accessoire', 'oui eviter', 'oui vrai', 'ouvert', 'ouvert pas', 'ouvrait', 'ouvrait application', 'ouvrir', 'ouvrir mal', 'packaging', 'packaging vraiment', 'page', 'page si', 'paire', 'paire ecouteur', 'panne', 'panne aucune', 'panne jours', 'parametres', 'parametres pas', 'pareil', 'pareil attente', 'pareil lors', 'parfait', 'parfait batterie', 'parfait comme', 'parfait cordialement', 'parfait entend', 'parfait eta', 'parfait etat', 'parfait maintenant', 'parfait possede', 'parfait sauf', 'parfait servi', 'parfaitement', 'parfaitement bien', 'parfaitement description', 'parfaitement ecouteurs', 'parfaitement fonctionnel', 'parfaitement merci', 'parfaitement pas', 'parfaitement recu', 'parfaitement tout', 'parfaitement tres', 'parfaitement vient', 'parfois', 'parfois raccrocher', 'parle', 'parle acheter', 'parleur', 'parleur frontal', 'parleurservice', 'parleurservice client', 'part', 'part aucune', 'part difference', 'part modele', 'part si', 'part telephone', 'partenaire', 'partenaire amazon', 'particulier', 'particulier revanche', 'pas', 'pas achat', 'pas acheter', 'pas ailleurs', 'pas alors', 'pas apple', 'pas attendre', 'pas avis', 'pas avoir', 'pas besoin', 'pas bien', 'pas boite', 'pas cadeau', 'pas cense', 'pas certifier', 'pas cet', 'pas cette', 'pas charge', 'pas chargeur', 'pas chere', 'pas comment', 'pas commentaire', 'pas compris', 'pas comptant', 'pas conforme', 'pas correctement', 'pas coup', 'pas dechargee', 'pas decu', 'pas derange', 'pas deranger', 'pas deux', 'pas donc', 'pas ear', 'pas ecouteur', 'pas ecouteurs', 'pas ecran', 'pas erreurs', 'pas etanche', 'pas ete', 'pas etudiante', 'pas facture', 'pas fiable', 'pas films', 'pas hesiter', 'pas honnete', 'pas honnetement', 'pas impression', 'pas iphone', 'pas jai', 'pas jusqu', 'pas kit', 'pas lorsqu', 'pas meme', 'pas merci', 'pas modele', 'pas mois', 'pas neuf', 'pas non', 'pas normal', 'pas oblige', 'pas oled', 'pas oreillettes', 'pas original', 'pas origine', 'pas peine', 'pas plaindre', 'pas portable', 'pas prevu', 'pas pris', 'pas prise', 'pas produit', 'pas promesse', 'pas protege', 'pas quand', 'pas rayure', 'pas rayures', 'pas reconditionnement', 'pas recu', 'pas remboursement', 'pas renvoyer', 'pas reseau', 'pas retourne', 'pas sans', 'pas satisfait', 'pas seule', 'pas si', 'pas telephone', 'pas teste', 'pas top', 'pas tout', 'pas tres', 'pas trouve', 'pas utilisation', 'pas utiliser', 'pas vendeur', 'pas vrai', 'passe', 'passe maximum', 'passer', 'passer wifi', 'passez', 'passez chemin', 'pauvre', 'pauvre qualite', 'paye', 'paye cette', 'paye envoyer', 'paye merci', 'paye telephone', 'payer', 'payer alors', 'payer moins', 'payer telephone', 'payer vraiment', 'pb', 'pb ni', 'pb surchauffe', 'peine', 'peine mois', 'peine ne', 'peine nettoyer', 'pendant', 'pendant heures', 'pendant jours', 'pendant mois', 'pendant quelques', 'pensait', 'pensait etait', 'pense', 'pense payer', 'perdre', 'perdre eurs', 'perdu', 'perdu entrepot', 'perdu temps', 'perdu vent', 'permet', 'permet allumer', 'permet pas', 'peter', 'peter plomb', 'petit', 'petit bemol', 'petit geste', 'petit probleme', 'petite', 'petite line', 'peu', 'peu agacant', 'peu apprehension', 'peu batterie', 'peu plus', 'peu salete', 'peur', 'peur lu', 'peur oblige', 'peut', 'peut avoir', 'peut comprendre', 'peut plus', 'peut rester', 'peut vendre', 'peux', 'peux pas', 'peux vraiment', 'phone', 'phone presentait', 'phone recondinne', 'phone recycle', 'phones', 'photo', 'photo camera', 'photo correct', 'photo flou', 'photo prend', 'photo rouge', 'photos', 'photos decharge', 'piece', 'piece apple', 'pieces', 'pieces non', 'pieces origine', 'pieton', 'pieton chargeur', 'pine', 'pine sim', 'pitoyable', 'pitoyable servicetel', 'plaindre', 'plaisant', 'plaisant pas', 'plante', 'plante donc', 'plante ecran', 'plastique', 'plastique vitre', 'plateforme', 'plateforme amazon', 'plein', 'plein page', 'plomb', 'plomb ouvrait', 'plombs', 'plombs repondre', 'plupart', 'plupart commentaires', 'plus', 'plus achetant', 'plus acheter', 'plus ajout', 'plus appels', 'plus bon', 'plus ca', 'plus celle', 'plus chere', 'plus chez', 'plus dessus', 'plus dictaphone', 'plus envoye', 'plus face', 'plus garantie', 'plus grand', 'plus impossible', 'plus iphone', 'plus livreur', 'plus loin', 'plus pas', 'plus plus', 'plus portable', 'plus pourvu', 'plus protege', 'plus quand', 'plus rien', 'plus semaines', 'plus siri', 'plus sous', 'plus super', 'plus telephone', 'plus vendre', 'plus verre', 'plusieurs', 'plusieurs jours', 'plusieurs telephone', 'pluuuusieuuurs', 'pluuuusieuuurs fois', 'pods', 'pointe', 'pointe paye', 'portable', 'portable comme', 'portable demande', 'portable fils', 'portable neuf', 'portable recu', 'portable rien', 'portable tombe', 'pose', 'pose dessus', 'pose ecran', 'posee', 'posee travers', 'possede', 'possede autonomie', 'possible', 'possible grosse', 'possible rajouter', 'postes', 'postes vendeur', 'poubelle', 'poubelle ne', 'pourras', 'pourras plus', 'pourvu', 'pourvu coque', 'poussiere', 'poussiere infiltree', 'poussiere touch', 'pouvez', 'pouvez aller', 'pouvez faire', 'pouvez verifier', 'pouvoir', 'pouvoir commander', 'pouvoir retournee', 'premier', 'premier essai', 'premier iphone', 'premier jour', 'premier telephone', 'premiere', 'premiere choses', 'premiere fois', 'prend', 'prend photo', 'prendre', 'prendre photo', 'prenez', 'prenez neuf', 'prennent', 'prennent charge', 'pres', 'pres batterie', 'present', 'present dernier', 'presentait', 'presentait bien', 'presentation', 'presentation commande', 'presente', 'presente defaillance', 'presents', 'presque', 'presque neuf', 'pression', 'pression milieux', 'prevenir', 'prevenir colis', 'prevu', 'prevu apres', 'prevu dois', 'prevu rien', 'prevu sous', 'principale', 'principale comme', 'principale ne', 'principe', 'principe reconditionne', 'principe telephone', 'pris', 'pris argent', 'pris coups', 'pris offrir', 'pris peine', 'pris reconditionne', 'prise', 'prise cable', 'prix', 'prix appareil', 'prix attendais', 'prix beaucoup', 'prix bravo', 'prix cela', 'prix eleve', 'prix excellent', 'prix gb', 'prix inadmissible', 'prix occasion', 'prix pas', 'prix payer', 'prix recommande', 'prix recu', 'prix super', 'prix telephone', 'prix tres', 'prixje', 'prixje ne', 'proactif', 'proactif livraison', 'probleme', 'probleme activationmerci', 'probleme batterie', 'probleme cette', 'probleme charge', 'probleme depuis', 'probleme pas', 'probleme problemes', 'probleme recurrent', 'probleme revient', 'probleme tacle', 'probleme trouver', 'probleme venait', 'problemes', 'problemes appels', 'problemes attente', 'problemes beug', 'problemes bug', 'problemes faut', 'problemes livraison', 'procede', 'procede petit', 'produit', 'produit achete', 'produit arrive', 'produit belle', 'produit bien', 'produit cette', 'produit conforme', 'produit defectueux', 'produit etait', 'produit excellent', 'produit franchement', 'produit kazi', 'produit meilleur', 'produit meme', 'produit recommande', 'produit reconditionne', 'produit recu', 'produit retourne', 'produit tres', 'produit vendeur', 'produit verte', 'produitcomme', 'produitcomme neuflivraison', 'produits', 'produits commandes', 'produits materiel', 'produits ni', 'produits plus', 'professionnalismerecu', 'professionnalismerecu jours', 'professionnel', 'professionnel ca', 'professionnel recommande', 'professionnel recommander', 'promesse', 'promesse parfait', 'promesse recontacter', 'propose', 'propose reparation', 'propre', 'propre comme', 'propre fonctionnel', 'propre tres', 'protecteurs', 'protecteurs ecran', 'protection', 'protection avant', 'protection chargeur', 'protection ecran', 'protection ne', 'protection offert', 'protection posee', 'protection tel', 'protection vitree', 'protections', 'protections verre', 'protege', 'protege carton', 'protege donc', 'protege ecran', 'proteger', 'proteger recu', 'proteges', 'proteges coque', 'puces', 'puces equivalentes', 'puisque', 'puisque egalement', 'puisse', 'puisse vendre', 'qualite', 'qualite batterie', 'qualite battery', 'qualite belle', 'qualite etape', 'qualite mains', 'qualite marque', 'qualite oublier', 'qualite pas', 'qualite prix', 'qualite produits', 'qualite remercie', 'qualite telephone', 'qualiteet', 'qualiteet cerise', 'quand', 'quand appel', 'quand bout', 'quand branche', 'quand ecris', 'quand envie', 'quand envoye', 'quand film', 'quand meme', 'quand moins', 'quand reclame', 'quand recu', 'quand regarde', 'quand reseau', 'quand vais', 'quasi', 'quasi inutilisable', 'quasi neuf', 'quel', 'quel coud', 'quel honte', 'quelle', 'quelle deception', 'quelque', 'quelque jour', 'quelques', 'quelques jours', 'quelques mois', 'quelques rayures', 'quelques soucis', 'quoi', 'quoi telephone', 'raccrocher', 'raccrocher etc', 'rachete', 'rachete ca', 'raison', 'raison ecrans', 'raison jour', 'raison retour', 'raisonnable', 'raisonnable prevenir', 'rajouter', 'rajouter part', 'rajoutez', 'rajoutez argent', 'rallume', 'rallume batterie', 'rallume plus', 'rallumer', 'rallumer brancher', 'ranger', 'ranger telephone', 'rapide', 'rapide commande', 'rapide meme', 'rapide produit', 'rapide soigne', 'rapidement', 'rapidement apres', 'rapidement bout', 'rapidement conforme', 'rapidement emballage', 'rapidement impression', 'rapidement remise', 'rapidement rien', 'rapidement semaine', 'rapidement tres', 'rapidementavec', 'rapidementavec coque', 'rapidementtres', 'rapidementtres decuje', 'rapidite', 'rapidite expedition', 'rappeler', 'rappeler regulierement', 'rapport', 'rapport qualite', 'rare', 'ras', 'ras moment', 'ras produit', 'ravi', 'ravie', 'ravie pas', 'raye', 'raye comme', 'raye contour', 'raye cote', 'raye reconnaissance', 'rayeet', 'rayeet accessoirement', 'rayure', 'rayure batterie', 'rayure chargeur', 'rayure comme', 'rayure defaut', 'rayure ecran', 'rayure etat', 'rayure fissure', 'rayure genial', 'rayure parfait', 'rayure seule', 'rayures', 'rayures aucuns', 'rayures chocs', 'rayures comme', 'rayures cotes', 'rayures exterieures', 'rayures ni', 'rayures tout', 'rayures verre', 'rayures visiblebatterie', 'rayures visibles', 're', 're conditionne', 're expedie', 'reaprer', 'reaprer parametres', 'reception', 'reception telephone', 'reception toujours', 'recevoir', 'recevoir appels', 'recharge', 'recharge maximale', 'rechauffe', 'rechauffe vite', 'reclame', 'reclame changement', 'reclamer', 'reclamer ci', 'recoit', 'recoit pas', 'recommande', 'recommande fortement', 'recommande pas', 'recommande produit', 'recommande revendeur', 'recommande tres', 'recommande vivement', 'recommander', 'recommander sans', 'recondinne', 'recondinne article', 'recondition', 'recondition net', 'reconditione', 'reconditione premiere', 'reconditionee', 'reconditionee oui', 'reconditionne', 'reconditionne batterie', 'reconditionne ben', 'reconditionne contrefacon', 'reconditionne dirait', 'reconditionne donc', 'reconditionne excellente', 'reconditionne fonctionne', 'reconditionne gros', 'reconditionne jamais', 'reconditionne moins', 'reconditionne vendeur', 'reconditionne vendu', 'reconditionne ya', 'reconditionnee', 'reconditionnee staut', 'reconditionnement', 'reconditionnement fini', 'reconditionnement peine', 'reconditionnement serieux', 'reconditionner', 'reconditionner incompetent', 'reconditionner neuf', 'reconditionner sans', 'reconditionner semaine', 'reconditionnerecu', 'reconditionnerecu bien', 'reconditionnes', 'reconditionnes etait', 'reconditionneur', 'reconditionneur francais', 'reconditionnne', 'reconditionnne correspond', 'reconnaissance', 'reconnaissance facial', 'reconnaissance faciale', 'reconnait', 'reconnait pas', 'recontacter', 'recontacter sous', 'recu', 'recu assez', 'recu aujourd', 'recu batterie', 'recu boite', 'recu bonne', 'recu ca', 'recu comme', 'recu coque', 'recu delais', 'recu ecran', 'recu egalement', 'recu iphone', 'recu italie', 'recu juillet', 'recu mercredi', 'recu ne', 'recu pas', 'recu rapidement', 'recu samedi', 'recu sans', 'recu superbe', 'recu telephone', 'recu temps', 'recu tempsmais', 'recu tres', 'recurrent', 'recurrent dalle', 'recycle', 'recycle solution', 'redemarrer', 'redemarrer tout', 'redire', 'redire iphone', 'redire merci', 'refroidi', 'refroidi reconditionnes', 'refuse', 'refuse demande', 'refuse rembourserarnaque', 'refuse retour', 'regarde', 'regarde pres', 'reglages', 'reglages surprises', 'reglages trouves', 'regrette', 'regrette absolument', 'regrette achat', 'regrette cette', 'regrette pas', 'regretter', 'regulierement', 'regulierement impossible', 'regulierement ne', 'reinitialisation', 'reinitialisation itunes', 'reinitialiser', 'reinitialiser mettre', 'relancer', 'relancer tant', 'rembourse', 'rembourse jourset', 'rembourse si', 'remboursee', 'remboursee bien', 'remboursement', 'remboursement arrive', 'remboursement demande', 'remboursement depuis', 'remboursement doit', 'remboursement eviter', 'remboursement immediate', 'remboursement integral', 'remboursement miracle', 'remboursement ne', 'remboursement pas', 'remboursement recu', 'remboursement refuse', 'remboursement retour', 'remboursement service', 'remboursement vendeur', 'rembourser', 'rembourser joursj', 'rembourser passez', 'rembourser renvoie', 'rembourserarnaque', 'remboursment', 'remercie', 'remercie coque', 'remet', 'remet maniere', 'remettre', 'remettre informations', 'remis', 'remis marche', 'remis mode', 'remis neufl', 'remis zero', 'remise', 'remise main', 'remise neuf', 'remonteje', 'remonteje ne', 'remplace', 'remplace chargeur', 'remplacement', 'remplacement remboursement', 'remplie', 'remplie poussiere', 'rendre', 'rendu', 'rendu compte', 'reniewedje', 'reniewedje vert', 'renseignant', 'renseignant apple', 'renvoie', 'renvoie telephone', 'renvoye', 'renvoye attend', 'renvoye geniale', 'renvoye maintenant', 'renvoye telephone', 'renvoyer', 'renvoyer article', 'renvoyer faut', 'renvoyer telephone', 'renvoyez', 'renvoyez tel', 'reparation', 'reparation aupres', 'reparation donc', 'reparation etant', 'reparation pas', 'reparation sachant', 'reparation uniquement', 'repare', 'repare bout', 'reparer', 'reparer mensonge', 'reparer paye', 'repartir', 'repartir bout', 'repondre', 'repondre deconseille', 'repondus', 'repondus mail', 'reponse', 'reponse journee', 'reponse vendeur', 'reseau', 'reseau sociaux', 'reseau telephonique', 'resonne', 'resonne bien', 'restauration', 'restauration itunes', 'restauration telephone', 'reste', 'reste appuye', 'reste laisse', 'reste occasion', 'reste savoir', 'reste voir', 'rester', 'rester pendant', 'retard', 'retard colis', 'retour', 'retour chez', 'retour environ', 'retour envoyeue', 'retour gratuit', 'retour remboursement', 'retourne', 'retourne amazone', 'retourne micro', 'retourne pas', 'retournee', 'retournee produit', 'retourner', 'retourner telephone', 'retourner vrai', 'revanche', 'revanche iphone', 'revendeur', 'revient', 'revient apres', 'revient plus', 'rien', 'rien dire', 'rien faire', 'rien indique', 'rien redire', 'rien regretter', 'rien signaler', 'rien vrai', 'rigenerati', 'rigenerati srl', 'robuste', 'robuste ne', 'rouge', 'rouge quand', 'ruce', 'ruce telefon', 'sachant', 'sachant commande', 'sachant telephone', 'sachet', 'sachet tout', 'sachets', 'sachets transparents', 'saisir', 'saisir recommande', 'sale', 'sale meme', 'salete', 'salete haut', 'samedi', 'samedi avant', 'sans', 'sans arret', 'sans aucune', 'sans chargeur', 'sans chute', 'sans controler', 'sans fil', 'sans hesitation', 'sans prevenir', 'sans probleme', 'sans raison', 'sans rayures', 'sans tester', 'sans touche', 'satisfaisant', 'satisfaisant accessoires', 'satisfaisant reconnaissance', 'satisfait', 'satisfait achatje', 'satisfait achatl', 'satisfait etait', 'satisfaite', 'satisfaite cet', 'satisfaite commande', 'satisfaite livree', 'satisfaite peu', 'sauf', 'sauf aller', 'sauf micros', 'sauvegarde', 'sauvegarde restauration', 'savoir', 'savoir si', 'scandal', 'scandal dommage', 'scandaleux', 'scandaleux fait', 'scandaleux vendeur', 'seconde', 'seconde commande', 'secondes', 'secondes va', 'semaine', 'semaine apres', 'semaine deux', 'semaine utilisation', 'semaine utilise', 'semaines', 'semaines beaucoup', 'semble', 'semble correcte', 'semble etre', 'semble pas', 'serie', 'serie telephone', 'serieux', 'serieux retour', 'serte', 'serte beug', 'sertifier', 'sertifier ni', 'servi', 'servi non', 'service', 'service client', 'servicetel', 'servicetel recu', 'seul', 'seul bemol', 'seul detail', 'seul moyen', 'seul petit', 'seul peut', 'seul photos', 'seul rallume', 'seul reconditionnement', 'seul soucis', 'seul tout', 'seule', 'seule chose', 'seule rayure', 'seule seconde', 'seule trace', 'seulement', 'seulement livre', 'sharkk', 'sharkk chargeur', 'si', 'si achete', 'si avoir', 'si batterie', 'si echange', 'si faire', 'si ne', 'si non', 'si possible', 'si pouvez', 'si rembourse', 'si telephone', 'si toutes', 'si tromp', 'si voulez', 'si voyez', 'signaler', 'signaler instant', 'silicone', 'silicone protection', 'sim', 'sim sachet', 'similaire', 'similaire tous', 'simple', 'simple carton', 'sinon', 'sinon tout', 'siri', 'siri plus', 'site', 'site apple', 'site car', 'smartphones', 'smartphones livrer', 'sociaux', 'sociaux plante', 'soi', 'soi disant', 'soigne', 'soigne cable', 'soigne recommande', 'soigner', 'soigner ras', 'solide', 'solide fait', 'solution', 'solution ne', 'solution reconditionneur', 'somme', 'somme paye', 'soucis', 'soucis concernant', 'soucis depuis', 'soucis ecouteurs', 'souhaite', 'souhaite echanger', 'souhaite etre', 'souligne', 'souligne rapidite', 'sous', 'sous comme', 'sous etre', 'sous jours', 'special', 'special iphone', 'sprint', 'sprint wireless', 'srl', 'srl deconseille', 'staut', 'staut reaprer', 'stockes', 'stockes ranger', 'stop', 'stop remettre', 'store', 'store diagnostique', 'store dit', 'suffit', 'suffit verification', 'suite', 'suite defaut', 'suivant', 'suivant ras', 'suivi', 'suivi recu', 'super', 'super bien', 'super contente', 'super iphone', 'super pas', 'super produit', 'super telephone', 'super tout', 'super tres', 'super vendeur', 'super vite', 'superbe', 'superbe etat', 'superbe telephone', 'support', 'support html', 'supreme', 'supreme mobile', 'surchauffe', 'surchauffe depit', 'surement', 'surement probleme', 'surement vole', 'surpris', 'surpris recommande', 'surprise', 'surprise puisque', 'surprise telephone', 'surprises', 'surprises etat', 'surtout', 'surtout bouton', 'surtout ne', 'surtout pas', 'surtout rien', 'suspects', 'suspects barres', 'tacle', 'tacle quand', 'tactil', 'tactil blok', 'tactil ecran', 'tant', 'tant batterie', 'tel', 'tel achete', 'tel aucunes', 'tel bien', 'tel bugle', 'tel impeccable', 'tel montant', 'tel rembourse', 'telechargements', 'telechargements fonctionnement', 'telefon', 'telephone', 'telephone air', 'telephone anniversaire', 'telephone appele', 'telephone apres', 'telephone arrive', 'telephone aucun', 'telephone aucune', 'telephone aussi', 'telephone beaucoup', 'telephone beug', 'telephone bloque', 'telephone bref', 'telephone camera', 'telephone casse', 'telephone celui', 'telephone chaque', 'telephone charge', 'telephone chauffe', 'telephone comme', 'telephone commeneuf', 'telephone contre', 'telephone correspond', 'telephone decevante', 'telephone decharge', 'telephone defectueux', 'telephone disant', 'telephone donc', 'telephone duree', 'telephone emballe', 'telephone environ', 'telephone envoie', 'telephone espere', 'telephone etait', 'telephone etant', 'telephone ete', 'telephone eteint', 'telephone faux', 'telephone fete', 'telephone final', 'telephone garanti', 'telephone hs', 'telephone impeccable', 'telephone impeccablel', 'telephone jours', 'telephone justifie', 'telephone livre', 'telephone mauvaise', 'telephone mis', 'telephone ne', 'telephone nickel', 'telephone niveau', 'telephone occasion', 'telephone parfait', 'telephone pas', 'telephone peut', 'telephone portable', 'telephone presente', 'telephone problemes', 'telephone quand', 'telephone rajoutez', 'telephone rayeet', 'telephone re', 'telephone reconditionne', 'telephone reconditionner', 'telephone reconditionnne', 'telephone recu', 'telephone remboursement', 'telephone renvoye', 'telephone reparer', 'telephone reponse', 'telephone sans', 'telephone site', 'telephone soi', 'telephone surement', 'telephone toujours', 'telephone tour', 'telephone tout', 'telephone tres', 'telephone va', 'telephone vendeur', 'telephone vendu', 'telephone verifier', 'telephone vraiment', 'telephoner', 'telephoner recevoir', 'telephonique', 'telephonique concernant', 'telephoniques', 'telephoniques telechargements', 'telephonne', 'telephonne ne', 'temps', 'temps argent', 'temps chargeur', 'temps decu', 'temps disant', 'temps donc', 'temps maintenant', 'temps recommande', 'temps sans', 'temps seul', 'temps tout', 'temps verre', 'tempsmais', 'tempsmais premier', 'tenant', 'tenant pas', 'tente', 'tente coup', 'terme', 'terme dommage', 'termine', 'termine installe', 'testais', 'teste', 'teste etancheite', 'teste produit', 'tester', 'tester avant', 'tete', 'tete dit', 'tiens', 'tiens correctement', 'tient', 'tient pas', 'tient tres', 'tombe', 'tombe herbe', 'top', 'top ecouteurs', 'top franchement', 'top gentiment', 'top merci', 'top prix', 'topcommande', 'topcommande livre', 'totalement', 'totalement neuve', 'totalement satisfaite', 'touch', 'touch ne', 'touche', 'touche met', 'toujours', 'toujours batterie', 'toujours pas', 'toujours proteges', 'toujours remboursement', 'toujours repondus', 'toujours rien', 'tour', 'tour joue', 'tour telephone', 'tous', 'tous accessoires', 'tous chargeurs', 'tous effacer', 'tous ne', 'tous phones', 'tout', 'tout batterie', 'tout beug', 'tout bout', 'tout cette', 'tout commentaires', 'tout critere', 'tout emballe', 'tout fait', 'tout fonction', 'tout fonctionne', 'tout garantie', 'tout genre', 'tout marche', 'tout monde', 'tout neuf', 'tout operateur', 'tout parfait', 'tout raye', 'tout reste', 'tout satisfait', 'tout seul', 'tout temps', 'toute', 'toute facon', 'toute neuf', 'toute seul', 'toutes', 'toutes pieces', 'toutes secondes', 'trace', 'trace usures', 'tracer', 'tracer chemin', 'tranquillement', 'tranquillement travail', 'transfert', 'transfert donnees', 'transparente', 'transparente meme', 'transparents', 'transparents bien', 'transport', 'transport camera', 'transporteur', 'transporteur pas', 'travail', 'travail tres', 'travaille', 'travaille heures', 'travers', 'travers tout', 'trempe', 'trempe achat', 'trempe aucunes', 'trempe chargeur', 'trempe installe', 'trempe lavant', 'trempe ne', 'trempe pose', 'trempe tres', 'trempeje', 'trempeje depuis', 'tremper', 'tremper beaucoup', 'tres', 'tres affecte', 'tres beau', 'tres bel', 'tres bien', 'tres bon', 'tres bonne', 'tres colere', 'tres complet', 'tres content', 'tres contente', 'tres decevant', 'tres decu', 'tres decue', 'tres decut', 'tres dessus', 'tres fonctionnel', 'tres haute', 'tres heureuse', 'tres honnete', 'tres insatisfaite', 'tres mauvais', 'tres peur', 'tres professionnel', 'tres propre', 'tres rapide', 'tres rapidement', 'tres satisfaisant', 'tres satisfait', 'tres satisfaite', 'tres serieux', 'tres solide', 'tres tres', 'tres utilisable', 'triste', 'triste deux', 'trois', 'trois jours', 'tromp', 'tromp vendeur', 'trop', 'trop contente', 'trop eleve', 'trop forte', 'trop lent', 'trop long', 'trouve', 'trouve chargeur', 'trouve dommage', 'trouve meme', 'trouve pas', 'trouver', 'trouver bien', 'trouves', 'trouves web', 'ultra', 'ultra professionnel', 'uniquement', 'uniquement fois', 'uniquement livre', 'uniquement seul', 'uniquement si', 'usa', 'usa sprint', 'usine', 'usine cordialement', 'usures', 'usures rayures', 'utilisable', 'utilisable tres', 'utilisant', 'utilisant longtemps', 'utilisation', 'utilisation ecouteurs', 'utilisation emporte', 'utilisation telephone', 'utilise', 'utilise tres', 'utilisee', 'utilisee jeux', 'utiliser', 'utiliser cette', 'utiliser contactes', 'utiliser telephone', 'va', 'va donc', 'va durer', 'va faire', 'va meme', 'va pas', 'vais', 'vais reglages', 'vais renvoyer', 'valide', 'valu', 'valu retour', 'veille', 'veille iphone', 'venait', 'venait chargeur', 'vendent', 'vendent telephone', 'vendeur', 'vendeur amazon', 'vendeur antipathique', 'vendeur celui', 'vendeur cherche', 'vendeur conseiller', 'vendeur eviter', 'vendeur gros', 'vendeur met', 'vendeur ne', 'vendeur pas', 'vendeur phone', 'vendeur proactif', 'vendeur professionnalismerecu', 'vendeur professionnel', 'vendeur propose', 'vendeur puisse', 'vendeur qualite', 'vendeur refuse', 'vendeur reparation', 'vendeur rigenerati', 'vendeur si', 'vendeur supreme', 'vendeur telephone', 'vendeur top', 'vendeur tout', 'vendeur tres', 'vendeur ultra', 'vendeurs', 'vendeurs arnaque', 'vendre', 'vendre article', 'vendre plateforme', 'vendre telephone', 'vendu', 'vendu comme', 'vendu ecouteurs', 'vent', 'vent rembourser', 'ventes', 'venu', 'venu emballe', 'verification', 'verification etat', 'verification site', 'verifie', 'verifie bien', 'verifie chaque', 'verifier', 'verifier ca', 'verifier videos', 'verizon', 'verizon hong', 'verre', 'verre avant', 'verre dessus', 'verre elles', 'verre pose', 'verre protection', 'verre trempe', 'verre trempeje', 'verres', 'verres tremper', 'versa', 'versa problemes', 'version', 'version ios', 'vert', 'verte', 'verte reconditionne', 'veut', 'veut pas', 'veux', 'veux pas', 'veux passer', 'veux remboursement', 'vice', 'vice versa', 'video', 'video bonjour', 'video bonjourj', 'video fait', 'video souhaite', 'video tres', 'videos', 'videos vraiment', 'vie', 'vie batterie', 'viens', 'viens repartir', 'vient', 'vient an', 'visiblebatterie', 'visiblebatterie decharge', 'visibles', 'visibles quand', 'vision', 'vision flou', 'vite', 'vite apres', 'vite etait', 'vite etat', 'vite jour', 'vite moment', 'vite quand', 'vite sinon', 'vitre', 'vitre arriere', 'vitre deja', 'vitre protection', 'vitre verre', 'vitree', 'vitree jour', 'vivement', 'vivement telephone', 'vivement vendeur', 'voient', 'voient meme', 'voir', 'voir ailleurs', 'voir amazon', 'voir capacite', 'voir duree', 'voir long', 'voir presentation', 'voir pression', 'voir temps', 'vole', 'vole remis', 'voulez', 'voulez perdre', 'voyez', 'voyez mis', 'voyez photo', 'vrai', 'vrai comme', 'vrai fouttage', 'vrai misere', 'vrai piece', 'vrai plus', 'vrai scandal', 'vraie', 'vraie bonne', 'vraiment', 'vraiment besoin', 'vraiment comme', 'vraiment conseiller', 'vraiment consterner', 'vraiment contente', 'vraiment decu', 'vraiment eviter', 'vraiment inadmissible', 'vraiment lege', 'vraiment leger', 'vraiment pas', 'vraiment plaisant', 'vraiment rien', 'vraiment tres', 'vraiment triste', 'vraimment', 'vraimment cette', 'vu', 'vu agit', 'vu commentaires', 'vu lu', 'vu plupart', 'vu prix', 'vue', 'vue commentaires', 'web', 'web plante', 'wifi', 'wifi vice', 'wireless', 'wireless verizon', 'xmax', 'xmax tous', 'ya', 'ya limites', 'yeux', 'yeux fermes', 'your', 'your browser', 'zealand', 'zealand china', 'zero', 'zero enleve', 'zero pointe']\n",
            "(200, 4157)\n"
          ],
          "name": "stdout"
        },
        {
          "output_type": "execute_result",
          "data": {
            "text/html": [
              "<div>\n",
              "<style scoped>\n",
              "    .dataframe tbody tr th:only-of-type {\n",
              "        vertical-align: middle;\n",
              "    }\n",
              "\n",
              "    .dataframe tbody tr th {\n",
              "        vertical-align: top;\n",
              "    }\n",
              "\n",
              "    .dataframe thead th {\n",
              "        text-align: right;\n",
              "    }\n",
              "</style>\n",
              "<table border=\"1\" class=\"dataframe\">\n",
              "  <thead>\n",
              "    <tr style=\"text-align: right;\">\n",
              "      <th></th>\n",
              "      <th>abime</th>\n",
              "      <th>abime comprend</th>\n",
              "      <th>abime ne</th>\n",
              "      <th>abimee</th>\n",
              "      <th>abimee franchement</th>\n",
              "      <th>absolument</th>\n",
              "      <th>absolument pas</th>\n",
              "      <th>accessoire</th>\n",
              "      <th>accessoire pas</th>\n",
              "      <th>accessoirement</th>\n",
              "      <th>accessoirement telephone</th>\n",
              "      <th>accessoires</th>\n",
              "      <th>accessoires ajoutes</th>\n",
              "      <th>accessoires compris</th>\n",
              "      <th>accessoires etaient</th>\n",
              "      <th>achat</th>\n",
              "      <th>achat bon</th>\n",
              "      <th>achat iphone</th>\n",
              "      <th>achat meme</th>\n",
              "      <th>achat pas</th>\n",
              "      <th>achat portable</th>\n",
              "      <th>achat prix</th>\n",
              "      <th>achat super</th>\n",
              "      <th>achat telephone</th>\n",
              "      <th>achat vitre</th>\n",
              "      <th>achat vraiment</th>\n",
              "      <th>achatje</th>\n",
              "      <th>achatje souhaite</th>\n",
              "      <th>achatl</th>\n",
              "      <th>achatl iphone</th>\n",
              "      <th>achetant</th>\n",
              "      <th>achetant iphone</th>\n",
              "      <th>achete</th>\n",
              "      <th>achete chez</th>\n",
              "      <th>achete iphone</th>\n",
              "      <th>achete juillet</th>\n",
              "      <th>achete marche</th>\n",
              "      <th>achete neuf</th>\n",
              "      <th>achete occasion</th>\n",
              "      <th>achete octobre</th>\n",
              "      <th>...</th>\n",
              "      <th>vraiment contente</th>\n",
              "      <th>vraiment decu</th>\n",
              "      <th>vraiment eviter</th>\n",
              "      <th>vraiment inadmissible</th>\n",
              "      <th>vraiment lege</th>\n",
              "      <th>vraiment leger</th>\n",
              "      <th>vraiment pas</th>\n",
              "      <th>vraiment plaisant</th>\n",
              "      <th>vraiment rien</th>\n",
              "      <th>vraiment tres</th>\n",
              "      <th>vraiment triste</th>\n",
              "      <th>vraimment</th>\n",
              "      <th>vraimment cette</th>\n",
              "      <th>vu</th>\n",
              "      <th>vu agit</th>\n",
              "      <th>vu commentaires</th>\n",
              "      <th>vu lu</th>\n",
              "      <th>vu plupart</th>\n",
              "      <th>vu prix</th>\n",
              "      <th>vue</th>\n",
              "      <th>vue commentaires</th>\n",
              "      <th>web</th>\n",
              "      <th>web plante</th>\n",
              "      <th>wifi</th>\n",
              "      <th>wifi vice</th>\n",
              "      <th>wireless</th>\n",
              "      <th>wireless verizon</th>\n",
              "      <th>xmax</th>\n",
              "      <th>xmax tous</th>\n",
              "      <th>ya</th>\n",
              "      <th>ya limites</th>\n",
              "      <th>yeux</th>\n",
              "      <th>yeux fermes</th>\n",
              "      <th>your</th>\n",
              "      <th>your browser</th>\n",
              "      <th>zealand</th>\n",
              "      <th>zealand china</th>\n",
              "      <th>zero</th>\n",
              "      <th>zero enleve</th>\n",
              "      <th>zero pointe</th>\n",
              "    </tr>\n",
              "  </thead>\n",
              "  <tbody>\n",
              "    <tr>\n",
              "      <th>0</th>\n",
              "      <td>0.0</td>\n",
              "      <td>0.0</td>\n",
              "      <td>0.0</td>\n",
              "      <td>0.0</td>\n",
              "      <td>0.0</td>\n",
              "      <td>0.0</td>\n",
              "      <td>0.0</td>\n",
              "      <td>0.0</td>\n",
              "      <td>0.0</td>\n",
              "      <td>0.0</td>\n",
              "      <td>0.0</td>\n",
              "      <td>0.0</td>\n",
              "      <td>0.0</td>\n",
              "      <td>0.0</td>\n",
              "      <td>0.0</td>\n",
              "      <td>0.0</td>\n",
              "      <td>0.0</td>\n",
              "      <td>0.0</td>\n",
              "      <td>0.0</td>\n",
              "      <td>0.0</td>\n",
              "      <td>0.0</td>\n",
              "      <td>0.0</td>\n",
              "      <td>0.0</td>\n",
              "      <td>0.0</td>\n",
              "      <td>0.0</td>\n",
              "      <td>0.0</td>\n",
              "      <td>0.0</td>\n",
              "      <td>0.0</td>\n",
              "      <td>0.0</td>\n",
              "      <td>0.0</td>\n",
              "      <td>0.0</td>\n",
              "      <td>0.0</td>\n",
              "      <td>0.0</td>\n",
              "      <td>0.0</td>\n",
              "      <td>0.0</td>\n",
              "      <td>0.0</td>\n",
              "      <td>0.0</td>\n",
              "      <td>0.0</td>\n",
              "      <td>0.0</td>\n",
              "      <td>0.0</td>\n",
              "      <td>...</td>\n",
              "      <td>0.0</td>\n",
              "      <td>0.0</td>\n",
              "      <td>0.0</td>\n",
              "      <td>0.0</td>\n",
              "      <td>0.0</td>\n",
              "      <td>0.0</td>\n",
              "      <td>0.0</td>\n",
              "      <td>0.0</td>\n",
              "      <td>0.0</td>\n",
              "      <td>0.000000</td>\n",
              "      <td>0.0</td>\n",
              "      <td>0.0</td>\n",
              "      <td>0.0</td>\n",
              "      <td>0.000000</td>\n",
              "      <td>0.0</td>\n",
              "      <td>0.0</td>\n",
              "      <td>0.0</td>\n",
              "      <td>0.000000</td>\n",
              "      <td>0.0</td>\n",
              "      <td>0.0</td>\n",
              "      <td>0.0</td>\n",
              "      <td>0.0</td>\n",
              "      <td>0.0</td>\n",
              "      <td>0.0</td>\n",
              "      <td>0.0</td>\n",
              "      <td>0.0</td>\n",
              "      <td>0.0</td>\n",
              "      <td>0.0</td>\n",
              "      <td>0.0</td>\n",
              "      <td>0.0</td>\n",
              "      <td>0.0</td>\n",
              "      <td>0.0</td>\n",
              "      <td>0.0</td>\n",
              "      <td>0.0</td>\n",
              "      <td>0.0</td>\n",
              "      <td>0.0</td>\n",
              "      <td>0.0</td>\n",
              "      <td>0.0</td>\n",
              "      <td>0.0</td>\n",
              "      <td>0.0</td>\n",
              "    </tr>\n",
              "    <tr>\n",
              "      <th>1</th>\n",
              "      <td>0.0</td>\n",
              "      <td>0.0</td>\n",
              "      <td>0.0</td>\n",
              "      <td>0.0</td>\n",
              "      <td>0.0</td>\n",
              "      <td>0.0</td>\n",
              "      <td>0.0</td>\n",
              "      <td>0.0</td>\n",
              "      <td>0.0</td>\n",
              "      <td>0.0</td>\n",
              "      <td>0.0</td>\n",
              "      <td>0.0</td>\n",
              "      <td>0.0</td>\n",
              "      <td>0.0</td>\n",
              "      <td>0.0</td>\n",
              "      <td>0.0</td>\n",
              "      <td>0.0</td>\n",
              "      <td>0.0</td>\n",
              "      <td>0.0</td>\n",
              "      <td>0.0</td>\n",
              "      <td>0.0</td>\n",
              "      <td>0.0</td>\n",
              "      <td>0.0</td>\n",
              "      <td>0.0</td>\n",
              "      <td>0.0</td>\n",
              "      <td>0.0</td>\n",
              "      <td>0.0</td>\n",
              "      <td>0.0</td>\n",
              "      <td>0.0</td>\n",
              "      <td>0.0</td>\n",
              "      <td>0.0</td>\n",
              "      <td>0.0</td>\n",
              "      <td>0.0</td>\n",
              "      <td>0.0</td>\n",
              "      <td>0.0</td>\n",
              "      <td>0.0</td>\n",
              "      <td>0.0</td>\n",
              "      <td>0.0</td>\n",
              "      <td>0.0</td>\n",
              "      <td>0.0</td>\n",
              "      <td>...</td>\n",
              "      <td>0.0</td>\n",
              "      <td>0.0</td>\n",
              "      <td>0.0</td>\n",
              "      <td>0.0</td>\n",
              "      <td>0.0</td>\n",
              "      <td>0.0</td>\n",
              "      <td>0.0</td>\n",
              "      <td>0.0</td>\n",
              "      <td>0.0</td>\n",
              "      <td>0.211195</td>\n",
              "      <td>0.0</td>\n",
              "      <td>0.0</td>\n",
              "      <td>0.0</td>\n",
              "      <td>0.000000</td>\n",
              "      <td>0.0</td>\n",
              "      <td>0.0</td>\n",
              "      <td>0.0</td>\n",
              "      <td>0.000000</td>\n",
              "      <td>0.0</td>\n",
              "      <td>0.0</td>\n",
              "      <td>0.0</td>\n",
              "      <td>0.0</td>\n",
              "      <td>0.0</td>\n",
              "      <td>0.0</td>\n",
              "      <td>0.0</td>\n",
              "      <td>0.0</td>\n",
              "      <td>0.0</td>\n",
              "      <td>0.0</td>\n",
              "      <td>0.0</td>\n",
              "      <td>0.0</td>\n",
              "      <td>0.0</td>\n",
              "      <td>0.0</td>\n",
              "      <td>0.0</td>\n",
              "      <td>0.0</td>\n",
              "      <td>0.0</td>\n",
              "      <td>0.0</td>\n",
              "      <td>0.0</td>\n",
              "      <td>0.0</td>\n",
              "      <td>0.0</td>\n",
              "      <td>0.0</td>\n",
              "    </tr>\n",
              "    <tr>\n",
              "      <th>2</th>\n",
              "      <td>0.0</td>\n",
              "      <td>0.0</td>\n",
              "      <td>0.0</td>\n",
              "      <td>0.0</td>\n",
              "      <td>0.0</td>\n",
              "      <td>0.0</td>\n",
              "      <td>0.0</td>\n",
              "      <td>0.0</td>\n",
              "      <td>0.0</td>\n",
              "      <td>0.0</td>\n",
              "      <td>0.0</td>\n",
              "      <td>0.0</td>\n",
              "      <td>0.0</td>\n",
              "      <td>0.0</td>\n",
              "      <td>0.0</td>\n",
              "      <td>0.0</td>\n",
              "      <td>0.0</td>\n",
              "      <td>0.0</td>\n",
              "      <td>0.0</td>\n",
              "      <td>0.0</td>\n",
              "      <td>0.0</td>\n",
              "      <td>0.0</td>\n",
              "      <td>0.0</td>\n",
              "      <td>0.0</td>\n",
              "      <td>0.0</td>\n",
              "      <td>0.0</td>\n",
              "      <td>0.0</td>\n",
              "      <td>0.0</td>\n",
              "      <td>0.0</td>\n",
              "      <td>0.0</td>\n",
              "      <td>0.0</td>\n",
              "      <td>0.0</td>\n",
              "      <td>0.0</td>\n",
              "      <td>0.0</td>\n",
              "      <td>0.0</td>\n",
              "      <td>0.0</td>\n",
              "      <td>0.0</td>\n",
              "      <td>0.0</td>\n",
              "      <td>0.0</td>\n",
              "      <td>0.0</td>\n",
              "      <td>...</td>\n",
              "      <td>0.0</td>\n",
              "      <td>0.0</td>\n",
              "      <td>0.0</td>\n",
              "      <td>0.0</td>\n",
              "      <td>0.0</td>\n",
              "      <td>0.0</td>\n",
              "      <td>0.0</td>\n",
              "      <td>0.0</td>\n",
              "      <td>0.0</td>\n",
              "      <td>0.000000</td>\n",
              "      <td>0.0</td>\n",
              "      <td>0.0</td>\n",
              "      <td>0.0</td>\n",
              "      <td>0.000000</td>\n",
              "      <td>0.0</td>\n",
              "      <td>0.0</td>\n",
              "      <td>0.0</td>\n",
              "      <td>0.000000</td>\n",
              "      <td>0.0</td>\n",
              "      <td>0.0</td>\n",
              "      <td>0.0</td>\n",
              "      <td>0.0</td>\n",
              "      <td>0.0</td>\n",
              "      <td>0.0</td>\n",
              "      <td>0.0</td>\n",
              "      <td>0.0</td>\n",
              "      <td>0.0</td>\n",
              "      <td>0.0</td>\n",
              "      <td>0.0</td>\n",
              "      <td>0.0</td>\n",
              "      <td>0.0</td>\n",
              "      <td>0.0</td>\n",
              "      <td>0.0</td>\n",
              "      <td>0.0</td>\n",
              "      <td>0.0</td>\n",
              "      <td>0.0</td>\n",
              "      <td>0.0</td>\n",
              "      <td>0.0</td>\n",
              "      <td>0.0</td>\n",
              "      <td>0.0</td>\n",
              "    </tr>\n",
              "    <tr>\n",
              "      <th>3</th>\n",
              "      <td>0.0</td>\n",
              "      <td>0.0</td>\n",
              "      <td>0.0</td>\n",
              "      <td>0.0</td>\n",
              "      <td>0.0</td>\n",
              "      <td>0.0</td>\n",
              "      <td>0.0</td>\n",
              "      <td>0.0</td>\n",
              "      <td>0.0</td>\n",
              "      <td>0.0</td>\n",
              "      <td>0.0</td>\n",
              "      <td>0.0</td>\n",
              "      <td>0.0</td>\n",
              "      <td>0.0</td>\n",
              "      <td>0.0</td>\n",
              "      <td>0.0</td>\n",
              "      <td>0.0</td>\n",
              "      <td>0.0</td>\n",
              "      <td>0.0</td>\n",
              "      <td>0.0</td>\n",
              "      <td>0.0</td>\n",
              "      <td>0.0</td>\n",
              "      <td>0.0</td>\n",
              "      <td>0.0</td>\n",
              "      <td>0.0</td>\n",
              "      <td>0.0</td>\n",
              "      <td>0.0</td>\n",
              "      <td>0.0</td>\n",
              "      <td>0.0</td>\n",
              "      <td>0.0</td>\n",
              "      <td>0.0</td>\n",
              "      <td>0.0</td>\n",
              "      <td>0.0</td>\n",
              "      <td>0.0</td>\n",
              "      <td>0.0</td>\n",
              "      <td>0.0</td>\n",
              "      <td>0.0</td>\n",
              "      <td>0.0</td>\n",
              "      <td>0.0</td>\n",
              "      <td>0.0</td>\n",
              "      <td>...</td>\n",
              "      <td>0.0</td>\n",
              "      <td>0.0</td>\n",
              "      <td>0.0</td>\n",
              "      <td>0.0</td>\n",
              "      <td>0.0</td>\n",
              "      <td>0.0</td>\n",
              "      <td>0.0</td>\n",
              "      <td>0.0</td>\n",
              "      <td>0.0</td>\n",
              "      <td>0.000000</td>\n",
              "      <td>0.0</td>\n",
              "      <td>0.0</td>\n",
              "      <td>0.0</td>\n",
              "      <td>0.098103</td>\n",
              "      <td>0.0</td>\n",
              "      <td>0.0</td>\n",
              "      <td>0.0</td>\n",
              "      <td>0.120884</td>\n",
              "      <td>0.0</td>\n",
              "      <td>0.0</td>\n",
              "      <td>0.0</td>\n",
              "      <td>0.0</td>\n",
              "      <td>0.0</td>\n",
              "      <td>0.0</td>\n",
              "      <td>0.0</td>\n",
              "      <td>0.0</td>\n",
              "      <td>0.0</td>\n",
              "      <td>0.0</td>\n",
              "      <td>0.0</td>\n",
              "      <td>0.0</td>\n",
              "      <td>0.0</td>\n",
              "      <td>0.0</td>\n",
              "      <td>0.0</td>\n",
              "      <td>0.0</td>\n",
              "      <td>0.0</td>\n",
              "      <td>0.0</td>\n",
              "      <td>0.0</td>\n",
              "      <td>0.0</td>\n",
              "      <td>0.0</td>\n",
              "      <td>0.0</td>\n",
              "    </tr>\n",
              "    <tr>\n",
              "      <th>4</th>\n",
              "      <td>0.0</td>\n",
              "      <td>0.0</td>\n",
              "      <td>0.0</td>\n",
              "      <td>0.0</td>\n",
              "      <td>0.0</td>\n",
              "      <td>0.0</td>\n",
              "      <td>0.0</td>\n",
              "      <td>0.0</td>\n",
              "      <td>0.0</td>\n",
              "      <td>0.0</td>\n",
              "      <td>0.0</td>\n",
              "      <td>0.0</td>\n",
              "      <td>0.0</td>\n",
              "      <td>0.0</td>\n",
              "      <td>0.0</td>\n",
              "      <td>0.0</td>\n",
              "      <td>0.0</td>\n",
              "      <td>0.0</td>\n",
              "      <td>0.0</td>\n",
              "      <td>0.0</td>\n",
              "      <td>0.0</td>\n",
              "      <td>0.0</td>\n",
              "      <td>0.0</td>\n",
              "      <td>0.0</td>\n",
              "      <td>0.0</td>\n",
              "      <td>0.0</td>\n",
              "      <td>0.0</td>\n",
              "      <td>0.0</td>\n",
              "      <td>0.0</td>\n",
              "      <td>0.0</td>\n",
              "      <td>0.0</td>\n",
              "      <td>0.0</td>\n",
              "      <td>0.0</td>\n",
              "      <td>0.0</td>\n",
              "      <td>0.0</td>\n",
              "      <td>0.0</td>\n",
              "      <td>0.0</td>\n",
              "      <td>0.0</td>\n",
              "      <td>0.0</td>\n",
              "      <td>0.0</td>\n",
              "      <td>...</td>\n",
              "      <td>0.0</td>\n",
              "      <td>0.0</td>\n",
              "      <td>0.0</td>\n",
              "      <td>0.0</td>\n",
              "      <td>0.0</td>\n",
              "      <td>0.0</td>\n",
              "      <td>0.0</td>\n",
              "      <td>0.0</td>\n",
              "      <td>0.0</td>\n",
              "      <td>0.000000</td>\n",
              "      <td>0.0</td>\n",
              "      <td>0.0</td>\n",
              "      <td>0.0</td>\n",
              "      <td>0.000000</td>\n",
              "      <td>0.0</td>\n",
              "      <td>0.0</td>\n",
              "      <td>0.0</td>\n",
              "      <td>0.000000</td>\n",
              "      <td>0.0</td>\n",
              "      <td>0.0</td>\n",
              "      <td>0.0</td>\n",
              "      <td>0.0</td>\n",
              "      <td>0.0</td>\n",
              "      <td>0.0</td>\n",
              "      <td>0.0</td>\n",
              "      <td>0.0</td>\n",
              "      <td>0.0</td>\n",
              "      <td>0.0</td>\n",
              "      <td>0.0</td>\n",
              "      <td>0.0</td>\n",
              "      <td>0.0</td>\n",
              "      <td>0.0</td>\n",
              "      <td>0.0</td>\n",
              "      <td>0.0</td>\n",
              "      <td>0.0</td>\n",
              "      <td>0.0</td>\n",
              "      <td>0.0</td>\n",
              "      <td>0.0</td>\n",
              "      <td>0.0</td>\n",
              "      <td>0.0</td>\n",
              "    </tr>\n",
              "  </tbody>\n",
              "</table>\n",
              "<p>5 rows × 4157 columns</p>\n",
              "</div>"
            ],
            "text/plain": [
              "   abime  abime comprend  abime ne  ...  zero  zero enleve  zero pointe\n",
              "0    0.0             0.0       0.0  ...   0.0          0.0          0.0\n",
              "1    0.0             0.0       0.0  ...   0.0          0.0          0.0\n",
              "2    0.0             0.0       0.0  ...   0.0          0.0          0.0\n",
              "3    0.0             0.0       0.0  ...   0.0          0.0          0.0\n",
              "4    0.0             0.0       0.0  ...   0.0          0.0          0.0\n",
              "\n",
              "[5 rows x 4157 columns]"
            ]
          },
          "metadata": {
            "tags": []
          },
          "execution_count": 166
        }
      ]
    },
    {
      "cell_type": "markdown",
      "metadata": {
        "id": "PLcN-td--Hha"
      },
      "source": [
        "#### Word2Vec\n",
        "\n",
        "Pour les hyper paramètres j'ai opté pour : \n",
        "- window de 10 : Il répresente la fenêtre avant et après chaque mot pour avoir du contexte en gardant en mémoire la compréhension des items postérieurs à 10 items et anterieurs à 10 items aussi.\n",
        "- size de 100 : j'ai choisi d'avoir 100 vecteurs, je suis partie de l'hypothèse de mettre plus de vecteurs que de mots uniques existants, qui sont de 65 mots.\n",
        "- min_count de 3 : J'ai choisi d'ignorer le mot s'il apprait moins de trois fois dans le corpus.\n",
        "- Workers  de 4 : Pour accélérer l'entrainement du modèle."
      ]
    },
    {
      "cell_type": "code",
      "metadata": {
        "id": "3f8amOJ--Ok1"
      },
      "source": [
        "corpus = [phrase.split() for phrase in df_clean['commentaire']]\n",
        "\n",
        "WORD2_VEC_DIMENSION = 100\n",
        "from gensim.models import Word2Vec\n",
        "w2vModel = Word2Vec(sentences=corpus, window=10, min_count=3, workers=4, size=WORD2_VEC_DIMENSION)\n",
        "w2vModel.save(\"word2vec.model\")"
      ],
      "execution_count": null,
      "outputs": []
    },
    {
      "cell_type": "code",
      "metadata": {
        "id": "xJ8bZKnoDQp1",
        "colab": {
          "base_uri": "https://localhost:8080/"
        },
        "outputId": "b0c1de2b-24d0-435e-d01b-157ab63b195e"
      },
      "source": [
        "w2vModel.wv.vocab"
      ],
      "execution_count": null,
      "outputs": [
        {
          "output_type": "execute_result",
          "data": {
            "text/plain": [
              "{'accessoires': <gensim.models.keyedvectors.Vocab at 0x7fecc6292090>,\n",
              " 'achat': <gensim.models.keyedvectors.Vocab at 0x7fec24f2a3d0>,\n",
              " 'achete': <gensim.models.keyedvectors.Vocab at 0x7fec24f2ae90>,\n",
              " 'acheter': <gensim.models.keyedvectors.Vocab at 0x7fecc62920d0>,\n",
              " 'adaptateur': <gensim.models.keyedvectors.Vocab at 0x7fec260618d0>,\n",
              " 'affaire': <gensim.models.keyedvectors.Vocab at 0x7fec24eded10>,\n",
              " 'ailleurs': <gensim.models.keyedvectors.Vocab at 0x7fec24f0a950>,\n",
              " 'aller': <gensim.models.keyedvectors.Vocab at 0x7fec24f2a290>,\n",
              " 'allez': <gensim.models.keyedvectors.Vocab at 0x7fec24f0a510>,\n",
              " 'allume': <gensim.models.keyedvectors.Vocab at 0x7fecc6292150>,\n",
              " 'alors': <gensim.models.keyedvectors.Vocab at 0x7fec24f1d6d0>,\n",
              " 'amazon': <gensim.models.keyedvectors.Vocab at 0x7fec25484890>,\n",
              " 'an': <gensim.models.keyedvectors.Vocab at 0x7fec24f2a150>,\n",
              " 'appareil': <gensim.models.keyedvectors.Vocab at 0x7fec24f1d4d0>,\n",
              " 'appel': <gensim.models.keyedvectors.Vocab at 0x7fecc628dc90>,\n",
              " 'appels': <gensim.models.keyedvectors.Vocab at 0x7fec24f1d310>,\n",
              " 'apple': <gensim.models.keyedvectors.Vocab at 0x7fecc6293f90>,\n",
              " 'application': <gensim.models.keyedvectors.Vocab at 0x7fecc62924d0>,\n",
              " 'apres': <gensim.models.keyedvectors.Vocab at 0x7fec251fea90>,\n",
              " 'argent': <gensim.models.keyedvectors.Vocab at 0x7fec24fac410>,\n",
              " 'arnaque': <gensim.models.keyedvectors.Vocab at 0x7fecc628d350>,\n",
              " 'arriere': <gensim.models.keyedvectors.Vocab at 0x7fec24f2a0d0>,\n",
              " 'arrive': <gensim.models.keyedvectors.Vocab at 0x7fec24f1de10>,\n",
              " 'arriver': <gensim.models.keyedvectors.Vocab at 0x7fec24f1ddd0>,\n",
              " 'article': <gensim.models.keyedvectors.Vocab at 0x7fec24f1d150>,\n",
              " 'attente': <gensim.models.keyedvectors.Vocab at 0x7fec290d8f50>,\n",
              " 'aucun': <gensim.models.keyedvectors.Vocab at 0x7fec251fe2d0>,\n",
              " 'aucune': <gensim.models.keyedvectors.Vocab at 0x7fec251feb10>,\n",
              " 'aucunes': <gensim.models.keyedvectors.Vocab at 0x7fec24e7c350>,\n",
              " 'aussi': <gensim.models.keyedvectors.Vocab at 0x7fec24f2a210>,\n",
              " 'autonomie': <gensim.models.keyedvectors.Vocab at 0x7fec26061750>,\n",
              " 'autre': <gensim.models.keyedvectors.Vocab at 0x7fec24f2a6d0>,\n",
              " 'avance': <gensim.models.keyedvectors.Vocab at 0x7fec24f2a1d0>,\n",
              " 'avant': <gensim.models.keyedvectors.Vocab at 0x7fec25484750>,\n",
              " 'avis': <gensim.models.keyedvectors.Vocab at 0x7fec251fe890>,\n",
              " 'avoir': <gensim.models.keyedvectors.Vocab at 0x7fec251fee90>,\n",
              " 'batterie': <gensim.models.keyedvectors.Vocab at 0x7fec26061b10>,\n",
              " 'beau': <gensim.models.keyedvectors.Vocab at 0x7fec24f1dd50>,\n",
              " 'beaucoup': <gensim.models.keyedvectors.Vocab at 0x7fec24f2a610>,\n",
              " 'bemol': <gensim.models.keyedvectors.Vocab at 0x7fecc6293690>,\n",
              " 'beug': <gensim.models.keyedvectors.Vocab at 0x7fec24f1db10>,\n",
              " 'bien': <gensim.models.keyedvectors.Vocab at 0x7fec24eded90>,\n",
              " 'bloque': <gensim.models.keyedvectors.Vocab at 0x7fec24f0ab50>,\n",
              " 'boite': <gensim.models.keyedvectors.Vocab at 0x7fec26061090>,\n",
              " 'boitier': <gensim.models.keyedvectors.Vocab at 0x7fec24f0af90>,\n",
              " 'bon': <gensim.models.keyedvectors.Vocab at 0x7fec24f1dc90>,\n",
              " 'bonjour': <gensim.models.keyedvectors.Vocab at 0x7fec24f1d390>,\n",
              " 'bonne': <gensim.models.keyedvectors.Vocab at 0x7fec24edee50>,\n",
              " 'bout': <gensim.models.keyedvectors.Vocab at 0x7fecc628dd50>,\n",
              " 'bref': <gensim.models.keyedvectors.Vocab at 0x7fec24fc2f10>,\n",
              " 'browser': <gensim.models.keyedvectors.Vocab at 0x7fecc6292c50>,\n",
              " 'bug': <gensim.models.keyedvectors.Vocab at 0x7fec24f2a890>,\n",
              " 'ca': <gensim.models.keyedvectors.Vocab at 0x7fec24f1d050>,\n",
              " 'cable': <gensim.models.keyedvectors.Vocab at 0x7fec251feb50>,\n",
              " 'cadeau': <gensim.models.keyedvectors.Vocab at 0x7fec24fac510>,\n",
              " 'camera': <gensim.models.keyedvectors.Vocab at 0x7fec24f1dd10>,\n",
              " 'capacite': <gensim.models.keyedvectors.Vocab at 0x7fec24f2aad0>,\n",
              " 'car': <gensim.models.keyedvectors.Vocab at 0x7fecc6292390>,\n",
              " 'carton': <gensim.models.keyedvectors.Vocab at 0x7fec25484810>,\n",
              " 'cela': <gensim.models.keyedvectors.Vocab at 0x7fec24ede390>,\n",
              " 'celui': <gensim.models.keyedvectors.Vocab at 0x7fecc6292510>,\n",
              " 'cet': <gensim.models.keyedvectors.Vocab at 0x7fec24edefd0>,\n",
              " 'cette': <gensim.models.keyedvectors.Vocab at 0x7fec24f2a4d0>,\n",
              " 'change': <gensim.models.keyedvectors.Vocab at 0x7fec24fc2690>,\n",
              " 'changer': <gensim.models.keyedvectors.Vocab at 0x7fec24fc23d0>,\n",
              " 'chaque': <gensim.models.keyedvectors.Vocab at 0x7fec251fe090>,\n",
              " 'charge': <gensim.models.keyedvectors.Vocab at 0x7fec24f2ac50>,\n",
              " 'charger': <gensim.models.keyedvectors.Vocab at 0x7fec24f1db90>,\n",
              " 'chargeur': <gensim.models.keyedvectors.Vocab at 0x7fec24ede410>,\n",
              " 'chauffe': <gensim.models.keyedvectors.Vocab at 0x7fec24fc2490>,\n",
              " 'chemin': <gensim.models.keyedvectors.Vocab at 0x7fec24f0a650>,\n",
              " 'chere': <gensim.models.keyedvectors.Vocab at 0x7fec24f1d810>,\n",
              " 'chez': <gensim.models.keyedvectors.Vocab at 0x7fec24f1dc50>,\n",
              " 'china': <gensim.models.keyedvectors.Vocab at 0x7fec24f0ac10>,\n",
              " 'ci': <gensim.models.keyedvectors.Vocab at 0x7fec24f0a050>,\n",
              " 'client': <gensim.models.keyedvectors.Vocab at 0x7fecc628dad0>,\n",
              " 'colis': <gensim.models.keyedvectors.Vocab at 0x7fec24f1ded0>,\n",
              " 'commande': <gensim.models.keyedvectors.Vocab at 0x7fec251fe950>,\n",
              " 'commander': <gensim.models.keyedvectors.Vocab at 0x7fec24f1d610>,\n",
              " 'comme': <gensim.models.keyedvectors.Vocab at 0x7fec254845d0>,\n",
              " 'commentaires': <gensim.models.keyedvectors.Vocab at 0x7fec24ede710>,\n",
              " 'compris': <gensim.models.keyedvectors.Vocab at 0x7fec251e32d0>,\n",
              " 'compte': <gensim.models.keyedvectors.Vocab at 0x7fec24f2ab90>,\n",
              " 'conforme': <gensim.models.keyedvectors.Vocab at 0x7fec24ede0d0>,\n",
              " 'content': <gensim.models.keyedvectors.Vocab at 0x7fec24f1d490>,\n",
              " 'contente': <gensim.models.keyedvectors.Vocab at 0x7fec24f2a710>,\n",
              " 'contrefacon': <gensim.models.keyedvectors.Vocab at 0x7fec24f0aa10>,\n",
              " 'contrefait': <gensim.models.keyedvectors.Vocab at 0x7fec24f0abd0>,\n",
              " 'coque': <gensim.models.keyedvectors.Vocab at 0x7fec24f2ad10>,\n",
              " 'correctement': <gensim.models.keyedvectors.Vocab at 0x7fec251e3b90>,\n",
              " 'correspond': <gensim.models.keyedvectors.Vocab at 0x7fecc6292a50>,\n",
              " 'date': <gensim.models.keyedvectors.Vocab at 0x7fec25484350>,\n",
              " 'debut': <gensim.models.keyedvectors.Vocab at 0x7fec24fc2550>,\n",
              " 'decharge': <gensim.models.keyedvectors.Vocab at 0x7fecc628d6d0>,\n",
              " 'deconseille': <gensim.models.keyedvectors.Vocab at 0x7fec24f0a7d0>,\n",
              " 'decu': <gensim.models.keyedvectors.Vocab at 0x7fec251fe350>,\n",
              " 'defaut': <gensim.models.keyedvectors.Vocab at 0x7fec251fe5d0>,\n",
              " 'defectueux': <gensim.models.keyedvectors.Vocab at 0x7fecc628d510>,\n",
              " 'deja': <gensim.models.keyedvectors.Vocab at 0x7fec25484950>,\n",
              " 'demande': <gensim.models.keyedvectors.Vocab at 0x7fecc628d650>,\n",
              " 'demander': <gensim.models.keyedvectors.Vocab at 0x7fecc628d810>,\n",
              " 'depuis': <gensim.models.keyedvectors.Vocab at 0x7fec24f1d2d0>,\n",
              " 'dernier': <gensim.models.keyedvectors.Vocab at 0x7fec24f1de90>,\n",
              " 'description': <gensim.models.keyedvectors.Vocab at 0x7fec24ede190>,\n",
              " 'dessus': <gensim.models.keyedvectors.Vocab at 0x7fec24f8dd50>,\n",
              " 'detail': <gensim.models.keyedvectors.Vocab at 0x7fec251fe150>,\n",
              " 'deux': <gensim.models.keyedvectors.Vocab at 0x7fec254843d0>,\n",
              " 'dire': <gensim.models.keyedvectors.Vocab at 0x7fec24f1d090>,\n",
              " 'disant': <gensim.models.keyedvectors.Vocab at 0x7fec24f0af50>,\n",
              " 'dit': <gensim.models.keyedvectors.Vocab at 0x7fec24f2af10>,\n",
              " 'does': <gensim.models.keyedvectors.Vocab at 0x7fecc62928d0>,\n",
              " 'dommage': <gensim.models.keyedvectors.Vocab at 0x7fec24f1dad0>,\n",
              " 'donc': <gensim.models.keyedvectors.Vocab at 0x7fec24f1d9d0>,\n",
              " 'donne': <gensim.models.keyedvectors.Vocab at 0x7fec25484b50>,\n",
              " 'duree': <gensim.models.keyedvectors.Vocab at 0x7fec251fe850>,\n",
              " 'echange': <gensim.models.keyedvectors.Vocab at 0x7fec24f0ae10>,\n",
              " 'ecouteur': <gensim.models.keyedvectors.Vocab at 0x7fec251fe410>,\n",
              " 'ecouteurs': <gensim.models.keyedvectors.Vocab at 0x7fec260611d0>,\n",
              " 'ecran': <gensim.models.keyedvectors.Vocab at 0x7fec251fe810>,\n",
              " 'egalement': <gensim.models.keyedvectors.Vocab at 0x7fec24f2a910>,\n",
              " 'emballage': <gensim.models.keyedvectors.Vocab at 0x7fec24f2a8d0>,\n",
              " 'emballe': <gensim.models.keyedvectors.Vocab at 0x7fec24ede950>,\n",
              " 'encore': <gensim.models.keyedvectors.Vocab at 0x7fec24f2acd0>,\n",
              " 'environ': <gensim.models.keyedvectors.Vocab at 0x7fecc628da10>,\n",
              " 'envoye': <gensim.models.keyedvectors.Vocab at 0x7fec24f8dc10>,\n",
              " 'espere': <gensim.models.keyedvectors.Vocab at 0x7fec24fc2c90>,\n",
              " 'etait': <gensim.models.keyedvectors.Vocab at 0x7fec24f2a490>,\n",
              " 'etant': <gensim.models.keyedvectors.Vocab at 0x7fec24f0a450>,\n",
              " 'etat': <gensim.models.keyedvectors.Vocab at 0x7fec251fe990>,\n",
              " 'ete': <gensim.models.keyedvectors.Vocab at 0x7fec26061510>,\n",
              " 'eteindre': <gensim.models.keyedvectors.Vocab at 0x7fec24f1d650>,\n",
              " 'eteint': <gensim.models.keyedvectors.Vocab at 0x7fecc6292790>,\n",
              " 'etre': <gensim.models.keyedvectors.Vocab at 0x7fec24f0a8d0>,\n",
              " 'eviter': <gensim.models.keyedvectors.Vocab at 0x7fecc628d190>,\n",
              " 'excellent': <gensim.models.keyedvectors.Vocab at 0x7fec24f1d910>,\n",
              " 'face': <gensim.models.keyedvectors.Vocab at 0x7fec24f0ab90>,\n",
              " 'faire': <gensim.models.keyedvectors.Vocab at 0x7fec24fc2f50>,\n",
              " 'fais': <gensim.models.keyedvectors.Vocab at 0x7fec24edec50>,\n",
              " 'fait': <gensim.models.keyedvectors.Vocab at 0x7fec24f2ad90>,\n",
              " 'faut': <gensim.models.keyedvectors.Vocab at 0x7fecc628d1d0>,\n",
              " 'faux': <gensim.models.keyedvectors.Vocab at 0x7fecc628d4d0>,\n",
              " 'fiche': <gensim.models.keyedvectors.Vocab at 0x7fec24f2ac10>,\n",
              " 'film': <gensim.models.keyedvectors.Vocab at 0x7fec24f0a210>,\n",
              " 'fils': <gensim.models.keyedvectors.Vocab at 0x7fec24f1d210>,\n",
              " 'finalement': <gensim.models.keyedvectors.Vocab at 0x7fec251fe8d0>,\n",
              " 'fois': <gensim.models.keyedvectors.Vocab at 0x7fec24f2a090>,\n",
              " 'fonction': <gensim.models.keyedvectors.Vocab at 0x7fec24fc2a10>,\n",
              " 'fonctionne': <gensim.models.keyedvectors.Vocab at 0x7fec24e7c950>,\n",
              " 'fonctionnel': <gensim.models.keyedvectors.Vocab at 0x7fec26061190>,\n",
              " 'franchement': <gensim.models.keyedvectors.Vocab at 0x7fec251fec90>,\n",
              " 'fuir': <gensim.models.keyedvectors.Vocab at 0x7fec24f0aa50>,\n",
              " 'garantie': <gensim.models.keyedvectors.Vocab at 0x7fecc6293250>,\n",
              " 'go': <gensim.models.keyedvectors.Vocab at 0x7fec251fefd0>,\n",
              " 'gros': <gensim.models.keyedvectors.Vocab at 0x7fec24f2add0>,\n",
              " 'haut': <gensim.models.keyedvectors.Vocab at 0x7fecc6292310>,\n",
              " 'heures': <gensim.models.keyedvectors.Vocab at 0x7fecc628db90>,\n",
              " 'hs': <gensim.models.keyedvectors.Vocab at 0x7fecc6292a90>,\n",
              " 'html': <gensim.models.keyedvectors.Vocab at 0x7fecc6292950>,\n",
              " 'id': <gensim.models.keyedvectors.Vocab at 0x7fec24f0a490>,\n",
              " 'impeccable': <gensim.models.keyedvectors.Vocab at 0x7fec24f2a810>,\n",
              " 'impossible': <gensim.models.keyedvectors.Vocab at 0x7fec24f0a4d0>,\n",
              " 'impression': <gensim.models.keyedvectors.Vocab at 0x7fec24f1dc10>,\n",
              " 'installe': <gensim.models.keyedvectors.Vocab at 0x7fec24f2a050>,\n",
              " 'interieur': <gensim.models.keyedvectors.Vocab at 0x7fec251fe450>,\n",
              " 'inutilisable': <gensim.models.keyedvectors.Vocab at 0x7fec24f0acd0>,\n",
              " 'iphone': <gensim.models.keyedvectors.Vocab at 0x7fec24ede690>,\n",
              " 'itunes': <gensim.models.keyedvectors.Vocab at 0x7fec24f0a150>,\n",
              " 'jai': <gensim.models.keyedvectors.Vocab at 0x7fec24f0a910>,\n",
              " 'jamais': <gensim.models.keyedvectors.Vocab at 0x7fec24f1d590>,\n",
              " 'jolie': <gensim.models.keyedvectors.Vocab at 0x7fecc6292550>,\n",
              " 'jour': <gensim.models.keyedvectors.Vocab at 0x7fec24f2a550>,\n",
              " 'journee': <gensim.models.keyedvectors.Vocab at 0x7fec24f1de50>,\n",
              " 'jours': <gensim.models.keyedvectors.Vocab at 0x7fec24edebd0>,\n",
              " 'juste': <gensim.models.keyedvectors.Vocab at 0x7fec24f2afd0>,\n",
              " 'lcd': <gensim.models.keyedvectors.Vocab at 0x7fec24f0a710>,\n",
              " 'leurs': <gensim.models.keyedvectors.Vocab at 0x7fec262004d0>,\n",
              " 'livraison': <gensim.models.keyedvectors.Vocab at 0x7fec24ede650>,\n",
              " 'livre': <gensim.models.keyedvectors.Vocab at 0x7fec24f2a410>,\n",
              " 'livree': <gensim.models.keyedvectors.Vocab at 0x7fec24f2a5d0>,\n",
              " 'livrer': <gensim.models.keyedvectors.Vocab at 0x7fec26061550>,\n",
              " 'lu': <gensim.models.keyedvectors.Vocab at 0x7fec251fedd0>,\n",
              " 'maintenant': <gensim.models.keyedvectors.Vocab at 0x7fec24ede090>,\n",
              " 'marche': <gensim.models.keyedvectors.Vocab at 0x7fec26061350>,\n",
              " 'marque': <gensim.models.keyedvectors.Vocab at 0x7fec251fea50>,\n",
              " 'mauvais': <gensim.models.keyedvectors.Vocab at 0x7fecc628d610>,\n",
              " 'mauvaise': <gensim.models.keyedvectors.Vocab at 0x7fecc628d890>,\n",
              " 'meme': <gensim.models.keyedvectors.Vocab at 0x7fec24f2af90>,\n",
              " 'merci': <gensim.models.keyedvectors.Vocab at 0x7fec24f2a590>,\n",
              " 'met': <gensim.models.keyedvectors.Vocab at 0x7fec24f0a0d0>,\n",
              " 'mettre': <gensim.models.keyedvectors.Vocab at 0x7fecc628ddd0>,\n",
              " 'micro': <gensim.models.keyedvectors.Vocab at 0x7fec26061590>,\n",
              " 'mis': <gensim.models.keyedvectors.Vocab at 0x7fec290d8850>,\n",
              " 'modele': <gensim.models.keyedvectors.Vocab at 0x7fecc628d690>,\n",
              " 'moins': <gensim.models.keyedvectors.Vocab at 0x7fec24f1df50>,\n",
              " 'mois': <gensim.models.keyedvectors.Vocab at 0x7fecc6293d50>,\n",
              " 'ne': <gensim.models.keyedvectors.Vocab at 0x7fec251fe3d0>,\n",
              " 'neuf': <gensim.models.keyedvectors.Vocab at 0x7fec26061cd0>,\n",
              " 'ni': <gensim.models.keyedvectors.Vocab at 0x7fec251febd0>,\n",
              " 'nickel': <gensim.models.keyedvectors.Vocab at 0x7fec26061d90>,\n",
              " 'niveau': <gensim.models.keyedvectors.Vocab at 0x7fec24f1da10>,\n",
              " 'non': <gensim.models.keyedvectors.Vocab at 0x7fec24edef90>,\n",
              " 'not': <gensim.models.keyedvectors.Vocab at 0x7fecc6292590>,\n",
              " 'occasion': <gensim.models.keyedvectors.Vocab at 0x7fec25484850>,\n",
              " 'oled': <gensim.models.keyedvectors.Vocab at 0x7fec24f0a350>,\n",
              " 'original': <gensim.models.keyedvectors.Vocab at 0x7fec24fc2110>,\n",
              " 'origine': <gensim.models.keyedvectors.Vocab at 0x7fec26061110>,\n",
              " 'oui': <gensim.models.keyedvectors.Vocab at 0x7fec251fe250>,\n",
              " 'parfait': <gensim.models.keyedvectors.Vocab at 0x7fec251fe910>,\n",
              " 'parfaitement': <gensim.models.keyedvectors.Vocab at 0x7fec25484410>,\n",
              " 'part': <gensim.models.keyedvectors.Vocab at 0x7fecc6292b50>,\n",
              " 'pas': <gensim.models.keyedvectors.Vocab at 0x7fecc6293a50>,\n",
              " 'paye': <gensim.models.keyedvectors.Vocab at 0x7fec24f0aed0>,\n",
              " 'payer': <gensim.models.keyedvectors.Vocab at 0x7fec24f1d410>,\n",
              " 'pb': <gensim.models.keyedvectors.Vocab at 0x7fec251fed50>,\n",
              " 'peine': <gensim.models.keyedvectors.Vocab at 0x7fecc628d9d0>,\n",
              " 'pendant': <gensim.models.keyedvectors.Vocab at 0x7fecc6293dd0>,\n",
              " 'perdu': <gensim.models.keyedvectors.Vocab at 0x7fecc628d7d0>,\n",
              " 'permet': <gensim.models.keyedvectors.Vocab at 0x7fec24e7c750>,\n",
              " 'petit': <gensim.models.keyedvectors.Vocab at 0x7fec26061f10>,\n",
              " 'peu': <gensim.models.keyedvectors.Vocab at 0x7fec24edeb50>,\n",
              " 'peur': <gensim.models.keyedvectors.Vocab at 0x7fec251fe650>,\n",
              " 'peut': <gensim.models.keyedvectors.Vocab at 0x7fec24f2ac90>,\n",
              " 'phone': <gensim.models.keyedvectors.Vocab at 0x7fecc6292610>,\n",
              " 'photo': <gensim.models.keyedvectors.Vocab at 0x7fec24f1d710>,\n",
              " 'plante': <gensim.models.keyedvectors.Vocab at 0x7fec24f0a810>,\n",
              " 'plus': <gensim.models.keyedvectors.Vocab at 0x7fec24f8de10>,\n",
              " 'plusieurs': <gensim.models.keyedvectors.Vocab at 0x7fec24ede210>,\n",
              " 'portable': <gensim.models.keyedvectors.Vocab at 0x7fec24f1d190>,\n",
              " 'pose': <gensim.models.keyedvectors.Vocab at 0x7fec24f8df50>,\n",
              " 'poubelle': <gensim.models.keyedvectors.Vocab at 0x7fec24f0ac50>,\n",
              " 'pouvez': <gensim.models.keyedvectors.Vocab at 0x7fec24f2a650>,\n",
              " 'premier': <gensim.models.keyedvectors.Vocab at 0x7fec24f2ab50>,\n",
              " 'premiere': <gensim.models.keyedvectors.Vocab at 0x7fec24f2abd0>,\n",
              " 'prevu': <gensim.models.keyedvectors.Vocab at 0x7fec24f2a7d0>,\n",
              " 'principale': <gensim.models.keyedvectors.Vocab at 0x7fec24f0a390>,\n",
              " 'pris': <gensim.models.keyedvectors.Vocab at 0x7fec251e31d0>,\n",
              " 'prix': <gensim.models.keyedvectors.Vocab at 0x7fec24ededd0>,\n",
              " 'probleme': <gensim.models.keyedvectors.Vocab at 0x7fec26061ad0>,\n",
              " 'problemes': <gensim.models.keyedvectors.Vocab at 0x7fec24f1d450>,\n",
              " 'produit': <gensim.models.keyedvectors.Vocab at 0x7fec24f2a790>,\n",
              " 'produits': <gensim.models.keyedvectors.Vocab at 0x7fec24f1da50>,\n",
              " 'professionnel': <gensim.models.keyedvectors.Vocab at 0x7fec24f2aa90>,\n",
              " 'propre': <gensim.models.keyedvectors.Vocab at 0x7fec260613d0>,\n",
              " 'protection': <gensim.models.keyedvectors.Vocab at 0x7fec24f2ab10>,\n",
              " 'protege': <gensim.models.keyedvectors.Vocab at 0x7fec25484710>,\n",
              " 'qualite': <gensim.models.keyedvectors.Vocab at 0x7fec251fe9d0>,\n",
              " 'quand': <gensim.models.keyedvectors.Vocab at 0x7fec26061290>,\n",
              " 'quasi': <gensim.models.keyedvectors.Vocab at 0x7fec26061e90>,\n",
              " 'quelques': <gensim.models.keyedvectors.Vocab at 0x7fec26061a50>,\n",
              " 'raison': <gensim.models.keyedvectors.Vocab at 0x7fec24f0a610>,\n",
              " 'rapide': <gensim.models.keyedvectors.Vocab at 0x7fec24ede790>,\n",
              " 'rapidement': <gensim.models.keyedvectors.Vocab at 0x7fec24f2af50>,\n",
              " 'rapport': <gensim.models.keyedvectors.Vocab at 0x7fec24f1dd90>,\n",
              " 'ras': <gensim.models.keyedvectors.Vocab at 0x7fec24f1df10>,\n",
              " 'raye': <gensim.models.keyedvectors.Vocab at 0x7fecc628d790>,\n",
              " 'rayure': <gensim.models.keyedvectors.Vocab at 0x7fec26061250>,\n",
              " 'rayures': <gensim.models.keyedvectors.Vocab at 0x7fec24e7cfd0>,\n",
              " 'reception': <gensim.models.keyedvectors.Vocab at 0x7fec24fac810>,\n",
              " 'recommande': <gensim.models.keyedvectors.Vocab at 0x7fec24edeb90>,\n",
              " 'reconditionne': <gensim.models.keyedvectors.Vocab at 0x7fec25484690>,\n",
              " 'reconditionnement': <gensim.models.keyedvectors.Vocab at 0x7fecc628d050>,\n",
              " 'reconditionner': <gensim.models.keyedvectors.Vocab at 0x7fec24f0a550>,\n",
              " 'reconnaissance': <gensim.models.keyedvectors.Vocab at 0x7fec24f0a410>,\n",
              " 'recu': <gensim.models.keyedvectors.Vocab at 0x7fec26061e10>,\n",
              " 'refuse': <gensim.models.keyedvectors.Vocab at 0x7fecc628d550>,\n",
              " 'reglages': <gensim.models.keyedvectors.Vocab at 0x7fec24f0a090>,\n",
              " 'regrette': <gensim.models.keyedvectors.Vocab at 0x7fec24f2a510>,\n",
              " 'regulierement': <gensim.models.keyedvectors.Vocab at 0x7fec24f0af10>,\n",
              " 'remboursement': <gensim.models.keyedvectors.Vocab at 0x7fecc628d310>,\n",
              " 'rembourser': <gensim.models.keyedvectors.Vocab at 0x7fecc628d490>,\n",
              " 'remis': <gensim.models.keyedvectors.Vocab at 0x7fec24f0add0>,\n",
              " 'renvoye': <gensim.models.keyedvectors.Vocab at 0x7fecc628d950>,\n",
              " 'renvoyer': <gensim.models.keyedvectors.Vocab at 0x7fecc628d150>,\n",
              " 'reparation': <gensim.models.keyedvectors.Vocab at 0x7fec24f1dfd0>,\n",
              " 'reste': <gensim.models.keyedvectors.Vocab at 0x7fec24f2aed0>,\n",
              " 'retour': <gensim.models.keyedvectors.Vocab at 0x7fec24f0aad0>,\n",
              " 'retourne': <gensim.models.keyedvectors.Vocab at 0x7fec24fac290>,\n",
              " 'rien': <gensim.models.keyedvectors.Vocab at 0x7fec24f1d5d0>,\n",
              " 'sans': <gensim.models.keyedvectors.Vocab at 0x7fec24f2a350>,\n",
              " 'satisfaisant': <gensim.models.keyedvectors.Vocab at 0x7fec24f0ae90>,\n",
              " 'satisfait': <gensim.models.keyedvectors.Vocab at 0x7fec24fc2d50>,\n",
              " 'satisfaite': <gensim.models.keyedvectors.Vocab at 0x7fec24ede490>,\n",
              " 'sauf': <gensim.models.keyedvectors.Vocab at 0x7fec24f0a250>,\n",
              " 'scandaleux': <gensim.models.keyedvectors.Vocab at 0x7fec24f0ac90>,\n",
              " 'seconde': <gensim.models.keyedvectors.Vocab at 0x7fec254848d0>,\n",
              " 'semaine': <gensim.models.keyedvectors.Vocab at 0x7fec24fc2050>,\n",
              " 'semble': <gensim.models.keyedvectors.Vocab at 0x7fec24f2a750>,\n",
              " 'serieux': <gensim.models.keyedvectors.Vocab at 0x7fec24f0a310>,\n",
              " 'service': <gensim.models.keyedvectors.Vocab at 0x7fecc628ded0>,\n",
              " 'seul': <gensim.models.keyedvectors.Vocab at 0x7fecc6293fd0>,\n",
              " 'seule': <gensim.models.keyedvectors.Vocab at 0x7fec25484590>,\n",
              " 'si': <gensim.models.keyedvectors.Vocab at 0x7fec24f1db50>,\n",
              " 'soigne': <gensim.models.keyedvectors.Vocab at 0x7fec26061fd0>,\n",
              " 'soucis': <gensim.models.keyedvectors.Vocab at 0x7fec24f1d110>,\n",
              " 'souhaite': <gensim.models.keyedvectors.Vocab at 0x7fec24f0ad50>,\n",
              " 'sous': <gensim.models.keyedvectors.Vocab at 0x7fecc628dcd0>,\n",
              " 'store': <gensim.models.keyedvectors.Vocab at 0x7fec24f0afd0>,\n",
              " 'super': <gensim.models.keyedvectors.Vocab at 0x7fec26061410>,\n",
              " 'superbe': <gensim.models.keyedvectors.Vocab at 0x7fec24fc2ed0>,\n",
              " 'support': <gensim.models.keyedvectors.Vocab at 0x7fecc6292b10>,\n",
              " 'surtout': <gensim.models.keyedvectors.Vocab at 0x7fecc6292c10>,\n",
              " 'tel': <gensim.models.keyedvectors.Vocab at 0x7fec25484090>,\n",
              " 'telephone': <gensim.models.keyedvectors.Vocab at 0x7fec260612d0>,\n",
              " 'temps': <gensim.models.keyedvectors.Vocab at 0x7fec26061790>,\n",
              " 'teste': <gensim.models.keyedvectors.Vocab at 0x7fec24edeb10>,\n",
              " 'tient': <gensim.models.keyedvectors.Vocab at 0x7fec26061690>,\n",
              " 'top': <gensim.models.keyedvectors.Vocab at 0x7fec251fe190>,\n",
              " 'toujours': <gensim.models.keyedvectors.Vocab at 0x7fec251fef50>,\n",
              " 'tour': <gensim.models.keyedvectors.Vocab at 0x7fec24f2a110>,\n",
              " 'tous': <gensim.models.keyedvectors.Vocab at 0x7fecc6292290>,\n",
              " 'tout': <gensim.models.keyedvectors.Vocab at 0x7fec24e7c2d0>,\n",
              " 'toute': <gensim.models.keyedvectors.Vocab at 0x7fec24f1d350>,\n",
              " 'trempe': <gensim.models.keyedvectors.Vocab at 0x7fec24ede050>,\n",
              " 'tres': <gensim.models.keyedvectors.Vocab at 0x7fec24ede750>,\n",
              " 'trop': <gensim.models.keyedvectors.Vocab at 0x7fec24f2a390>,\n",
              " 'trouve': <gensim.models.keyedvectors.Vocab at 0x7fec25484f90>,\n",
              " 'uniquement': <gensim.models.keyedvectors.Vocab at 0x7fec26061050>,\n",
              " 'utilisation': <gensim.models.keyedvectors.Vocab at 0x7fec24fc2190>,\n",
              " 'utiliser': <gensim.models.keyedvectors.Vocab at 0x7fecc628d850>,\n",
              " 'va': <gensim.models.keyedvectors.Vocab at 0x7fec24ede9d0>,\n",
              " 'vendeur': <gensim.models.keyedvectors.Vocab at 0x7fec24eded50>,\n",
              " 'vendre': <gensim.models.keyedvectors.Vocab at 0x7fec24f0a2d0>,\n",
              " 'vendu': <gensim.models.keyedvectors.Vocab at 0x7fec25484390>,\n",
              " 'verifie': <gensim.models.keyedvectors.Vocab at 0x7fec251fe4d0>,\n",
              " 'verifier': <gensim.models.keyedvectors.Vocab at 0x7fec24f0a750>,\n",
              " 'verre': <gensim.models.keyedvectors.Vocab at 0x7fec24ede250>,\n",
              " 'veux': <gensim.models.keyedvectors.Vocab at 0x7fec24f1d790>,\n",
              " 'video': <gensim.models.keyedvectors.Vocab at 0x7fecc6292410>,\n",
              " 'vite': <gensim.models.keyedvectors.Vocab at 0x7fec2524e390>,\n",
              " 'vitre': <gensim.models.keyedvectors.Vocab at 0x7fec24f2a850>,\n",
              " 'vivement': <gensim.models.keyedvectors.Vocab at 0x7fec24f2a250>,\n",
              " 'voir': <gensim.models.keyedvectors.Vocab at 0x7fec251fed10>,\n",
              " 'voyez': <gensim.models.keyedvectors.Vocab at 0x7fec24f0a9d0>,\n",
              " 'vrai': <gensim.models.keyedvectors.Vocab at 0x7fec251fee50>,\n",
              " 'vraiment': <gensim.models.keyedvectors.Vocab at 0x7fec24ede7d0>,\n",
              " 'vu': <gensim.models.keyedvectors.Vocab at 0x7fec24ede5d0>,\n",
              " 'your': <gensim.models.keyedvectors.Vocab at 0x7fecc62927d0>,\n",
              " 'zero': <gensim.models.keyedvectors.Vocab at 0x7fec24f0a190>}"
            ]
          },
          "metadata": {
            "tags": []
          },
          "execution_count": 335
        }
      ]
    },
    {
      "cell_type": "code",
      "metadata": {
        "colab": {
          "base_uri": "https://localhost:8080/"
        },
        "id": "GamnmrIzDQ1m",
        "outputId": "32b3b065-25e0-40da-9f44-ef2167f8448a"
      },
      "source": [
        "w2vModel.wv.vectors.shape"
      ],
      "execution_count": null,
      "outputs": [
        {
          "output_type": "execute_result",
          "data": {
            "text/plain": [
              "(338, 100)"
            ]
          },
          "metadata": {
            "tags": []
          },
          "execution_count": 319
        }
      ]
    },
    {
      "cell_type": "markdown",
      "metadata": {
        "id": "SSVd8ykG-LuU"
      },
      "source": [
        "#### BERT"
      ]
    },
    {
      "cell_type": "code",
      "metadata": {
        "colab": {
          "base_uri": "https://localhost:8080/"
        },
        "id": "iGeHrO9yUFL3",
        "outputId": "6e65e4a1-4de6-4c21-dc3c-ae7d38f93510"
      },
      "source": [
        "pip install transformers==3.3.1"
      ],
      "execution_count": null,
      "outputs": [
        {
          "output_type": "stream",
          "text": [
            "Collecting transformers==3.3.1\n",
            "\u001b[?25l  Downloading https://files.pythonhosted.org/packages/19/22/aff234f4a841f8999e68a7a94bdd4b60b4cebcfeca5d67d61cd08c9179de/transformers-3.3.1-py3-none-any.whl (1.1MB)\n",
            "\u001b[K     |████████████████████████████████| 1.1MB 4.3MB/s \n",
            "\u001b[?25hCollecting sentencepiece!=0.1.92\n",
            "\u001b[?25l  Downloading https://files.pythonhosted.org/packages/ac/aa/1437691b0c7c83086ebb79ce2da16e00bef024f24fec2a5161c35476f499/sentencepiece-0.1.96-cp37-cp37m-manylinux_2_17_x86_64.manylinux2014_x86_64.whl (1.2MB)\n",
            "\u001b[K     |████████████████████████████████| 1.2MB 39.0MB/s \n",
            "\u001b[?25hRequirement already satisfied: filelock in /usr/local/lib/python3.7/dist-packages (from transformers==3.3.1) (3.0.12)\n",
            "Collecting tokenizers==0.8.1.rc2\n",
            "\u001b[?25l  Downloading https://files.pythonhosted.org/packages/75/26/c02ba92ecb8b780bdae4a862d351433c2912fe49469dac7f87a5c85ccca6/tokenizers-0.8.1rc2-cp37-cp37m-manylinux1_x86_64.whl (3.0MB)\n",
            "\u001b[K     |████████████████████████████████| 3.0MB 41.4MB/s \n",
            "\u001b[?25hRequirement already satisfied: requests in /usr/local/lib/python3.7/dist-packages (from transformers==3.3.1) (2.23.0)\n",
            "Requirement already satisfied: regex!=2019.12.17 in /usr/local/lib/python3.7/dist-packages (from transformers==3.3.1) (2019.12.20)\n",
            "Requirement already satisfied: numpy in /usr/local/lib/python3.7/dist-packages (from transformers==3.3.1) (1.19.5)\n",
            "Collecting sacremoses\n",
            "\u001b[?25l  Downloading https://files.pythonhosted.org/packages/75/ee/67241dc87f266093c533a2d4d3d69438e57d7a90abb216fa076e7d475d4a/sacremoses-0.0.45-py3-none-any.whl (895kB)\n",
            "\u001b[K     |████████████████████████████████| 901kB 25.4MB/s \n",
            "\u001b[?25hRequirement already satisfied: packaging in /usr/local/lib/python3.7/dist-packages (from transformers==3.3.1) (20.9)\n",
            "Requirement already satisfied: tqdm>=4.27 in /usr/local/lib/python3.7/dist-packages (from transformers==3.3.1) (4.41.1)\n",
            "Requirement already satisfied: chardet<4,>=3.0.2 in /usr/local/lib/python3.7/dist-packages (from requests->transformers==3.3.1) (3.0.4)\n",
            "Requirement already satisfied: certifi>=2017.4.17 in /usr/local/lib/python3.7/dist-packages (from requests->transformers==3.3.1) (2021.5.30)\n",
            "Requirement already satisfied: idna<3,>=2.5 in /usr/local/lib/python3.7/dist-packages (from requests->transformers==3.3.1) (2.10)\n",
            "Requirement already satisfied: urllib3!=1.25.0,!=1.25.1,<1.26,>=1.21.1 in /usr/local/lib/python3.7/dist-packages (from requests->transformers==3.3.1) (1.24.3)\n",
            "Requirement already satisfied: joblib in /usr/local/lib/python3.7/dist-packages (from sacremoses->transformers==3.3.1) (1.0.1)\n",
            "Requirement already satisfied: click in /usr/local/lib/python3.7/dist-packages (from sacremoses->transformers==3.3.1) (7.1.2)\n",
            "Requirement already satisfied: six in /usr/local/lib/python3.7/dist-packages (from sacremoses->transformers==3.3.1) (1.15.0)\n",
            "Requirement already satisfied: pyparsing>=2.0.2 in /usr/local/lib/python3.7/dist-packages (from packaging->transformers==3.3.1) (2.4.7)\n",
            "Installing collected packages: sentencepiece, tokenizers, sacremoses, transformers\n",
            "Successfully installed sacremoses-0.0.45 sentencepiece-0.1.96 tokenizers-0.8.1rc2 transformers-3.3.1\n"
          ],
          "name": "stdout"
        }
      ]
    },
    {
      "cell_type": "code",
      "metadata": {
        "id": "27U0qZc-T45v"
      },
      "source": [
        "from transformers import pipeline\n",
        "import torch\n",
        "from transformers import CamembertTokenizer"
      ],
      "execution_count": null,
      "outputs": []
    },
    {
      "cell_type": "code",
      "metadata": {
        "id": "sP0XFbGQUI9b"
      },
      "source": [
        "tokenizer = CamembertTokenizer.from_pretrained('camembert-base', return_token_type_ids=True, add_special_tokens=True)\n",
        "encoded_batch = tokenizer.batch_encode_plus(df_clean['commentaire'].values.tolist(),\n",
        "                                            add_special_tokens=True, \n",
        "                                            padding=True,\n",
        "                                            return_tensors=\"pt\")"
      ],
      "execution_count": null,
      "outputs": []
    },
    {
      "cell_type": "code",
      "metadata": {
        "colab": {
          "base_uri": "https://localhost:8080/"
        },
        "id": "I4g_38taVHGs",
        "outputId": "11fd4768-d1ee-4178-8165-7e2416d2d94c"
      },
      "source": [
        "encoded_batch['input_ids'].shape"
      ],
      "execution_count": null,
      "outputs": [
        {
          "output_type": "execute_result",
          "data": {
            "text/plain": [
              "torch.Size([200, 84])"
            ]
          },
          "metadata": {
            "tags": []
          },
          "execution_count": 240
        }
      ]
    },
    {
      "cell_type": "code",
      "metadata": {
        "colab": {
          "base_uri": "https://localhost:8080/"
        },
        "id": "1t86r-UHVT7w",
        "outputId": "e9bc0db6-42f7-4901-989f-336394d7f16d"
      },
      "source": [
        "encoded_batch['input_ids']"
      ],
      "execution_count": null,
      "outputs": [
        {
          "output_type": "execute_result",
          "data": {
            "text/plain": [
              "tensor([[    5,   501,   343,  ...,     1,     1,     1],\n",
              "        [    5,   302,  2812,  ...,     1,     1,     1],\n",
              "        [    5,  4889,   909,  ...,     1,     1,     1],\n",
              "        ...,\n",
              "        [    5,   271,  6852,  ...,     1,     1,     1],\n",
              "        [    5,  5061,    34,  ...,     1,     1,     1],\n",
              "        [    5, 18207, 11249,  ...,     1,     1,     1]])"
            ]
          },
          "metadata": {
            "tags": []
          },
          "execution_count": 239
        }
      ]
    },
    {
      "cell_type": "markdown",
      "metadata": {
        "id": "3KogZWv1x9DC"
      },
      "source": [
        "## Modeling\n",
        "\n",
        "Dans cette section, j'ai implémenté la classification. Pour ce faire, j'ai opté pour un classifieur de type Logistic Regression pour le TDIDF et BERT. Pour ce qui concerne Word2Vec, j'ai voulu utilisé le LSTM. \n",
        "\n",
        "Les métriques proposées sont :\n",
        "\n",
        "- Classification Report\n",
        "- Matrice de Confusion"
      ]
    },
    {
      "cell_type": "code",
      "metadata": {
        "id": "MMoYciMwXNX6"
      },
      "source": [
        "from sklearn.metrics import confusion_matrix\n",
        "from sklearn.metrics import classification_report\n",
        "import itertools\n",
        "import matplotlib.pyplot as plt\n",
        "import numpy as np\n",
        "\n",
        "\n",
        "def show_confusion_matrix(y_pred, y_test):\n",
        "    \"\"\"\n",
        "    Shows the confusion matrix for the given y_pred and y_test\n",
        "    Parameters:\n",
        "    y_pred -- the predicated classes \n",
        "    y_test -- the real classes\n",
        "    \"\"\"\n",
        "    cm=confusion_matrix(y_test, y_pred)\n",
        "    plt.figure(figsize=(8,8))\n",
        "    plt.imshow(cm, interpolation='nearest',cmap='Blues')\n",
        "    plt.title(\"Matrice de confusion\")\n",
        "    plt.colorbar() \n",
        "    labels=df_clean['label'].unique()\n",
        "    tick_marks = np.arange(len(labels))\n",
        "    plt.xticks(tick_marks, labels)\n",
        "    plt.yticks(tick_marks, labels)\n",
        "    for i, j in itertools.product(range(cm.shape[0]), range(cm.shape[1])):\n",
        "        plt.text(j, i, cm[i, j], horizontalalignment=\"center\", color=\"white\" if cm[i, j] > ( cm.max() / 2) else \"black\")\n",
        "    plt.ylabel('Vrais labels')\n",
        "    plt.xlabel('Labels prédits')\n",
        "    plt.show()\n",
        "\n",
        "def show_classification_report(y_pred, y_test):\n",
        "    \"\"\"\n",
        "    Shows the classification report\n",
        "    Parameters:\n",
        "    y_pred -- the predicted labels \n",
        "    y_test -- the real labels\n",
        "    \"\"\"\n",
        "    report = classification_report(y_test, y_pred)\n",
        "    print(report)"
      ],
      "execution_count": null,
      "outputs": []
    },
    {
      "cell_type": "markdown",
      "metadata": {
        "id": "qGONI7wkV06D"
      },
      "source": [
        "### TFDF"
      ]
    },
    {
      "cell_type": "code",
      "metadata": {
        "colab": {
          "base_uri": "https://localhost:8080/",
          "height": 176
        },
        "id": "JYsZHMFiWrcY",
        "outputId": "500ae58e-46d2-4c8f-f223-9b52df31b47e"
      },
      "source": [
        "df_tfidf.head(2)"
      ],
      "execution_count": null,
      "outputs": [
        {
          "output_type": "execute_result",
          "data": {
            "text/html": [
              "<div>\n",
              "<style scoped>\n",
              "    .dataframe tbody tr th:only-of-type {\n",
              "        vertical-align: middle;\n",
              "    }\n",
              "\n",
              "    .dataframe tbody tr th {\n",
              "        vertical-align: top;\n",
              "    }\n",
              "\n",
              "    .dataframe thead th {\n",
              "        text-align: right;\n",
              "    }\n",
              "</style>\n",
              "<table border=\"1\" class=\"dataframe\">\n",
              "  <thead>\n",
              "    <tr style=\"text-align: right;\">\n",
              "      <th></th>\n",
              "      <th>abime</th>\n",
              "      <th>abime comprend</th>\n",
              "      <th>abime ne</th>\n",
              "      <th>abimee</th>\n",
              "      <th>abimee franchement</th>\n",
              "      <th>absolument</th>\n",
              "      <th>absolument pas</th>\n",
              "      <th>accessoire</th>\n",
              "      <th>accessoire pas</th>\n",
              "      <th>accessoirement</th>\n",
              "      <th>accessoirement telephone</th>\n",
              "      <th>accessoires</th>\n",
              "      <th>accessoires ajoutes</th>\n",
              "      <th>accessoires compris</th>\n",
              "      <th>accessoires etaient</th>\n",
              "      <th>achat</th>\n",
              "      <th>achat bon</th>\n",
              "      <th>achat iphone</th>\n",
              "      <th>achat meme</th>\n",
              "      <th>achat pas</th>\n",
              "      <th>achat portable</th>\n",
              "      <th>achat prix</th>\n",
              "      <th>achat super</th>\n",
              "      <th>achat telephone</th>\n",
              "      <th>achat vitre</th>\n",
              "      <th>achat vraiment</th>\n",
              "      <th>achatje</th>\n",
              "      <th>achatje souhaite</th>\n",
              "      <th>achatl</th>\n",
              "      <th>achatl iphone</th>\n",
              "      <th>achetant</th>\n",
              "      <th>achetant iphone</th>\n",
              "      <th>achete</th>\n",
              "      <th>achete chez</th>\n",
              "      <th>achete iphone</th>\n",
              "      <th>achete juillet</th>\n",
              "      <th>achete marche</th>\n",
              "      <th>achete neuf</th>\n",
              "      <th>achete occasion</th>\n",
              "      <th>achete octobre</th>\n",
              "      <th>...</th>\n",
              "      <th>vraiment contente</th>\n",
              "      <th>vraiment decu</th>\n",
              "      <th>vraiment eviter</th>\n",
              "      <th>vraiment inadmissible</th>\n",
              "      <th>vraiment lege</th>\n",
              "      <th>vraiment leger</th>\n",
              "      <th>vraiment pas</th>\n",
              "      <th>vraiment plaisant</th>\n",
              "      <th>vraiment rien</th>\n",
              "      <th>vraiment tres</th>\n",
              "      <th>vraiment triste</th>\n",
              "      <th>vraimment</th>\n",
              "      <th>vraimment cette</th>\n",
              "      <th>vu</th>\n",
              "      <th>vu agit</th>\n",
              "      <th>vu commentaires</th>\n",
              "      <th>vu lu</th>\n",
              "      <th>vu plupart</th>\n",
              "      <th>vu prix</th>\n",
              "      <th>vue</th>\n",
              "      <th>vue commentaires</th>\n",
              "      <th>web</th>\n",
              "      <th>web plante</th>\n",
              "      <th>wifi</th>\n",
              "      <th>wifi vice</th>\n",
              "      <th>wireless</th>\n",
              "      <th>wireless verizon</th>\n",
              "      <th>xmax</th>\n",
              "      <th>xmax tous</th>\n",
              "      <th>ya</th>\n",
              "      <th>ya limites</th>\n",
              "      <th>yeux</th>\n",
              "      <th>yeux fermes</th>\n",
              "      <th>your</th>\n",
              "      <th>your browser</th>\n",
              "      <th>zealand</th>\n",
              "      <th>zealand china</th>\n",
              "      <th>zero</th>\n",
              "      <th>zero enleve</th>\n",
              "      <th>zero pointe</th>\n",
              "    </tr>\n",
              "  </thead>\n",
              "  <tbody>\n",
              "    <tr>\n",
              "      <th>0</th>\n",
              "      <td>0.0</td>\n",
              "      <td>0.0</td>\n",
              "      <td>0.0</td>\n",
              "      <td>0.0</td>\n",
              "      <td>0.0</td>\n",
              "      <td>0.0</td>\n",
              "      <td>0.0</td>\n",
              "      <td>0.0</td>\n",
              "      <td>0.0</td>\n",
              "      <td>0.0</td>\n",
              "      <td>0.0</td>\n",
              "      <td>0.0</td>\n",
              "      <td>0.0</td>\n",
              "      <td>0.0</td>\n",
              "      <td>0.0</td>\n",
              "      <td>0.0</td>\n",
              "      <td>0.0</td>\n",
              "      <td>0.0</td>\n",
              "      <td>0.0</td>\n",
              "      <td>0.0</td>\n",
              "      <td>0.0</td>\n",
              "      <td>0.0</td>\n",
              "      <td>0.0</td>\n",
              "      <td>0.0</td>\n",
              "      <td>0.0</td>\n",
              "      <td>0.0</td>\n",
              "      <td>0.0</td>\n",
              "      <td>0.0</td>\n",
              "      <td>0.0</td>\n",
              "      <td>0.0</td>\n",
              "      <td>0.0</td>\n",
              "      <td>0.0</td>\n",
              "      <td>0.0</td>\n",
              "      <td>0.0</td>\n",
              "      <td>0.0</td>\n",
              "      <td>0.0</td>\n",
              "      <td>0.0</td>\n",
              "      <td>0.0</td>\n",
              "      <td>0.0</td>\n",
              "      <td>0.0</td>\n",
              "      <td>...</td>\n",
              "      <td>0.0</td>\n",
              "      <td>0.0</td>\n",
              "      <td>0.0</td>\n",
              "      <td>0.0</td>\n",
              "      <td>0.0</td>\n",
              "      <td>0.0</td>\n",
              "      <td>0.0</td>\n",
              "      <td>0.0</td>\n",
              "      <td>0.0</td>\n",
              "      <td>0.000000</td>\n",
              "      <td>0.0</td>\n",
              "      <td>0.0</td>\n",
              "      <td>0.0</td>\n",
              "      <td>0.0</td>\n",
              "      <td>0.0</td>\n",
              "      <td>0.0</td>\n",
              "      <td>0.0</td>\n",
              "      <td>0.0</td>\n",
              "      <td>0.0</td>\n",
              "      <td>0.0</td>\n",
              "      <td>0.0</td>\n",
              "      <td>0.0</td>\n",
              "      <td>0.0</td>\n",
              "      <td>0.0</td>\n",
              "      <td>0.0</td>\n",
              "      <td>0.0</td>\n",
              "      <td>0.0</td>\n",
              "      <td>0.0</td>\n",
              "      <td>0.0</td>\n",
              "      <td>0.0</td>\n",
              "      <td>0.0</td>\n",
              "      <td>0.0</td>\n",
              "      <td>0.0</td>\n",
              "      <td>0.0</td>\n",
              "      <td>0.0</td>\n",
              "      <td>0.0</td>\n",
              "      <td>0.0</td>\n",
              "      <td>0.0</td>\n",
              "      <td>0.0</td>\n",
              "      <td>0.0</td>\n",
              "    </tr>\n",
              "    <tr>\n",
              "      <th>1</th>\n",
              "      <td>0.0</td>\n",
              "      <td>0.0</td>\n",
              "      <td>0.0</td>\n",
              "      <td>0.0</td>\n",
              "      <td>0.0</td>\n",
              "      <td>0.0</td>\n",
              "      <td>0.0</td>\n",
              "      <td>0.0</td>\n",
              "      <td>0.0</td>\n",
              "      <td>0.0</td>\n",
              "      <td>0.0</td>\n",
              "      <td>0.0</td>\n",
              "      <td>0.0</td>\n",
              "      <td>0.0</td>\n",
              "      <td>0.0</td>\n",
              "      <td>0.0</td>\n",
              "      <td>0.0</td>\n",
              "      <td>0.0</td>\n",
              "      <td>0.0</td>\n",
              "      <td>0.0</td>\n",
              "      <td>0.0</td>\n",
              "      <td>0.0</td>\n",
              "      <td>0.0</td>\n",
              "      <td>0.0</td>\n",
              "      <td>0.0</td>\n",
              "      <td>0.0</td>\n",
              "      <td>0.0</td>\n",
              "      <td>0.0</td>\n",
              "      <td>0.0</td>\n",
              "      <td>0.0</td>\n",
              "      <td>0.0</td>\n",
              "      <td>0.0</td>\n",
              "      <td>0.0</td>\n",
              "      <td>0.0</td>\n",
              "      <td>0.0</td>\n",
              "      <td>0.0</td>\n",
              "      <td>0.0</td>\n",
              "      <td>0.0</td>\n",
              "      <td>0.0</td>\n",
              "      <td>0.0</td>\n",
              "      <td>...</td>\n",
              "      <td>0.0</td>\n",
              "      <td>0.0</td>\n",
              "      <td>0.0</td>\n",
              "      <td>0.0</td>\n",
              "      <td>0.0</td>\n",
              "      <td>0.0</td>\n",
              "      <td>0.0</td>\n",
              "      <td>0.0</td>\n",
              "      <td>0.0</td>\n",
              "      <td>0.211195</td>\n",
              "      <td>0.0</td>\n",
              "      <td>0.0</td>\n",
              "      <td>0.0</td>\n",
              "      <td>0.0</td>\n",
              "      <td>0.0</td>\n",
              "      <td>0.0</td>\n",
              "      <td>0.0</td>\n",
              "      <td>0.0</td>\n",
              "      <td>0.0</td>\n",
              "      <td>0.0</td>\n",
              "      <td>0.0</td>\n",
              "      <td>0.0</td>\n",
              "      <td>0.0</td>\n",
              "      <td>0.0</td>\n",
              "      <td>0.0</td>\n",
              "      <td>0.0</td>\n",
              "      <td>0.0</td>\n",
              "      <td>0.0</td>\n",
              "      <td>0.0</td>\n",
              "      <td>0.0</td>\n",
              "      <td>0.0</td>\n",
              "      <td>0.0</td>\n",
              "      <td>0.0</td>\n",
              "      <td>0.0</td>\n",
              "      <td>0.0</td>\n",
              "      <td>0.0</td>\n",
              "      <td>0.0</td>\n",
              "      <td>0.0</td>\n",
              "      <td>0.0</td>\n",
              "      <td>0.0</td>\n",
              "    </tr>\n",
              "  </tbody>\n",
              "</table>\n",
              "<p>2 rows × 4157 columns</p>\n",
              "</div>"
            ],
            "text/plain": [
              "   abime  abime comprend  abime ne  ...  zero  zero enleve  zero pointe\n",
              "0    0.0             0.0       0.0  ...   0.0          0.0          0.0\n",
              "1    0.0             0.0       0.0  ...   0.0          0.0          0.0\n",
              "\n",
              "[2 rows x 4157 columns]"
            ]
          },
          "metadata": {
            "tags": []
          },
          "execution_count": 242
        }
      ]
    },
    {
      "cell_type": "code",
      "metadata": {
        "id": "G73ORe-VuWMQ"
      },
      "source": [
        "X_data=df_tfidf\n",
        "Y_data=df_clean['label']\n",
        "\n",
        "from sklearn.model_selection import train_test_split\n",
        "X_train, X_test, y_train, y_test = train_test_split(X_data, Y_data, test_size=0.30, random_state=42)"
      ],
      "execution_count": null,
      "outputs": []
    },
    {
      "cell_type": "markdown",
      "metadata": {
        "id": "UF9inkI2Xe6f"
      },
      "source": [
        "#### LogisticRegression"
      ]
    },
    {
      "cell_type": "code",
      "metadata": {
        "colab": {
          "base_uri": "https://localhost:8080/"
        },
        "id": "hBaE_-R6uWPd",
        "outputId": "1228d62f-e169-443a-ed75-eff66aed26a7"
      },
      "source": [
        "from sklearn.linear_model import LogisticRegression\n",
        "clf = LogisticRegression(max_iter=10000)\n",
        "clf.fit(X_train, y_train)\n",
        "print(f'Accuracy on Train is: {clf.score(X_train, y_train)}')"
      ],
      "execution_count": null,
      "outputs": [
        {
          "output_type": "stream",
          "text": [
            "Accuracy on Train is: 1.0\n"
          ],
          "name": "stdout"
        }
      ]
    },
    {
      "cell_type": "markdown",
      "metadata": {
        "id": "WOmwcdGhXww9"
      },
      "source": [
        "#### Evaluation"
      ]
    },
    {
      "cell_type": "code",
      "metadata": {
        "colab": {
          "base_uri": "https://localhost:8080/",
          "height": 651
        },
        "id": "GJTH8i72TDKz",
        "outputId": "954d0b63-61cb-4fc3-cf51-c2f30a5d25f8"
      },
      "source": [
        "print(f'Accuracy on Test is: {clf.score(X_test, y_test)}\\n')\n",
        "y_pred=clf.predict(X_test)\n",
        "show_classification_report(y_pred, y_test)\n",
        "show_confusion_matrix(y_pred,y_test)"
      ],
      "execution_count": null,
      "outputs": [
        {
          "output_type": "stream",
          "text": [
            "Accuracy on Test is: 0.9166666666666666\n",
            "\n",
            "              precision    recall  f1-score   support\n",
            "\n",
            "           0       0.93      0.90      0.91        29\n",
            "           1       0.91      0.94      0.92        31\n",
            "\n",
            "    accuracy                           0.92        60\n",
            "   macro avg       0.92      0.92      0.92        60\n",
            "weighted avg       0.92      0.92      0.92        60\n",
            "\n"
          ],
          "name": "stdout"
        },
        {
          "output_type": "display_data",
          "data": {
            "image/png": "[encoded data removed]",
            "text/plain": [
              "<Figure size 576x576 with 2 Axes>"
            ]
          },
          "metadata": {
            "tags": [],
            "needs_background": "light"
          }
        }
      ]
    },
    {
      "cell_type": "markdown",
      "metadata": {
        "id": "z2gcLcuWYlRV"
      },
      "source": [
        "### Word2Vec"
      ]
    },
    {
      "cell_type": "markdown",
      "metadata": {
        "id": "6Z9CIDZDUjt4"
      },
      "source": [
        "#### LSTM"
      ]
    },
    {
      "cell_type": "code",
      "metadata": {
        "colab": {
          "base_uri": "https://localhost:8080/"
        },
        "id": "I_T3ggBXTDQO",
        "outputId": "72f99e69-3df2-4338-e81f-478b4076a173"
      },
      "source": [
        "number_of_word=df_clean['commentaire'].apply(lambda phrase:len(phrase.split(' ')))\n",
        "number_of_word"
      ],
      "execution_count": null,
      "outputs": [
        {
          "output_type": "execute_result",
          "data": {
            "text/plain": [
              "0      29\n",
              "1      15\n",
              "2      13\n",
              "3      43\n",
              "4      23\n",
              "       ..\n",
              "195    14\n",
              "196    16\n",
              "197     5\n",
              "198    10\n",
              "199     3\n",
              "Name: commentaire, Length: 200, dtype: int64"
            ]
          },
          "metadata": {
            "tags": []
          },
          "execution_count": 263
        }
      ]
    },
    {
      "cell_type": "code",
      "metadata": {
        "colab": {
          "base_uri": "https://localhost:8080/"
        },
        "id": "QCE2AvTTcBPg",
        "outputId": "89d68c36-6ea7-485e-ee12-f9dc856b3408"
      },
      "source": [
        "max_len = 0\n",
        "for words_per_sentence in corpus:\n",
        "  max_len = np.max([max_len, len(words_per_sentence)])\n",
        "\n",
        "print(f'Max Lenght of Sentences is {max_len}')"
      ],
      "execution_count": null,
      "outputs": [
        {
          "output_type": "stream",
          "text": [
            "Max Lenght of Sentences is 65\n"
          ],
          "name": "stdout"
        }
      ]
    },
    {
      "cell_type": "code",
      "metadata": {
        "id": "tJnaPglITDWy"
      },
      "source": [
        "from keras.models import Sequential\n",
        "from keras.layers.core import Dense, Dropout\n",
        "from keras.layers.embeddings import Embedding\n",
        "from keras.preprocessing.sequence import pad_sequences\n",
        "from keras.preprocessing.text import Tokenizer\n",
        "from keras.layers import LSTM\n",
        "from keras.optimizers import Adam\n",
        "\n",
        "tokenizer = Tokenizer()\n",
        "tokenizer.fit_on_texts(corpus)\n",
        "tokenized_corpus = tokenizer.texts_to_sequences(corpus)\n",
        "x = pad_sequences(tokenized_corpus, maxlen = max_len)"
      ],
      "execution_count": null,
      "outputs": []
    },
    {
      "cell_type": "code",
      "metadata": {
        "colab": {
          "base_uri": "https://localhost:8080/"
        },
        "id": "dW7Sx2yEcUd9",
        "outputId": "b25344ce-0a4b-411c-d4b6-b21ebeafd8e0"
      },
      "source": [
        "x"
      ],
      "execution_count": null,
      "outputs": [
        {
          "output_type": "execute_result",
          "data": {
            "text/plain": [
              "array([[   0,    0,    0, ...,  128,    1,  345],\n",
              "       [   0,    0,    0, ...,   15,  347,   23],\n",
              "       [   0,    0,    0, ...,  195,  350,   23],\n",
              "       ...,\n",
              "       [   0,    0,    0, ...,    4,   17,    1],\n",
              "       [   0,    0,    0, ..., 1158,   56, 1159],\n",
              "       [   0,    0,    0, ...,    2,   48,   57]], dtype=int32)"
            ]
          },
          "metadata": {
            "tags": []
          },
          "execution_count": 311
        }
      ]
    },
    {
      "cell_type": "code",
      "metadata": {
        "id": "4zWbgco_TDZ7"
      },
      "source": [
        "X_data=x\n",
        "Y_data=df_clean['label']\n",
        "\n",
        "from sklearn.model_selection import train_test_split\n",
        "X_train, X_test, y_train, y_test = train_test_split(X_data, Y_data, test_size=0.30, random_state=42)"
      ],
      "execution_count": null,
      "outputs": []
    },
    {
      "cell_type": "code",
      "metadata": {
        "colab": {
          "base_uri": "https://localhost:8080/"
        },
        "id": "wDDtUJQLgC27",
        "outputId": "fce6a2f3-0367-4fc0-8890-0d0d8bd6dc4a"
      },
      "source": [
        "X_data.shape[1]"
      ],
      "execution_count": null,
      "outputs": [
        {
          "output_type": "execute_result",
          "data": {
            "text/plain": [
              "65"
            ]
          },
          "metadata": {
            "tags": []
          },
          "execution_count": 313
        }
      ]
    },
    {
      "cell_type": "code",
      "metadata": {
        "id": "N4JKiqV1kZuv"
      },
      "source": [
        "def get_weight_matrix(model, vocab):\n",
        "    \"\"\"\n",
        "    Permet de construire la Matrice des poids on utisant notre copus et le model Word2vec. Le resultat sera utilisé dans le modèle LSTM.\n",
        "    \"\"\"\n",
        "    vocab_size = len(vocab) + 1\n",
        "    weight_matrix = np.zeros((vocab_size, WORD2_VEC_DIMENSION))\n",
        "    for word, i in vocab.items():\n",
        "      if word in model:\n",
        "        weight_matrix[i] = model[word]\n",
        "    return weight_matrix"
      ],
      "execution_count": null,
      "outputs": []
    },
    {
      "cell_type": "code",
      "metadata": {
        "colab": {
          "base_uri": "https://localhost:8080/"
        },
        "id": "yqXi6VL5TDc8",
        "outputId": "6a4c8b34-9bd6-4e19-bae7-52d60ab749af"
      },
      "source": [
        "embedding_vectors = get_weight_matrix(w2vModel, tokenizer.word_index) \n",
        "\n",
        "# Créer Embedded Layer utilisant le Word2Vec\n",
        "n_unique_words = len(set(tokenizer.word_index)) + 1 \n",
        "embedding_layer = Embedding(n_unique_words, output_dim=WORD2_VEC_DIMENSION, weights=[embedding_vectors], \n",
        "                            input_length=X_data.shape[1])\n",
        "model = Sequential([embedding_layer])   \n",
        "\n",
        "lstm_1 = LSTM(units=64)\n",
        "model.add(lstm_1)\n",
        "model.add(Dense(1, activation='sigmoid'))\n",
        "\n",
        "model.compile(loss='binary_crossentropy', optimizer='adam', metrics=['accuracy']) \n",
        "model.summary()"
      ],
      "execution_count": null,
      "outputs": [
        {
          "output_type": "stream",
          "text": [
            "/usr/local/lib/python3.7/dist-packages/ipykernel_launcher.py:6: DeprecationWarning: Call to deprecated `__contains__` (Method will be removed in 4.0.0, use self.wv.__contains__() instead).\n",
            "  \n",
            "/usr/local/lib/python3.7/dist-packages/ipykernel_launcher.py:7: DeprecationWarning: Call to deprecated `__getitem__` (Method will be removed in 4.0.0, use self.wv.__getitem__() instead).\n",
            "  import sys\n"
          ],
          "name": "stderr"
        },
        {
          "output_type": "stream",
          "text": [
            "Model: \"sequential_17\"\n",
            "_________________________________________________________________\n",
            "Layer (type)                 Output Shape              Param #   \n",
            "=================================================================\n",
            "embedding_19 (Embedding)     (None, 65, 100)           116000    \n",
            "_________________________________________________________________\n",
            "lstm_19 (LSTM)               (None, 64)                42240     \n",
            "_________________________________________________________________\n",
            "dense_14 (Dense)             (None, 1)                 65        \n",
            "=================================================================\n",
            "Total params: 158,305\n",
            "Trainable params: 158,305\n",
            "Non-trainable params: 0\n",
            "_________________________________________________________________\n"
          ],
          "name": "stdout"
        }
      ]
    },
    {
      "cell_type": "code",
      "metadata": {
        "colab": {
          "base_uri": "https://localhost:8080/"
        },
        "id": "oVuIwkJsTDl_",
        "outputId": "9e762601-dc01-4340-8c12-8eab27199a18"
      },
      "source": [
        "history = model.fit(X_train, y_train, epochs=30, verbose=1, validation_data=(X_test, y_test))"
      ],
      "execution_count": null,
      "outputs": [
        {
          "output_type": "stream",
          "text": [
            "Epoch 1/30\n",
            "5/5 [==============================] - 3s 195ms/step - loss: 0.6934 - accuracy: 0.5115 - val_loss: 0.6912 - val_accuracy: 0.5167\n",
            "Epoch 2/30\n",
            "5/5 [==============================] - 0s 51ms/step - loss: 0.6833 - accuracy: 0.5403 - val_loss: 0.6881 - val_accuracy: 0.5333\n",
            "Epoch 3/30\n",
            "5/5 [==============================] - 0s 56ms/step - loss: 0.6676 - accuracy: 0.7218 - val_loss: 0.6818 - val_accuracy: 0.5167\n",
            "Epoch 4/30\n",
            "5/5 [==============================] - 0s 55ms/step - loss: 0.6322 - accuracy: 0.8851 - val_loss: 0.6726 - val_accuracy: 0.5333\n",
            "Epoch 5/30\n",
            "5/5 [==============================] - 0s 50ms/step - loss: 0.5525 - accuracy: 0.9072 - val_loss: 0.6625 - val_accuracy: 0.5833\n",
            "Epoch 6/30\n",
            "5/5 [==============================] - 0s 52ms/step - loss: 0.4321 - accuracy: 0.8729 - val_loss: 0.6934 - val_accuracy: 0.6500\n",
            "Epoch 7/30\n",
            "5/5 [==============================] - 0s 51ms/step - loss: 0.3146 - accuracy: 0.9540 - val_loss: 0.5804 - val_accuracy: 0.7000\n",
            "Epoch 8/30\n",
            "5/5 [==============================] - 0s 48ms/step - loss: 0.2198 - accuracy: 0.9673 - val_loss: 0.4621 - val_accuracy: 0.7833\n",
            "Epoch 9/30\n",
            "5/5 [==============================] - 0s 49ms/step - loss: 0.1497 - accuracy: 0.9499 - val_loss: 0.4417 - val_accuracy: 0.8000\n",
            "Epoch 10/30\n",
            "5/5 [==============================] - 0s 50ms/step - loss: 0.1059 - accuracy: 0.9976 - val_loss: 0.4989 - val_accuracy: 0.8167\n",
            "Epoch 11/30\n",
            "5/5 [==============================] - 0s 50ms/step - loss: 0.0642 - accuracy: 1.0000 - val_loss: 0.4934 - val_accuracy: 0.8167\n",
            "Epoch 12/30\n",
            "5/5 [==============================] - 0s 50ms/step - loss: 0.0651 - accuracy: 1.0000 - val_loss: 0.5005 - val_accuracy: 0.8167\n",
            "Epoch 13/30\n",
            "5/5 [==============================] - 0s 50ms/step - loss: 0.0544 - accuracy: 1.0000 - val_loss: 0.7022 - val_accuracy: 0.7833\n",
            "Epoch 14/30\n",
            "5/5 [==============================] - 0s 49ms/step - loss: 0.0629 - accuracy: 0.9909 - val_loss: 0.4667 - val_accuracy: 0.8500\n",
            "Epoch 15/30\n",
            "5/5 [==============================] - 0s 51ms/step - loss: 0.0287 - accuracy: 0.9976 - val_loss: 0.4158 - val_accuracy: 0.8333\n",
            "Epoch 16/30\n",
            "5/5 [==============================] - 0s 54ms/step - loss: 0.0349 - accuracy: 0.9868 - val_loss: 0.3515 - val_accuracy: 0.8500\n",
            "Epoch 17/30\n",
            "5/5 [==============================] - 0s 54ms/step - loss: 0.0218 - accuracy: 1.0000 - val_loss: 0.3219 - val_accuracy: 0.8500\n",
            "Epoch 18/30\n",
            "5/5 [==============================] - 0s 49ms/step - loss: 0.0204 - accuracy: 1.0000 - val_loss: 0.3155 - val_accuracy: 0.8667\n",
            "Epoch 19/30\n",
            "5/5 [==============================] - 0s 49ms/step - loss: 0.0235 - accuracy: 1.0000 - val_loss: 0.3157 - val_accuracy: 0.8667\n",
            "Epoch 20/30\n",
            "5/5 [==============================] - 0s 52ms/step - loss: 0.0195 - accuracy: 1.0000 - val_loss: 0.3229 - val_accuracy: 0.8667\n",
            "Epoch 21/30\n",
            "5/5 [==============================] - 0s 49ms/step - loss: 0.0142 - accuracy: 1.0000 - val_loss: 0.3323 - val_accuracy: 0.8333\n",
            "Epoch 22/30\n",
            "5/5 [==============================] - 0s 51ms/step - loss: 0.0144 - accuracy: 1.0000 - val_loss: 0.4270 - val_accuracy: 0.8167\n",
            "Epoch 23/30\n",
            "5/5 [==============================] - 0s 48ms/step - loss: 0.0126 - accuracy: 1.0000 - val_loss: 0.4219 - val_accuracy: 0.8167\n",
            "Epoch 24/30\n",
            "5/5 [==============================] - 0s 51ms/step - loss: 0.0089 - accuracy: 1.0000 - val_loss: 0.4175 - val_accuracy: 0.8333\n",
            "Epoch 25/30\n",
            "5/5 [==============================] - 0s 50ms/step - loss: 0.0121 - accuracy: 1.0000 - val_loss: 0.4415 - val_accuracy: 0.8333\n",
            "Epoch 26/30\n",
            "5/5 [==============================] - 0s 51ms/step - loss: 0.0087 - accuracy: 1.0000 - val_loss: 0.4659 - val_accuracy: 0.8333\n",
            "Epoch 27/30\n",
            "5/5 [==============================] - 0s 50ms/step - loss: 0.0078 - accuracy: 1.0000 - val_loss: 0.4693 - val_accuracy: 0.8333\n",
            "Epoch 28/30\n",
            "5/5 [==============================] - 0s 52ms/step - loss: 0.0076 - accuracy: 1.0000 - val_loss: 0.5375 - val_accuracy: 0.8333\n",
            "Epoch 29/30\n",
            "5/5 [==============================] - 0s 51ms/step - loss: 0.0062 - accuracy: 1.0000 - val_loss: 0.5754 - val_accuracy: 0.8333\n",
            "Epoch 30/30\n",
            "5/5 [==============================] - 0s 54ms/step - loss: 0.0060 - accuracy: 1.0000 - val_loss: 0.5200 - val_accuracy: 0.8500\n"
          ],
          "name": "stdout"
        }
      ]
    },
    {
      "cell_type": "code",
      "metadata": {
        "id": "Tw8HhZKHrQ4v"
      },
      "source": [
        "def plot_graphs(history, string):\n",
        "  plt.figure(figsize=(8, 8))\n",
        "  plt.plot(history.history[string])\n",
        "  plt.plot(history.history['val_'+string])\n",
        "  plt.xlabel(\"Epochs\")\n",
        "  plt.ylabel(string)\n",
        "  plt.legend([string, 'val_'+string])\n",
        "  plt.grid()\n",
        "  plt.show()"
      ],
      "execution_count": null,
      "outputs": []
    },
    {
      "cell_type": "code",
      "metadata": {
        "colab": {
          "base_uri": "https://localhost:8080/",
          "height": 994
        },
        "id": "QmyrjBapmisd",
        "outputId": "8e7b3c29-37ce-46b5-ba8c-6e059106a95c"
      },
      "source": [
        "plt.figure(figsize = (8,8))\n",
        "plot_graphs(history, \"accuracy\")\n",
        "plot_graphs(history, \"loss\")"
      ],
      "execution_count": null,
      "outputs": [
        {
          "output_type": "display_data",
          "data": {
            "text/plain": [
              "<Figure size 576x576 with 0 Axes>"
            ]
          },
          "metadata": {
            "tags": []
          }
        },
        {
          "output_type": "display_data",
          "data": {
            "image/png": "[encoded data removed]",
            "text/plain": [
              "<Figure size 576x576 with 1 Axes>"
            ]
          },
          "metadata": {
            "tags": [],
            "needs_background": "light"
          }
        },
        {
          "output_type": "display_data",
          "data": {
            "image/png": "[encoded data removed]",
            "text/plain": [
              "<Figure size 576x576 with 1 Axes>"
            ]
          },
          "metadata": {
            "tags": [],
            "needs_background": "light"
          }
        }
      ]
    },
    {
      "cell_type": "markdown",
      "metadata": {
        "id": "jOBDC0awnzid"
      },
      "source": [
        "#### Evaluation"
      ]
    },
    {
      "cell_type": "code",
      "metadata": {
        "colab": {
          "base_uri": "https://localhost:8080/",
          "height": 671
        },
        "id": "yHQ9YidqmivE",
        "outputId": "432cfa5f-b246-4a0a-93e1-5d40ce84043a"
      },
      "source": [
        "# La méthode pour prédire lors de l'utilisation des réseaux de neurones est 'predict_classes'\n",
        "y_pred=model.predict_classes(X_test)\n",
        "show_classification_report(y_pred, y_test)\n",
        "show_confusion_matrix(y_pred,y_test)"
      ],
      "execution_count": null,
      "outputs": [
        {
          "output_type": "stream",
          "text": [
            "/usr/local/lib/python3.7/dist-packages/keras/engine/sequential.py:450: UserWarning: `model.predict_classes()` is deprecated and will be removed after 2021-01-01. Please use instead:* `np.argmax(model.predict(x), axis=-1)`,   if your model does multi-class classification   (e.g. if it uses a `softmax` last-layer activation).* `(model.predict(x) > 0.5).astype(\"int32\")`,   if your model does binary classification   (e.g. if it uses a `sigmoid` last-layer activation).\n",
            "  warnings.warn('`model.predict_classes()` is deprecated and '\n"
          ],
          "name": "stderr"
        },
        {
          "output_type": "stream",
          "text": [
            "              precision    recall  f1-score   support\n",
            "\n",
            "           0       0.88      0.79      0.84        29\n",
            "           1       0.82      0.90      0.86        31\n",
            "\n",
            "    accuracy                           0.85        60\n",
            "   macro avg       0.85      0.85      0.85        60\n",
            "weighted avg       0.85      0.85      0.85        60\n",
            "\n"
          ],
          "name": "stdout"
        },
        {
          "output_type": "display_data",
          "data": {
            "image/png": "[encoded data removed]",
            "text/plain": [
              "<Figure size 576x576 with 2 Axes>"
            ]
          },
          "metadata": {
            "tags": [],
            "needs_background": "light"
          }
        }
      ]
    },
    {
      "cell_type": "markdown",
      "metadata": {
        "id": "sjGGEK_Eomeq"
      },
      "source": [
        "### BERT"
      ]
    },
    {
      "cell_type": "code",
      "metadata": {
        "colab": {
          "base_uri": "https://localhost:8080/"
        },
        "id": "AJ5wXRNMxfg0",
        "outputId": "59573894-1d9e-4026-97bf-369cfc9166f8"
      },
      "source": [
        " encoded_batch['input_ids'].shape"
      ],
      "execution_count": null,
      "outputs": [
        {
          "output_type": "execute_result",
          "data": {
            "text/plain": [
              "torch.Size([200, 84])"
            ]
          },
          "metadata": {
            "tags": []
          },
          "execution_count": 385
        }
      ]
    },
    {
      "cell_type": "code",
      "metadata": {
        "colab": {
          "base_uri": "https://localhost:8080/"
        },
        "id": "9DU89VRrmi0H",
        "outputId": "f2c7691c-bc13-4137-8a63-127444759ae6"
      },
      "source": [
        "sentiments = torch.tensor(df_clean['label'])\n",
        "sentiments"
      ],
      "execution_count": null,
      "outputs": [
        {
          "output_type": "execute_result",
          "data": {
            "text/plain": [
              "tensor([1, 1, 1, 1, 1, 1, 1, 1, 1, 1, 1, 1, 1, 1, 1, 1, 1, 1, 1, 1, 1, 1, 1, 1,\n",
              "        1, 1, 1, 1, 1, 1, 1, 1, 1, 1, 1, 1, 1, 1, 1, 1, 1, 1, 1, 1, 1, 1, 1, 1,\n",
              "        1, 1, 1, 1, 1, 1, 1, 1, 1, 1, 1, 1, 1, 1, 1, 1, 1, 1, 1, 1, 1, 1, 1, 1,\n",
              "        1, 1, 1, 1, 1, 1, 1, 1, 1, 1, 1, 1, 1, 1, 1, 1, 1, 1, 1, 1, 1, 1, 1, 1,\n",
              "        1, 1, 1, 1, 0, 0, 0, 0, 0, 0, 0, 0, 0, 0, 0, 0, 0, 0, 0, 0, 0, 0, 0, 0,\n",
              "        0, 0, 0, 0, 0, 0, 0, 0, 0, 0, 0, 0, 0, 0, 0, 0, 0, 0, 0, 0, 0, 0, 0, 0,\n",
              "        0, 0, 0, 0, 0, 0, 0, 0, 0, 0, 0, 0, 0, 0, 0, 0, 0, 0, 0, 0, 0, 0, 0, 0,\n",
              "        0, 0, 0, 0, 0, 0, 0, 0, 0, 0, 0, 0, 0, 0, 0, 0, 0, 0, 0, 0, 0, 0, 0, 0,\n",
              "        0, 0, 0, 0, 0, 0, 0, 0])"
            ]
          },
          "metadata": {
            "tags": []
          },
          "execution_count": 368
        }
      ]
    },
    {
      "cell_type": "code",
      "metadata": {
        "id": "CreOfd7Zxsdp"
      },
      "source": [
        "X_data= pd.DataFrame(encoded_batch['input_ids'].numpy())\n",
        "Y_data=df_clean['label']\n",
        "\n",
        "from sklearn.model_selection import train_test_split\n",
        "X_train, X_test, y_train, y_test = train_test_split(X_data, Y_data, test_size=0.30, random_state=42)"
      ],
      "execution_count": null,
      "outputs": []
    },
    {
      "cell_type": "code",
      "metadata": {
        "colab": {
          "base_uri": "https://localhost:8080/"
        },
        "id": "3zGYRwAhyT5Q",
        "outputId": "edbe6a70-c391-4f5c-91df-00957b5e7e6f"
      },
      "source": [
        "from sklearn.linear_model import LogisticRegression\n",
        "clf = LogisticRegression(max_iter=10000)\n",
        "clf.fit(X_train, y_train)\n",
        "print(f'Accuracy on Train is: {clf.score(X_train, y_train)}')"
      ],
      "execution_count": null,
      "outputs": [
        {
          "output_type": "stream",
          "text": [
            "Accuracy on Train is: 0.9071428571428571\n"
          ],
          "name": "stdout"
        }
      ]
    },
    {
      "cell_type": "markdown",
      "metadata": {
        "id": "feHDyW3wvTbj"
      },
      "source": [
        "#### Evaluation"
      ]
    },
    {
      "cell_type": "code",
      "metadata": {
        "colab": {
          "base_uri": "https://localhost:8080/",
          "height": 657
        },
        "id": "zZ4Y_QjDr0gD",
        "outputId": "0e534fec-792d-4844-a1ff-368360924546"
      },
      "source": [
        "print(f'Accuracy on Test is: {clf.score(X_test, y_test)}\\n')\n",
        "y_pred=clf.predict(X_test)\n",
        "show_classification_report(y_pred, y_test)\n",
        "show_confusion_matrix(y_pred,y_test)"
      ],
      "execution_count": null,
      "outputs": [
        {
          "output_type": "stream",
          "text": [
            "Accuracy on Test is: 0.6166666666666667\n",
            "\n",
            "              precision    recall  f1-score   support\n",
            "\n",
            "           0       0.62      0.55      0.58        29\n",
            "           1       0.62      0.68      0.65        31\n",
            "\n",
            "    accuracy                           0.62        60\n",
            "   macro avg       0.62      0.61      0.61        60\n",
            "weighted avg       0.62      0.62      0.62        60\n",
            "\n"
          ],
          "name": "stdout"
        },
        {
          "output_type": "display_data",
          "data": {
            "image/png": "[encoded data removed]",
            "text/plain": [
              "<Figure size 576x576 with 2 Axes>"
            ]
          },
          "metadata": {
            "tags": [],
            "needs_background": "light"
          }
        }
      ]
    },
    {
      "cell_type": "markdown",
      "metadata": {
        "id": "haxE_OQdVE2v"
      },
      "source": [
        "### Tableau Comparatif\n",
        "\n",
        "|  Featurisation et Modèle           | Accuracy sur Test      |\n",
        "| ------------- ---------------------|-------------- ---------|\n",
        "| TFIDF avec Logistic Regression     | 91.66%                 |\n",
        "| Word2Vec avec LSTM                 | 90%                    |\n",
        "| BERT avec Logistic Regression      | 61%                    |\n",
        "\n",
        "\n",
        "\n"
      ]
    },
    {
      "cell_type": "markdown",
      "metadata": {
        "id": "Psok8ERJybcs"
      },
      "source": [
        "## En analysant les différentes métriques en plus de l'accuracy, on observe que la featurisation avec TFIDF et Word2vec donne de très bons résultats avec une accuracy de 90%, avec un taux de faux positifs/négatifs faible. Pour ce qui concerne BERT, l'accuracy n'est pas optimale. Ceci peut être dû au classifieur binaire choisi.  Une voie à explorer est l'utilisation du classifieur BERT *CamembertForSequenceClassification* "
      ]
    },
    {
      "cell_type": "code",
      "metadata": {
        "id": "iccD0h7gr0pp"
      },
      "source": [
        ""
      ],
      "execution_count": null,
      "outputs": []
    }
  ]
}